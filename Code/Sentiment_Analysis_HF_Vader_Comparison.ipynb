{
 "cells": [
  {
   "cell_type": "markdown",
   "id": "504ed2f5",
   "metadata": {},
   "source": [
    "Reference: https://github.com/chuachinhon/practical_nlp/blob/master/notebooks/1.0_speech_sentiment_cch.ipynb"
   ]
  },
  {
   "cell_type": "code",
   "execution_count": 276,
   "id": "2795cf80",
   "metadata": {},
   "outputs": [],
   "source": [
    "import nltk\n",
    "from nltk.corpus import PlaintextCorpusReader\n",
    "import matplotlib as mpl\n",
    "import pandas as pd\n",
    "import numpy as np\n",
    "import re\n",
    "from transformers import pipeline"
   ]
  },
  {
   "cell_type": "code",
   "execution_count": 277,
   "id": "5293c4fd",
   "metadata": {},
   "outputs": [],
   "source": [
    "# Define the file directory\n",
    "file_directory = '..\\\\Dataset\\\\'\n",
    "\n",
    "# Read a single file \n",
    "with open(file_directory + '2022_eng.txt', 'r', encoding=\"utf8\") as file_to_read:\n",
    "    df = file_to_read.read()"
   ]
  },
  {
   "cell_type": "markdown",
   "id": "55c7098b",
   "metadata": {},
   "source": [
    "**Issues**\n",
    "- Hugging Face pipeline can only deal with max 512 tokens. Our paragraphs are too long and hence, need to convert to sentences for hugging face."
   ]
  },
  {
   "cell_type": "code",
   "execution_count": 11,
   "id": "abf27234",
   "metadata": {},
   "outputs": [],
   "source": [
    "# Convert into dataframes, split by sentences\n",
    "df = (pd.DataFrame(df.split(\"\\n\\n\"))).rename(columns={0: \"Paras\"})"
   ]
  },
  {
   "cell_type": "code",
   "execution_count": 12,
   "id": "e10ceda5",
   "metadata": {},
   "outputs": [],
   "source": [
    "# Pre-processing\n",
    "def clean_text(text):\n",
    "    text = text.lower()\n",
    "    text = re.sub(r\"\\n\", \" \", text) #replace \"\\n\" with \" \"\n",
    "    text = re.sub(r\"\\W\", \" \", text) #replaces non-word characters like ',' with \" \"\n",
    "    text = re.sub(r\"^\\d+\\s|\\s\\d+\\s|\\s\\d+$\", \" \", text) #removes digits e.g. 16 years >> years\n",
    "    text = text.strip(\" \")\n",
    "    text = re.sub(r\"[^\\w\\s]\", \"\", text)\n",
    "    return text\n",
    "\n",
    "df[\"Clean_Text\"] = df['Paras'].map(lambda text: clean_text(text))"
   ]
  },
  {
   "cell_type": "markdown",
   "id": "59920f19",
   "metadata": {},
   "source": [
    "**Sentiment Analysis**"
   ]
  },
  {
   "cell_type": "code",
   "execution_count": 213,
   "id": "e5dae19c",
   "metadata": {},
   "outputs": [],
   "source": [
    "corpus = list(df['Clean_Text'].values)"
   ]
  },
  {
   "cell_type": "code",
   "execution_count": 214,
   "id": "8a16535b",
   "metadata": {},
   "outputs": [],
   "source": [
    "nlp_sentiment = pipeline(\"sentiment-analysis\", model= \"distilbert-base-uncased-finetuned-sst-2-english\" )  \n",
    "#using 'sentiment-analysis'same as \"text-classification\" "
   ]
  },
  {
   "cell_type": "code",
   "execution_count": 1,
   "id": "17ae6438",
   "metadata": {},
   "outputs": [],
   "source": [
    "#df[\"Sentiment\"] = nlp_sentiment(corpus)"
   ]
  },
  {
   "attachments": {
    "SentimentAnalysisError.JPG": {
     "image/jpeg": "[encoded data removed]"
    }
   },
   "cell_type": "markdown",
   "id": "5dd23274",
   "metadata": {},
   "source": [
    "Running the above quote will result in the error below\n",
    "![SentimentAnalysisError.JPG](attachment:SentimentAnalysisError.JPG)"
   ]
  },
  {
   "cell_type": "code",
   "execution_count": null,
   "id": "6c63360c",
   "metadata": {},
   "outputs": [],
   "source": [
    "# Extract pipeline's sentiment analysis output that consists of a label and a score into separate columns\n",
    "#df['Sentiment_Label'] = [x.get('label') for x in df['Sentiment']]\n",
    "#df['Sentiment_Score'] = [x.get('score') for x in df['Sentiment']]"
   ]
  },
  {
   "cell_type": "code",
   "execution_count": null,
   "id": "48208d2d",
   "metadata": {},
   "outputs": [],
   "source": []
  },
  {
   "cell_type": "markdown",
   "id": "5b175249",
   "metadata": {},
   "source": [
    "### Sentiment Analysis Attempt 2\n",
    "- Overcoming the issues on max length"
   ]
  },
  {
   "cell_type": "code",
   "execution_count": 343,
   "id": "96bb02a2",
   "metadata": {},
   "outputs": [],
   "source": [
    "# Define the file directory\n",
    "file_directory = '..\\\\Dataset\\\\'\n",
    "\n",
    "# Read a single file \n",
    "with open(file_directory + '2022_eng.txt', 'r', encoding=\"utf8\") as file_to_read:\n",
    "    df = file_to_read.read()\n",
    "    \n",
    "# Convert into dataframes, split by paragraphs\n",
    "df = (pd.DataFrame(df.split(\"\\n\\n\"))).rename(columns={0: \"Paragraphs\"})\n",
    "\n",
    "#Create new column to store Paragraph Numbers \n",
    "df['ParasNo'] = df.index"
   ]
  },
  {
   "cell_type": "code",
   "execution_count": 344,
   "id": "1e5cad12",
   "metadata": {},
   "outputs": [],
   "source": [
    "import numpy as np\n",
    "from itertools import chain\n",
    "\n",
    "# return list from series of comma-separated strings\n",
    "def chainer(s):\n",
    "    return list(chain.from_iterable(s.str.split('.')))\n",
    "\n",
    "# calculate lengths of splits using full stops as we are looking for sentences\n",
    "lens = df['Paragraphs'].str.split('.').map(len)\n",
    "\n",
    "# create new dataframe, repeating or chaining as appropriate\n",
    "df = pd.DataFrame({'ParasNo': np.repeat(df['ParasNo'], lens),\n",
    "                    'Sentences': chainer(df['Paragraphs'])}) \n",
    "\n",
    "df.reset_index(inplace=True, drop=True)"
   ]
  },
  {
   "cell_type": "code",
   "execution_count": 345,
   "id": "db79064e",
   "metadata": {},
   "outputs": [],
   "source": [
    "# Pre-processing\n",
    "\n",
    "#Drop rows with empty strings \n",
    "df.drop(index=df[df['Sentences'] == ''].index, inplace=True)\n",
    "df.reset_index(inplace=True, drop=True)\n",
    "\n",
    "def clean_text(text):\n",
    "    text = text.lower()\n",
    "    text = re.sub(r\"\\n\", \" \", text) #replace \"\\n\" with \" \"\n",
    "    text = re.sub(r\"\\W\", \" \", text) #replaces non-word characters like ',' with \" \"\n",
    "    text = re.sub(r\"^\\d+\\s|\\s\\d+\\s|\\s\\d+$\", \" \", text) #removes digits e.g. 16 years >> years\n",
    "    text = text.strip(\" \")\n",
    "    text = re.sub(r\"[^\\w\\s]\", \"\", text)\n",
    "    return text\n",
    "\n",
    "df[\"Clean_Text\"] = df['Sentences'].map(lambda text: clean_text(text))"
   ]
  },
  {
   "cell_type": "code",
   "execution_count": 346,
   "id": "2de3b3ee",
   "metadata": {},
   "outputs": [
    {
     "data": {
      "text/html": [
       "<div>\n",
       "<style scoped>\n",
       "    .dataframe tbody tr th:only-of-type {\n",
       "        vertical-align: middle;\n",
       "    }\n",
       "\n",
       "    .dataframe tbody tr th {\n",
       "        vertical-align: top;\n",
       "    }\n",
       "\n",
       "    .dataframe thead th {\n",
       "        text-align: right;\n",
       "    }\n",
       "</style>\n",
       "<table border=\"1\" class=\"dataframe\">\n",
       "  <thead>\n",
       "    <tr style=\"text-align: right;\">\n",
       "      <th></th>\n",
       "      <th>ParasNo</th>\n",
       "      <th>Sentences</th>\n",
       "      <th>Clean_Text</th>\n",
       "    </tr>\n",
       "  </thead>\n",
       "  <tbody>\n",
       "    <tr>\n",
       "      <th>0</th>\n",
       "      <td>0</td>\n",
       "      <td>My fellow Singaporeans</td>\n",
       "      <td>my fellow singaporeans</td>\n",
       "    </tr>\n",
       "    <tr>\n",
       "      <th>1</th>\n",
       "      <td>1</td>\n",
       "      <td>Good evening</td>\n",
       "      <td>good evening</td>\n",
       "    </tr>\n",
       "    <tr>\n",
       "      <th>2</th>\n",
       "      <td>2</td>\n",
       "      <td>COVID-19</td>\n",
       "      <td>covid</td>\n",
       "    </tr>\n",
       "    <tr>\n",
       "      <th>3</th>\n",
       "      <td>3</td>\n",
       "      <td>We have come a long way in our fight against C...</td>\n",
       "      <td>we have come a long way in our fight against c...</td>\n",
       "    </tr>\n",
       "    <tr>\n",
       "      <th>4</th>\n",
       "      <td>3</td>\n",
       "      <td>We are now learning to live with the virus</td>\n",
       "      <td>we are now learning to live with the virus</td>\n",
       "    </tr>\n",
       "  </tbody>\n",
       "</table>\n",
       "</div>"
      ],
      "text/plain": [
       "   ParasNo                                          Sentences  \\\n",
       "0        0                             My fellow Singaporeans   \n",
       "1        1                                       Good evening   \n",
       "2        2                                           COVID-19   \n",
       "3        3  We have come a long way in our fight against C...   \n",
       "4        3         We are now learning to live with the virus   \n",
       "\n",
       "                                          Clean_Text  \n",
       "0                             my fellow singaporeans  \n",
       "1                                       good evening  \n",
       "2                                              covid  \n",
       "3  we have come a long way in our fight against c...  \n",
       "4         we are now learning to live with the virus  "
      ]
     },
     "execution_count": 346,
     "metadata": {},
     "output_type": "execute_result"
    }
   ],
   "source": [
    "df.head()"
   ]
  },
  {
   "cell_type": "markdown",
   "id": "35242b5c",
   "metadata": {},
   "source": [
    "Sentiment Analysis"
   ]
  },
  {
   "cell_type": "code",
   "execution_count": 347,
   "id": "29b1f992",
   "metadata": {},
   "outputs": [],
   "source": [
    "corpus = list(df['Clean_Text'].values)"
   ]
  },
  {
   "cell_type": "code",
   "execution_count": 348,
   "id": "916fc170",
   "metadata": {},
   "outputs": [],
   "source": [
    "nlp_sentiment = pipeline(\"sentiment-analysis\", model = \"distilbert-base-uncased-finetuned-sst-2-english\")"
   ]
  },
  {
   "cell_type": "code",
   "execution_count": 349,
   "id": "a8f560f5",
   "metadata": {},
   "outputs": [
    {
     "name": "stdout",
     "output_type": "stream",
     "text": [
      "Wall time: 34.4 s\n"
     ]
    }
   ],
   "source": [
    "%%time\n",
    "df[\"Sentiment\"] = nlp_sentiment(corpus)"
   ]
  },
  {
   "cell_type": "code",
   "execution_count": 350,
   "id": "ee5d0d6f",
   "metadata": {},
   "outputs": [],
   "source": [
    "# Extract pipeline's sentiment analysis output that consists of a label and a score into separate columns\n",
    "\n",
    "df['Sentiment_Label'] = [x.get('label') for x in df['Sentiment']]\n",
    "df['Sentiment_Score'] = [x.get('score') for x in df['Sentiment']]"
   ]
  },
  {
   "cell_type": "code",
   "execution_count": 351,
   "id": "b70ef244",
   "metadata": {},
   "outputs": [
    {
     "data": {
      "text/html": [
       "<div>\n",
       "<style scoped>\n",
       "    .dataframe tbody tr th:only-of-type {\n",
       "        vertical-align: middle;\n",
       "    }\n",
       "\n",
       "    .dataframe tbody tr th {\n",
       "        vertical-align: top;\n",
       "    }\n",
       "\n",
       "    .dataframe thead th {\n",
       "        text-align: right;\n",
       "    }\n",
       "</style>\n",
       "<table border=\"1\" class=\"dataframe\">\n",
       "  <thead>\n",
       "    <tr style=\"text-align: right;\">\n",
       "      <th></th>\n",
       "      <th>ParasNo</th>\n",
       "      <th>Sentences</th>\n",
       "      <th>Clean_Text</th>\n",
       "      <th>Sentiment</th>\n",
       "      <th>Sentiment_Label</th>\n",
       "      <th>Sentiment_Score</th>\n",
       "    </tr>\n",
       "  </thead>\n",
       "  <tbody>\n",
       "    <tr>\n",
       "      <th>0</th>\n",
       "      <td>0</td>\n",
       "      <td>My fellow Singaporeans</td>\n",
       "      <td>my fellow singaporeans</td>\n",
       "      <td>{'label': 'POSITIVE', 'score': 0.9980775117874...</td>\n",
       "      <td>POSITIVE</td>\n",
       "      <td>0.998078</td>\n",
       "    </tr>\n",
       "    <tr>\n",
       "      <th>1</th>\n",
       "      <td>1</td>\n",
       "      <td>Good evening</td>\n",
       "      <td>good evening</td>\n",
       "      <td>{'label': 'POSITIVE', 'score': 0.9998613595962...</td>\n",
       "      <td>POSITIVE</td>\n",
       "      <td>0.999861</td>\n",
       "    </tr>\n",
       "    <tr>\n",
       "      <th>2</th>\n",
       "      <td>2</td>\n",
       "      <td>COVID-19</td>\n",
       "      <td>covid</td>\n",
       "      <td>{'label': 'POSITIVE', 'score': 0.9856761693954...</td>\n",
       "      <td>POSITIVE</td>\n",
       "      <td>0.985676</td>\n",
       "    </tr>\n",
       "    <tr>\n",
       "      <th>3</th>\n",
       "      <td>3</td>\n",
       "      <td>We have come a long way in our fight against C...</td>\n",
       "      <td>we have come a long way in our fight against c...</td>\n",
       "      <td>{'label': 'POSITIVE', 'score': 0.9546213150024...</td>\n",
       "      <td>POSITIVE</td>\n",
       "      <td>0.954621</td>\n",
       "    </tr>\n",
       "    <tr>\n",
       "      <th>4</th>\n",
       "      <td>3</td>\n",
       "      <td>We are now learning to live with the virus</td>\n",
       "      <td>we are now learning to live with the virus</td>\n",
       "      <td>{'label': 'POSITIVE', 'score': 0.9938626289367...</td>\n",
       "      <td>POSITIVE</td>\n",
       "      <td>0.993863</td>\n",
       "    </tr>\n",
       "  </tbody>\n",
       "</table>\n",
       "</div>"
      ],
      "text/plain": [
       "   ParasNo                                          Sentences  \\\n",
       "0        0                             My fellow Singaporeans   \n",
       "1        1                                       Good evening   \n",
       "2        2                                           COVID-19   \n",
       "3        3  We have come a long way in our fight against C...   \n",
       "4        3         We are now learning to live with the virus   \n",
       "\n",
       "                                          Clean_Text  \\\n",
       "0                             my fellow singaporeans   \n",
       "1                                       good evening   \n",
       "2                                              covid   \n",
       "3  we have come a long way in our fight against c...   \n",
       "4         we are now learning to live with the virus   \n",
       "\n",
       "                                           Sentiment Sentiment_Label  \\\n",
       "0  {'label': 'POSITIVE', 'score': 0.9980775117874...        POSITIVE   \n",
       "1  {'label': 'POSITIVE', 'score': 0.9998613595962...        POSITIVE   \n",
       "2  {'label': 'POSITIVE', 'score': 0.9856761693954...        POSITIVE   \n",
       "3  {'label': 'POSITIVE', 'score': 0.9546213150024...        POSITIVE   \n",
       "4  {'label': 'POSITIVE', 'score': 0.9938626289367...        POSITIVE   \n",
       "\n",
       "   Sentiment_Score  \n",
       "0         0.998078  \n",
       "1         0.999861  \n",
       "2         0.985676  \n",
       "3         0.954621  \n",
       "4         0.993863  "
      ]
     },
     "execution_count": 351,
     "metadata": {},
     "output_type": "execute_result"
    }
   ],
   "source": [
    "df.head()"
   ]
  },
  {
   "cell_type": "code",
   "execution_count": 352,
   "id": "70a868f5",
   "metadata": {
    "scrolled": true
   },
   "outputs": [
    {
     "data": {
      "text/plain": [
       "POSITIVE    335\n",
       "NEGATIVE    214\n",
       "Name: Sentiment_Label, dtype: int64"
      ]
     },
     "execution_count": 352,
     "metadata": {},
     "output_type": "execute_result"
    }
   ],
   "source": [
    "df['Sentiment_Label'].value_counts()"
   ]
  },
  {
   "cell_type": "markdown",
   "id": "8cc758b9",
   "metadata": {},
   "source": [
    "Not sure if the below is alright.\n",
    "Each sentence has a sentiment label and score. I think that the score tells you how positive or negative it is.\n",
    "E.g. Sentiment_Label = Positive and Sentiment_Score = 0.957 means it is very very positive ; \n",
    "E.g. Sentiment_Label = Negative and Sentiment_Score = 0.788761 means it is very negative.\n",
    "\n",
    "Basically, if a paragraph has 5 sentences e.g. Paragraph 2, what I am doing is:\n",
    "1. Calculate how positive each sentence is. This entails:\n",
    "- Finding out which are the negative sentence \n",
    "- Then derive how positive it is\n",
    "- E.g., Para 2, Sentence 5. Since it is 0.788761 negative, it is 1-0.788.. = 0.21.. positive \n",
    "\n",
    "2. Thereafter, I will take the average of the scores to derive how positive of negative a paragraph is.\n",
    "The existing threshold used is >= 0.5 for positive and <0.5 for negative."
   ]
  },
  {
   "cell_type": "code",
   "execution_count": 353,
   "id": "3bbcc6b4",
   "metadata": {
    "scrolled": true
   },
   "outputs": [
    {
     "data": {
      "text/html": [
       "<div>\n",
       "<style scoped>\n",
       "    .dataframe tbody tr th:only-of-type {\n",
       "        vertical-align: middle;\n",
       "    }\n",
       "\n",
       "    .dataframe tbody tr th {\n",
       "        vertical-align: top;\n",
       "    }\n",
       "\n",
       "    .dataframe thead th {\n",
       "        text-align: right;\n",
       "    }\n",
       "</style>\n",
       "<table border=\"1\" class=\"dataframe\">\n",
       "  <thead>\n",
       "    <tr style=\"text-align: right;\">\n",
       "      <th></th>\n",
       "      <th>ParasNo</th>\n",
       "      <th>Sentences</th>\n",
       "      <th>Clean_Text</th>\n",
       "      <th>Sentiment</th>\n",
       "      <th>Sentiment_Label</th>\n",
       "      <th>Sentiment_Score</th>\n",
       "    </tr>\n",
       "  </thead>\n",
       "  <tbody>\n",
       "    <tr>\n",
       "      <th>3</th>\n",
       "      <td>3</td>\n",
       "      <td>We have come a long way in our fight against C...</td>\n",
       "      <td>we have come a long way in our fight against c...</td>\n",
       "      <td>{'label': 'POSITIVE', 'score': 0.9546213150024...</td>\n",
       "      <td>POSITIVE</td>\n",
       "      <td>0.954621</td>\n",
       "    </tr>\n",
       "    <tr>\n",
       "      <th>4</th>\n",
       "      <td>3</td>\n",
       "      <td>We are now learning to live with the virus</td>\n",
       "      <td>we are now learning to live with the virus</td>\n",
       "      <td>{'label': 'POSITIVE', 'score': 0.9938626289367...</td>\n",
       "      <td>POSITIVE</td>\n",
       "      <td>0.993863</td>\n",
       "    </tr>\n",
       "    <tr>\n",
       "      <th>5</th>\n",
       "      <td>3</td>\n",
       "      <td>With each infection wave, we have managed the...</td>\n",
       "      <td>with each infection wave  we have managed the ...</td>\n",
       "      <td>{'label': 'POSITIVE', 'score': 0.9479452967643...</td>\n",
       "      <td>POSITIVE</td>\n",
       "      <td>0.947945</td>\n",
       "    </tr>\n",
       "    <tr>\n",
       "      <th>6</th>\n",
       "      <td>3</td>\n",
       "      <td>The latest, the Omicron BA</td>\n",
       "      <td>the latest  the omicron ba</td>\n",
       "      <td>{'label': 'POSITIVE', 'score': 0.6443324685096...</td>\n",
       "      <td>POSITIVE</td>\n",
       "      <td>0.644332</td>\n",
       "    </tr>\n",
       "    <tr>\n",
       "      <th>7</th>\n",
       "      <td>3</td>\n",
       "      <td>5 wave, is now subsiding</td>\n",
       "      <td>wave  is now subsiding</td>\n",
       "      <td>{'label': 'NEGATIVE', 'score': 0.7887611389160...</td>\n",
       "      <td>NEGATIVE</td>\n",
       "      <td>0.788761</td>\n",
       "    </tr>\n",
       "  </tbody>\n",
       "</table>\n",
       "</div>"
      ],
      "text/plain": [
       "   ParasNo                                          Sentences  \\\n",
       "3        3  We have come a long way in our fight against C...   \n",
       "4        3         We are now learning to live with the virus   \n",
       "5        3   With each infection wave, we have managed the...   \n",
       "6        3                         The latest, the Omicron BA   \n",
       "7        3                           5 wave, is now subsiding   \n",
       "\n",
       "                                          Clean_Text  \\\n",
       "3  we have come a long way in our fight against c...   \n",
       "4         we are now learning to live with the virus   \n",
       "5  with each infection wave  we have managed the ...   \n",
       "6                         the latest  the omicron ba   \n",
       "7                             wave  is now subsiding   \n",
       "\n",
       "                                           Sentiment Sentiment_Label  \\\n",
       "3  {'label': 'POSITIVE', 'score': 0.9546213150024...        POSITIVE   \n",
       "4  {'label': 'POSITIVE', 'score': 0.9938626289367...        POSITIVE   \n",
       "5  {'label': 'POSITIVE', 'score': 0.9479452967643...        POSITIVE   \n",
       "6  {'label': 'POSITIVE', 'score': 0.6443324685096...        POSITIVE   \n",
       "7  {'label': 'NEGATIVE', 'score': 0.7887611389160...        NEGATIVE   \n",
       "\n",
       "   Sentiment_Score  \n",
       "3         0.954621  \n",
       "4         0.993863  \n",
       "5         0.947945  \n",
       "6         0.644332  \n",
       "7         0.788761  "
      ]
     },
     "execution_count": 353,
     "metadata": {},
     "output_type": "execute_result"
    }
   ],
   "source": [
    "#For illustration - can be removed later on\n",
    "df[df['ParasNo']==3]"
   ]
  },
  {
   "cell_type": "code",
   "execution_count": 354,
   "id": "aaa23d81",
   "metadata": {},
   "outputs": [
    {
     "data": {
      "text/plain": [
       "POSITIVE    73\n",
       "NEGATIVE    32\n",
       "Name: HF_Label, dtype: int64"
      ]
     },
     "execution_count": 354,
     "metadata": {},
     "output_type": "execute_result"
    }
   ],
   "source": [
    "#Create new column to store scores\n",
    "df['HF_Score'] = df['Sentiment_Score']\n",
    "\n",
    "#Update the scores' for rows of negative sentiment by converting it to the negative scale\n",
    "mask = (df['Sentiment_Label'] == 'NEGATIVE')\n",
    "df.loc[mask, 'HF_Score'] = - df['Sentiment_Score']\n",
    "\n",
    "#Take the average of the sentence scores and store in a new dataframe\n",
    "df_hf = df.groupby(['ParasNo']).mean('HF_Score')\n",
    "df_hf.drop(columns='Sentiment_Score',axis = 1, inplace=True)\n",
    "\n",
    "#Assign Sentiment Label for each paragraph where sentiment is positive if score >= 0.50, and negative otherwise. \n",
    "df_hf['HF_Label'] = np.where(df_hf['HF_Score']>=0, \"POSITIVE\",\"NEGATIVE\")\n",
    "df_hf['HF_Label'].value_counts()"
   ]
  },
  {
   "cell_type": "code",
   "execution_count": 355,
   "id": "9008e8a0",
   "metadata": {
    "scrolled": true
   },
   "outputs": [
    {
     "data": {
      "text/html": [
       "<div>\n",
       "<style scoped>\n",
       "    .dataframe tbody tr th:only-of-type {\n",
       "        vertical-align: middle;\n",
       "    }\n",
       "\n",
       "    .dataframe tbody tr th {\n",
       "        vertical-align: top;\n",
       "    }\n",
       "\n",
       "    .dataframe thead th {\n",
       "        text-align: right;\n",
       "    }\n",
       "</style>\n",
       "<table border=\"1\" class=\"dataframe\">\n",
       "  <thead>\n",
       "    <tr style=\"text-align: right;\">\n",
       "      <th></th>\n",
       "      <th>HF_Score</th>\n",
       "      <th>HF_Label</th>\n",
       "    </tr>\n",
       "    <tr>\n",
       "      <th>ParasNo</th>\n",
       "      <th></th>\n",
       "      <th></th>\n",
       "    </tr>\n",
       "  </thead>\n",
       "  <tbody>\n",
       "    <tr>\n",
       "      <th>0</th>\n",
       "      <td>0.998078</td>\n",
       "      <td>POSITIVE</td>\n",
       "    </tr>\n",
       "    <tr>\n",
       "      <th>1</th>\n",
       "      <td>0.999861</td>\n",
       "      <td>POSITIVE</td>\n",
       "    </tr>\n",
       "    <tr>\n",
       "      <th>2</th>\n",
       "      <td>0.985676</td>\n",
       "      <td>POSITIVE</td>\n",
       "    </tr>\n",
       "    <tr>\n",
       "      <th>3</th>\n",
       "      <td>0.550400</td>\n",
       "      <td>POSITIVE</td>\n",
       "    </tr>\n",
       "    <tr>\n",
       "      <th>4</th>\n",
       "      <td>-0.885459</td>\n",
       "      <td>NEGATIVE</td>\n",
       "    </tr>\n",
       "  </tbody>\n",
       "</table>\n",
       "</div>"
      ],
      "text/plain": [
       "         HF_Score  HF_Label\n",
       "ParasNo                    \n",
       "0        0.998078  POSITIVE\n",
       "1        0.999861  POSITIVE\n",
       "2        0.985676  POSITIVE\n",
       "3        0.550400  POSITIVE\n",
       "4       -0.885459  NEGATIVE"
      ]
     },
     "execution_count": 355,
     "metadata": {},
     "output_type": "execute_result"
    }
   ],
   "source": [
    "df_hf.head()"
   ]
  },
  {
   "cell_type": "code",
   "execution_count": 139,
   "id": "6443da5d",
   "metadata": {},
   "outputs": [],
   "source": []
  },
  {
   "cell_type": "markdown",
   "id": "9222e4e6",
   "metadata": {},
   "source": [
    "### Plots"
   ]
  },
  {
   "cell_type": "code",
   "execution_count": 356,
   "id": "d10e6c9b",
   "metadata": {},
   "outputs": [],
   "source": [
    "from __future__ import print_function\n",
    "\n",
    "import ipywidgets as widgets\n",
    "import matplotlib as mpl\n",
    "import pandas as pd\n",
    "import plotly\n",
    "import plotly_express as px\n",
    "import plotly.graph_objects as go\n",
    "\n",
    "mpl.rcParams[\"figure.dpi\"] = 300\n",
    "%matplotlib inline\n",
    "%config InlineBackend.figure_format ='retina'"
   ]
  },
  {
   "cell_type": "code",
   "execution_count": 357,
   "id": "56e23720",
   "metadata": {},
   "outputs": [
    {
     "data": {
      "application/vnd.plotly.v1+json": {
       "config": {
        "plotlyServerURL": "https://plot.ly"
       },
       "data": [
        {
         "colorscale": [
          [
           0,
           "rgb(103,0,31)"
          ],
          [
           0.1,
           "rgb(178,24,43)"
          ],
          [
           0.2,
           "rgb(214,96,77)"
          ],
          [
           0.3,
           "rgb(244,165,130)"
          ],
          [
           0.4,
           "rgb(253,219,199)"
          ],
          [
           0.5,
           "rgb(247,247,247)"
          ],
          [
           0.6,
           "rgb(209,229,240)"
          ],
          [
           0.7,
           "rgb(146,197,222)"
          ],
          [
           0.8,
           "rgb(67,147,195)"
          ],
          [
           0.9,
           "rgb(33,102,172)"
          ],
          [
           1,
           "rgb(5,48,97)"
          ]
         ],
         "type": "heatmap",
         "x": [
          0,
          1,
          2,
          3,
          4,
          5,
          6,
          7,
          8,
          9,
          10,
          11,
          12,
          13,
          14,
          15,
          16,
          17,
          18,
          19,
          20,
          21,
          22,
          23,
          24,
          25,
          26,
          27,
          28,
          29,
          30,
          31,
          32,
          33,
          34,
          35,
          36,
          37,
          38,
          39,
          40,
          41,
          42,
          43,
          44,
          45,
          46,
          47,
          48,
          49,
          50,
          51,
          52,
          53,
          54,
          55,
          56,
          57,
          58,
          59,
          60,
          61,
          62,
          63,
          64,
          65,
          66,
          67,
          68,
          69,
          70,
          71,
          72,
          73,
          74,
          75,
          76,
          77,
          78,
          79,
          80,
          81,
          82,
          83,
          84,
          85,
          86,
          87,
          88,
          89,
          90,
          91,
          92,
          93,
          94,
          95,
          96,
          97,
          98,
          99,
          100,
          101,
          102,
          103,
          104
         ],
         "y": [
          "POSITIVE",
          "POSITIVE",
          "POSITIVE",
          "POSITIVE",
          "NEGATIVE",
          "NEGATIVE",
          "POSITIVE",
          "POSITIVE",
          "POSITIVE",
          "POSITIVE",
          "POSITIVE",
          "POSITIVE",
          "NEGATIVE",
          "POSITIVE",
          "POSITIVE",
          "POSITIVE",
          "POSITIVE",
          "NEGATIVE",
          "NEGATIVE",
          "NEGATIVE",
          "POSITIVE",
          "NEGATIVE",
          "POSITIVE",
          "NEGATIVE",
          "NEGATIVE",
          "NEGATIVE",
          "NEGATIVE",
          "POSITIVE",
          "NEGATIVE",
          "POSITIVE",
          "NEGATIVE",
          "NEGATIVE",
          "POSITIVE",
          "NEGATIVE",
          "POSITIVE",
          "POSITIVE",
          "NEGATIVE",
          "POSITIVE",
          "POSITIVE",
          "POSITIVE",
          "POSITIVE",
          "NEGATIVE",
          "NEGATIVE",
          "POSITIVE",
          "NEGATIVE",
          "NEGATIVE",
          "POSITIVE",
          "NEGATIVE",
          "POSITIVE",
          "POSITIVE",
          "NEGATIVE",
          "NEGATIVE",
          "NEGATIVE",
          "NEGATIVE",
          "POSITIVE",
          "POSITIVE",
          "NEGATIVE",
          "POSITIVE",
          "POSITIVE",
          "POSITIVE",
          "NEGATIVE",
          "POSITIVE",
          "POSITIVE",
          "POSITIVE",
          "POSITIVE",
          "POSITIVE",
          "POSITIVE",
          "POSITIVE",
          "POSITIVE",
          "POSITIVE",
          "POSITIVE",
          "NEGATIVE",
          "POSITIVE",
          "POSITIVE",
          "POSITIVE",
          "NEGATIVE",
          "POSITIVE",
          "POSITIVE",
          "POSITIVE",
          "POSITIVE",
          "POSITIVE",
          "NEGATIVE",
          "POSITIVE",
          "POSITIVE",
          "POSITIVE",
          "POSITIVE",
          "POSITIVE",
          "POSITIVE",
          "POSITIVE",
          "POSITIVE",
          "POSITIVE",
          "POSITIVE",
          "POSITIVE",
          "POSITIVE",
          "POSITIVE",
          "POSITIVE",
          "NEGATIVE",
          "POSITIVE",
          "NEGATIVE",
          "POSITIVE",
          "POSITIVE",
          "POSITIVE",
          "POSITIVE",
          "POSITIVE",
          "POSITIVE"
         ],
         "z": [
          0.9980775117874146,
          0.9998613595962524,
          0.9856761693954468,
          0.5504001140594482,
          -0.8854592800140381,
          -0.4983620345592499,
          0.3282365083694458,
          0.2784480963434492,
          0.9994806349277496,
          0.9983764886856079,
          0.6951137681802114,
          0.13674019575119017,
          -0.41086718710986053,
          0.23484096924463907,
          0.9989596605300903,
          0.9949040412902832,
          0.5912795066833496,
          -0.9952547550201416,
          -0.39193833536571926,
          -0.17953713851816513,
          0.2215336377804096,
          -0.9473707675933838,
          0.04045984148979187,
          -0.24983076006174088,
          -0.11862164239088695,
          -0.44415774941444397,
          -0.33735281229019165,
          0.9954310655593872,
          -0.3332245548566182,
          0.39519597589969635,
          -0.9706960519154867,
          -0.10194163189993964,
          0.4057832658290863,
          -0.02477872371673584,
          0.5501460433006287,
          0.7968758940696716,
          -0.22624749690294266,
          0.9951560795307159,
          0.4734757939974467,
          0.21950331926345826,
          0.2502788305282593,
          -0.11616137623786926,
          -0.1349938909212748,
          0.9785232742627462,
          -0.5822890639305115,
          -0.5982526898384094,
          0.34547074635823566,
          -0.9094944000244141,
          0.31078312794367474,
          0.33498672644297284,
          -0.06962527334690094,
          -0.6253975629806519,
          -0.004813075065612793,
          -0.3280657132466634,
          0.9255935351053873,
          0.3312848210334778,
          -0.7126126951641507,
          0.06782269477844238,
          0.9524852633476257,
          0.9996579885482788,
          -0.5254148244857788,
          0.9940615057945251,
          0.9769987463951111,
          0.5886469682057699,
          0.10525128576490614,
          0.5977470874786377,
          0.4259942429406302,
          0.9949900358915329,
          0.5802766361901927,
          0.9434721991419792,
          0.7130877460752215,
          -0.7706043720245361,
          0.9996113777160645,
          0.3521358172098796,
          0.6706438759962717,
          -0.9820745438337326,
          0.07847664505243301,
          0.4122934460639954,
          0.7733858823776245,
          0.27706230128252946,
          0.9996784925460815,
          -0.8861056566238403,
          0.9994066953659058,
          0.9995582699775696,
          0.3417278528213501,
          0.9913205504417419,
          0.996414840221405,
          0.9933537840843201,
          0.9988534897565842,
          0.9901464581489563,
          0.0018013715744018555,
          0.27780442535877226,
          0.013970397412776947,
          0.9942552804946899,
          0.9975615739822388,
          0.9989342093467712,
          -0.9884724020957947,
          0.6658515830834707,
          -0.47940769365855623,
          0.04939649999141693,
          0.9499087333679199,
          0.33122575283050537,
          0.7113975627081734,
          0.9778531312942504,
          0.9998629093170166
         ]
        }
       ],
       "layout": {
        "autosize": false,
        "height": 600,
        "template": {
         "data": {
          "bar": [
           {
            "error_x": {
             "color": "#2a3f5f"
            },
            "error_y": {
             "color": "#2a3f5f"
            },
            "marker": {
             "line": {
              "color": "#E5ECF6",
              "width": 0.5
             },
             "pattern": {
              "fillmode": "overlay",
              "size": 10,
              "solidity": 0.2
             }
            },
            "type": "bar"
           }
          ],
          "barpolar": [
           {
            "marker": {
             "line": {
              "color": "#E5ECF6",
              "width": 0.5
             },
             "pattern": {
              "fillmode": "overlay",
              "size": 10,
              "solidity": 0.2
             }
            },
            "type": "barpolar"
           }
          ],
          "carpet": [
           {
            "aaxis": {
             "endlinecolor": "#2a3f5f",
             "gridcolor": "white",
             "linecolor": "white",
             "minorgridcolor": "white",
             "startlinecolor": "#2a3f5f"
            },
            "baxis": {
             "endlinecolor": "#2a3f5f",
             "gridcolor": "white",
             "linecolor": "white",
             "minorgridcolor": "white",
             "startlinecolor": "#2a3f5f"
            },
            "type": "carpet"
           }
          ],
          "choropleth": [
           {
            "colorbar": {
             "outlinewidth": 0,
             "ticks": ""
            },
            "type": "choropleth"
           }
          ],
          "contour": [
           {
            "colorbar": {
             "outlinewidth": 0,
             "ticks": ""
            },
            "colorscale": [
             [
              0,
              "#0d0887"
             ],
             [
              0.1111111111111111,
              "#46039f"
             ],
             [
              0.2222222222222222,
              "#7201a8"
             ],
             [
              0.3333333333333333,
              "#9c179e"
             ],
             [
              0.4444444444444444,
              "#bd3786"
             ],
             [
              0.5555555555555556,
              "#d8576b"
             ],
             [
              0.6666666666666666,
              "#ed7953"
             ],
             [
              0.7777777777777778,
              "#fb9f3a"
             ],
             [
              0.8888888888888888,
              "#fdca26"
             ],
             [
              1,
              "#f0f921"
             ]
            ],
            "type": "contour"
           }
          ],
          "contourcarpet": [
           {
            "colorbar": {
             "outlinewidth": 0,
             "ticks": ""
            },
            "type": "contourcarpet"
           }
          ],
          "heatmap": [
           {
            "colorbar": {
             "outlinewidth": 0,
             "ticks": ""
            },
            "colorscale": [
             [
              0,
              "#0d0887"
             ],
             [
              0.1111111111111111,
              "#46039f"
             ],
             [
              0.2222222222222222,
              "#7201a8"
             ],
             [
              0.3333333333333333,
              "#9c179e"
             ],
             [
              0.4444444444444444,
              "#bd3786"
             ],
             [
              0.5555555555555556,
              "#d8576b"
             ],
             [
              0.6666666666666666,
              "#ed7953"
             ],
             [
              0.7777777777777778,
              "#fb9f3a"
             ],
             [
              0.8888888888888888,
              "#fdca26"
             ],
             [
              1,
              "#f0f921"
             ]
            ],
            "type": "heatmap"
           }
          ],
          "heatmapgl": [
           {
            "colorbar": {
             "outlinewidth": 0,
             "ticks": ""
            },
            "colorscale": [
             [
              0,
              "#0d0887"
             ],
             [
              0.1111111111111111,
              "#46039f"
             ],
             [
              0.2222222222222222,
              "#7201a8"
             ],
             [
              0.3333333333333333,
              "#9c179e"
             ],
             [
              0.4444444444444444,
              "#bd3786"
             ],
             [
              0.5555555555555556,
              "#d8576b"
             ],
             [
              0.6666666666666666,
              "#ed7953"
             ],
             [
              0.7777777777777778,
              "#fb9f3a"
             ],
             [
              0.8888888888888888,
              "#fdca26"
             ],
             [
              1,
              "#f0f921"
             ]
            ],
            "type": "heatmapgl"
           }
          ],
          "histogram": [
           {
            "marker": {
             "pattern": {
              "fillmode": "overlay",
              "size": 10,
              "solidity": 0.2
             }
            },
            "type": "histogram"
           }
          ],
          "histogram2d": [
           {
            "colorbar": {
             "outlinewidth": 0,
             "ticks": ""
            },
            "colorscale": [
             [
              0,
              "#0d0887"
             ],
             [
              0.1111111111111111,
              "#46039f"
             ],
             [
              0.2222222222222222,
              "#7201a8"
             ],
             [
              0.3333333333333333,
              "#9c179e"
             ],
             [
              0.4444444444444444,
              "#bd3786"
             ],
             [
              0.5555555555555556,
              "#d8576b"
             ],
             [
              0.6666666666666666,
              "#ed7953"
             ],
             [
              0.7777777777777778,
              "#fb9f3a"
             ],
             [
              0.8888888888888888,
              "#fdca26"
             ],
             [
              1,
              "#f0f921"
             ]
            ],
            "type": "histogram2d"
           }
          ],
          "histogram2dcontour": [
           {
            "colorbar": {
             "outlinewidth": 0,
             "ticks": ""
            },
            "colorscale": [
             [
              0,
              "#0d0887"
             ],
             [
              0.1111111111111111,
              "#46039f"
             ],
             [
              0.2222222222222222,
              "#7201a8"
             ],
             [
              0.3333333333333333,
              "#9c179e"
             ],
             [
              0.4444444444444444,
              "#bd3786"
             ],
             [
              0.5555555555555556,
              "#d8576b"
             ],
             [
              0.6666666666666666,
              "#ed7953"
             ],
             [
              0.7777777777777778,
              "#fb9f3a"
             ],
             [
              0.8888888888888888,
              "#fdca26"
             ],
             [
              1,
              "#f0f921"
             ]
            ],
            "type": "histogram2dcontour"
           }
          ],
          "mesh3d": [
           {
            "colorbar": {
             "outlinewidth": 0,
             "ticks": ""
            },
            "type": "mesh3d"
           }
          ],
          "parcoords": [
           {
            "line": {
             "colorbar": {
              "outlinewidth": 0,
              "ticks": ""
             }
            },
            "type": "parcoords"
           }
          ],
          "pie": [
           {
            "automargin": true,
            "type": "pie"
           }
          ],
          "scatter": [
           {
            "fillpattern": {
             "fillmode": "overlay",
             "size": 10,
             "solidity": 0.2
            },
            "type": "scatter"
           }
          ],
          "scatter3d": [
           {
            "line": {
             "colorbar": {
              "outlinewidth": 0,
              "ticks": ""
             }
            },
            "marker": {
             "colorbar": {
              "outlinewidth": 0,
              "ticks": ""
             }
            },
            "type": "scatter3d"
           }
          ],
          "scattercarpet": [
           {
            "marker": {
             "colorbar": {
              "outlinewidth": 0,
              "ticks": ""
             }
            },
            "type": "scattercarpet"
           }
          ],
          "scattergeo": [
           {
            "marker": {
             "colorbar": {
              "outlinewidth": 0,
              "ticks": ""
             }
            },
            "type": "scattergeo"
           }
          ],
          "scattergl": [
           {
            "marker": {
             "colorbar": {
              "outlinewidth": 0,
              "ticks": ""
             }
            },
            "type": "scattergl"
           }
          ],
          "scattermapbox": [
           {
            "marker": {
             "colorbar": {
              "outlinewidth": 0,
              "ticks": ""
             }
            },
            "type": "scattermapbox"
           }
          ],
          "scatterpolar": [
           {
            "marker": {
             "colorbar": {
              "outlinewidth": 0,
              "ticks": ""
             }
            },
            "type": "scatterpolar"
           }
          ],
          "scatterpolargl": [
           {
            "marker": {
             "colorbar": {
              "outlinewidth": 0,
              "ticks": ""
             }
            },
            "type": "scatterpolargl"
           }
          ],
          "scatterternary": [
           {
            "marker": {
             "colorbar": {
              "outlinewidth": 0,
              "ticks": ""
             }
            },
            "type": "scatterternary"
           }
          ],
          "surface": [
           {
            "colorbar": {
             "outlinewidth": 0,
             "ticks": ""
            },
            "colorscale": [
             [
              0,
              "#0d0887"
             ],
             [
              0.1111111111111111,
              "#46039f"
             ],
             [
              0.2222222222222222,
              "#7201a8"
             ],
             [
              0.3333333333333333,
              "#9c179e"
             ],
             [
              0.4444444444444444,
              "#bd3786"
             ],
             [
              0.5555555555555556,
              "#d8576b"
             ],
             [
              0.6666666666666666,
              "#ed7953"
             ],
             [
              0.7777777777777778,
              "#fb9f3a"
             ],
             [
              0.8888888888888888,
              "#fdca26"
             ],
             [
              1,
              "#f0f921"
             ]
            ],
            "type": "surface"
           }
          ],
          "table": [
           {
            "cells": {
             "fill": {
              "color": "#EBF0F8"
             },
             "line": {
              "color": "white"
             }
            },
            "header": {
             "fill": {
              "color": "#C8D4E3"
             },
             "line": {
              "color": "white"
             }
            },
            "type": "table"
           }
          ]
         },
         "layout": {
          "annotationdefaults": {
           "arrowcolor": "#2a3f5f",
           "arrowhead": 0,
           "arrowwidth": 1
          },
          "autotypenumbers": "strict",
          "coloraxis": {
           "colorbar": {
            "outlinewidth": 0,
            "ticks": ""
           }
          },
          "colorscale": {
           "diverging": [
            [
             0,
             "#8e0152"
            ],
            [
             0.1,
             "#c51b7d"
            ],
            [
             0.2,
             "#de77ae"
            ],
            [
             0.3,
             "#f1b6da"
            ],
            [
             0.4,
             "#fde0ef"
            ],
            [
             0.5,
             "#f7f7f7"
            ],
            [
             0.6,
             "#e6f5d0"
            ],
            [
             0.7,
             "#b8e186"
            ],
            [
             0.8,
             "#7fbc41"
            ],
            [
             0.9,
             "#4d9221"
            ],
            [
             1,
             "#276419"
            ]
           ],
           "sequential": [
            [
             0,
             "#0d0887"
            ],
            [
             0.1111111111111111,
             "#46039f"
            ],
            [
             0.2222222222222222,
             "#7201a8"
            ],
            [
             0.3333333333333333,
             "#9c179e"
            ],
            [
             0.4444444444444444,
             "#bd3786"
            ],
            [
             0.5555555555555556,
             "#d8576b"
            ],
            [
             0.6666666666666666,
             "#ed7953"
            ],
            [
             0.7777777777777778,
             "#fb9f3a"
            ],
            [
             0.8888888888888888,
             "#fdca26"
            ],
            [
             1,
             "#f0f921"
            ]
           ],
           "sequentialminus": [
            [
             0,
             "#0d0887"
            ],
            [
             0.1111111111111111,
             "#46039f"
            ],
            [
             0.2222222222222222,
             "#7201a8"
            ],
            [
             0.3333333333333333,
             "#9c179e"
            ],
            [
             0.4444444444444444,
             "#bd3786"
            ],
            [
             0.5555555555555556,
             "#d8576b"
            ],
            [
             0.6666666666666666,
             "#ed7953"
            ],
            [
             0.7777777777777778,
             "#fb9f3a"
            ],
            [
             0.8888888888888888,
             "#fdca26"
            ],
            [
             1,
             "#f0f921"
            ]
           ]
          },
          "colorway": [
           "#636efa",
           "#EF553B",
           "#00cc96",
           "#ab63fa",
           "#FFA15A",
           "#19d3f3",
           "#FF6692",
           "#B6E880",
           "#FF97FF",
           "#FECB52"
          ],
          "font": {
           "color": "#2a3f5f"
          },
          "geo": {
           "bgcolor": "white",
           "lakecolor": "white",
           "landcolor": "#E5ECF6",
           "showlakes": true,
           "showland": true,
           "subunitcolor": "white"
          },
          "hoverlabel": {
           "align": "left"
          },
          "hovermode": "closest",
          "mapbox": {
           "style": "light"
          },
          "paper_bgcolor": "white",
          "plot_bgcolor": "#E5ECF6",
          "polar": {
           "angularaxis": {
            "gridcolor": "white",
            "linecolor": "white",
            "ticks": ""
           },
           "bgcolor": "#E5ECF6",
           "radialaxis": {
            "gridcolor": "white",
            "linecolor": "white",
            "ticks": ""
           }
          },
          "scene": {
           "xaxis": {
            "backgroundcolor": "#E5ECF6",
            "gridcolor": "white",
            "gridwidth": 2,
            "linecolor": "white",
            "showbackground": true,
            "ticks": "",
            "zerolinecolor": "white"
           },
           "yaxis": {
            "backgroundcolor": "#E5ECF6",
            "gridcolor": "white",
            "gridwidth": 2,
            "linecolor": "white",
            "showbackground": true,
            "ticks": "",
            "zerolinecolor": "white"
           },
           "zaxis": {
            "backgroundcolor": "#E5ECF6",
            "gridcolor": "white",
            "gridwidth": 2,
            "linecolor": "white",
            "showbackground": true,
            "ticks": "",
            "zerolinecolor": "white"
           }
          },
          "shapedefaults": {
           "line": {
            "color": "#2a3f5f"
           }
          },
          "ternary": {
           "aaxis": {
            "gridcolor": "white",
            "linecolor": "white",
            "ticks": ""
           },
           "baxis": {
            "gridcolor": "white",
            "linecolor": "white",
            "ticks": ""
           },
           "bgcolor": "#E5ECF6",
           "caxis": {
            "gridcolor": "white",
            "linecolor": "white",
            "ticks": ""
           }
          },
          "title": {
           "x": 0.05
          },
          "xaxis": {
           "automargin": true,
           "gridcolor": "white",
           "linecolor": "white",
           "ticks": "",
           "title": {
            "standoff": 15
           },
           "zerolinecolor": "white",
           "zerolinewidth": 2
          },
          "yaxis": {
           "automargin": true,
           "gridcolor": "white",
           "linecolor": "white",
           "ticks": "",
           "title": {
            "standoff": 15
           },
           "zerolinecolor": "white",
           "zerolinewidth": 2
          }
         }
        },
        "title": {
         "text": "Sentiment Analysis of NDR 2022"
        },
        "width": 900,
        "yaxis": {
         "autorange": "reversed"
        }
       }
      },
      "text/html": [
       "<div>                            <div id=\"0844f501-541d-48de-a2d6-3d47bffefbab\" class=\"plotly-graph-div\" style=\"height:600px; width:900px;\"></div>            <script type=\"text/javascript\">                require([\"plotly\"], function(Plotly) {                    window.PLOTLYENV=window.PLOTLYENV || {};                                    if (document.getElementById(\"0844f501-541d-48de-a2d6-3d47bffefbab\")) {                    Plotly.newPlot(                        \"0844f501-541d-48de-a2d6-3d47bffefbab\",                        [{\"colorscale\":[[0.0,\"rgb(103,0,31)\"],[0.1,\"rgb(178,24,43)\"],[0.2,\"rgb(214,96,77)\"],[0.3,\"rgb(244,165,130)\"],[0.4,\"rgb(253,219,199)\"],[0.5,\"rgb(247,247,247)\"],[0.6,\"rgb(209,229,240)\"],[0.7,\"rgb(146,197,222)\"],[0.8,\"rgb(67,147,195)\"],[0.9,\"rgb(33,102,172)\"],[1.0,\"rgb(5,48,97)\"]],\"x\":[0,1,2,3,4,5,6,7,8,9,10,11,12,13,14,15,16,17,18,19,20,21,22,23,24,25,26,27,28,29,30,31,32,33,34,35,36,37,38,39,40,41,42,43,44,45,46,47,48,49,50,51,52,53,54,55,56,57,58,59,60,61,62,63,64,65,66,67,68,69,70,71,72,73,74,75,76,77,78,79,80,81,82,83,84,85,86,87,88,89,90,91,92,93,94,95,96,97,98,99,100,101,102,103,104],\"y\":[\"POSITIVE\",\"POSITIVE\",\"POSITIVE\",\"POSITIVE\",\"NEGATIVE\",\"NEGATIVE\",\"POSITIVE\",\"POSITIVE\",\"POSITIVE\",\"POSITIVE\",\"POSITIVE\",\"POSITIVE\",\"NEGATIVE\",\"POSITIVE\",\"POSITIVE\",\"POSITIVE\",\"POSITIVE\",\"NEGATIVE\",\"NEGATIVE\",\"NEGATIVE\",\"POSITIVE\",\"NEGATIVE\",\"POSITIVE\",\"NEGATIVE\",\"NEGATIVE\",\"NEGATIVE\",\"NEGATIVE\",\"POSITIVE\",\"NEGATIVE\",\"POSITIVE\",\"NEGATIVE\",\"NEGATIVE\",\"POSITIVE\",\"NEGATIVE\",\"POSITIVE\",\"POSITIVE\",\"NEGATIVE\",\"POSITIVE\",\"POSITIVE\",\"POSITIVE\",\"POSITIVE\",\"NEGATIVE\",\"NEGATIVE\",\"POSITIVE\",\"NEGATIVE\",\"NEGATIVE\",\"POSITIVE\",\"NEGATIVE\",\"POSITIVE\",\"POSITIVE\",\"NEGATIVE\",\"NEGATIVE\",\"NEGATIVE\",\"NEGATIVE\",\"POSITIVE\",\"POSITIVE\",\"NEGATIVE\",\"POSITIVE\",\"POSITIVE\",\"POSITIVE\",\"NEGATIVE\",\"POSITIVE\",\"POSITIVE\",\"POSITIVE\",\"POSITIVE\",\"POSITIVE\",\"POSITIVE\",\"POSITIVE\",\"POSITIVE\",\"POSITIVE\",\"POSITIVE\",\"NEGATIVE\",\"POSITIVE\",\"POSITIVE\",\"POSITIVE\",\"NEGATIVE\",\"POSITIVE\",\"POSITIVE\",\"POSITIVE\",\"POSITIVE\",\"POSITIVE\",\"NEGATIVE\",\"POSITIVE\",\"POSITIVE\",\"POSITIVE\",\"POSITIVE\",\"POSITIVE\",\"POSITIVE\",\"POSITIVE\",\"POSITIVE\",\"POSITIVE\",\"POSITIVE\",\"POSITIVE\",\"POSITIVE\",\"POSITIVE\",\"POSITIVE\",\"NEGATIVE\",\"POSITIVE\",\"NEGATIVE\",\"POSITIVE\",\"POSITIVE\",\"POSITIVE\",\"POSITIVE\",\"POSITIVE\",\"POSITIVE\"],\"z\":[0.9980775117874146,0.9998613595962524,0.9856761693954468,0.5504001140594482,-0.8854592800140381,-0.4983620345592499,0.3282365083694458,0.2784480963434492,0.9994806349277496,0.9983764886856079,0.6951137681802114,0.13674019575119017,-0.41086718710986053,0.23484096924463907,0.9989596605300903,0.9949040412902832,0.5912795066833496,-0.9952547550201416,-0.39193833536571926,-0.17953713851816513,0.2215336377804096,-0.9473707675933838,0.04045984148979187,-0.24983076006174088,-0.11862164239088695,-0.44415774941444397,-0.33735281229019165,0.9954310655593872,-0.3332245548566182,0.39519597589969635,-0.9706960519154867,-0.10194163189993964,0.4057832658290863,-0.02477872371673584,0.5501460433006287,0.7968758940696716,-0.22624749690294266,0.9951560795307159,0.4734757939974467,0.21950331926345826,0.2502788305282593,-0.11616137623786926,-0.1349938909212748,0.9785232742627462,-0.5822890639305115,-0.5982526898384094,0.34547074635823566,-0.9094944000244141,0.31078312794367474,0.33498672644297284,-0.06962527334690094,-0.6253975629806519,-0.004813075065612793,-0.3280657132466634,0.9255935351053873,0.3312848210334778,-0.7126126951641507,0.06782269477844238,0.9524852633476257,0.9996579885482788,-0.5254148244857788,0.9940615057945251,0.9769987463951111,0.5886469682057699,0.10525128576490614,0.5977470874786377,0.4259942429406302,0.9949900358915329,0.5802766361901927,0.9434721991419792,0.7130877460752215,-0.7706043720245361,0.9996113777160645,0.3521358172098796,0.6706438759962717,-0.9820745438337326,0.07847664505243301,0.4122934460639954,0.7733858823776245,0.27706230128252946,0.9996784925460815,-0.8861056566238403,0.9994066953659058,0.9995582699775696,0.3417278528213501,0.9913205504417419,0.996414840221405,0.9933537840843201,0.9988534897565842,0.9901464581489563,0.0018013715744018555,0.27780442535877226,0.013970397412776947,0.9942552804946899,0.9975615739822388,0.9989342093467712,-0.9884724020957947,0.6658515830834707,-0.47940769365855623,0.04939649999141693,0.9499087333679199,0.33122575283050537,0.7113975627081734,0.9778531312942504,0.9998629093170166],\"type\":\"heatmap\"}],                        {\"template\":{\"data\":{\"histogram2dcontour\":[{\"type\":\"histogram2dcontour\",\"colorbar\":{\"outlinewidth\":0,\"ticks\":\"\"},\"colorscale\":[[0.0,\"#0d0887\"],[0.1111111111111111,\"#46039f\"],[0.2222222222222222,\"#7201a8\"],[0.3333333333333333,\"#9c179e\"],[0.4444444444444444,\"#bd3786\"],[0.5555555555555556,\"#d8576b\"],[0.6666666666666666,\"#ed7953\"],[0.7777777777777778,\"#fb9f3a\"],[0.8888888888888888,\"#fdca26\"],[1.0,\"#f0f921\"]]}],\"choropleth\":[{\"type\":\"choropleth\",\"colorbar\":{\"outlinewidth\":0,\"ticks\":\"\"}}],\"histogram2d\":[{\"type\":\"histogram2d\",\"colorbar\":{\"outlinewidth\":0,\"ticks\":\"\"},\"colorscale\":[[0.0,\"#0d0887\"],[0.1111111111111111,\"#46039f\"],[0.2222222222222222,\"#7201a8\"],[0.3333333333333333,\"#9c179e\"],[0.4444444444444444,\"#bd3786\"],[0.5555555555555556,\"#d8576b\"],[0.6666666666666666,\"#ed7953\"],[0.7777777777777778,\"#fb9f3a\"],[0.8888888888888888,\"#fdca26\"],[1.0,\"#f0f921\"]]}],\"heatmap\":[{\"type\":\"heatmap\",\"colorbar\":{\"outlinewidth\":0,\"ticks\":\"\"},\"colorscale\":[[0.0,\"#0d0887\"],[0.1111111111111111,\"#46039f\"],[0.2222222222222222,\"#7201a8\"],[0.3333333333333333,\"#9c179e\"],[0.4444444444444444,\"#bd3786\"],[0.5555555555555556,\"#d8576b\"],[0.6666666666666666,\"#ed7953\"],[0.7777777777777778,\"#fb9f3a\"],[0.8888888888888888,\"#fdca26\"],[1.0,\"#f0f921\"]]}],\"heatmapgl\":[{\"type\":\"heatmapgl\",\"colorbar\":{\"outlinewidth\":0,\"ticks\":\"\"},\"colorscale\":[[0.0,\"#0d0887\"],[0.1111111111111111,\"#46039f\"],[0.2222222222222222,\"#7201a8\"],[0.3333333333333333,\"#9c179e\"],[0.4444444444444444,\"#bd3786\"],[0.5555555555555556,\"#d8576b\"],[0.6666666666666666,\"#ed7953\"],[0.7777777777777778,\"#fb9f3a\"],[0.8888888888888888,\"#fdca26\"],[1.0,\"#f0f921\"]]}],\"contourcarpet\":[{\"type\":\"contourcarpet\",\"colorbar\":{\"outlinewidth\":0,\"ticks\":\"\"}}],\"contour\":[{\"type\":\"contour\",\"colorbar\":{\"outlinewidth\":0,\"ticks\":\"\"},\"colorscale\":[[0.0,\"#0d0887\"],[0.1111111111111111,\"#46039f\"],[0.2222222222222222,\"#7201a8\"],[0.3333333333333333,\"#9c179e\"],[0.4444444444444444,\"#bd3786\"],[0.5555555555555556,\"#d8576b\"],[0.6666666666666666,\"#ed7953\"],[0.7777777777777778,\"#fb9f3a\"],[0.8888888888888888,\"#fdca26\"],[1.0,\"#f0f921\"]]}],\"surface\":[{\"type\":\"surface\",\"colorbar\":{\"outlinewidth\":0,\"ticks\":\"\"},\"colorscale\":[[0.0,\"#0d0887\"],[0.1111111111111111,\"#46039f\"],[0.2222222222222222,\"#7201a8\"],[0.3333333333333333,\"#9c179e\"],[0.4444444444444444,\"#bd3786\"],[0.5555555555555556,\"#d8576b\"],[0.6666666666666666,\"#ed7953\"],[0.7777777777777778,\"#fb9f3a\"],[0.8888888888888888,\"#fdca26\"],[1.0,\"#f0f921\"]]}],\"mesh3d\":[{\"type\":\"mesh3d\",\"colorbar\":{\"outlinewidth\":0,\"ticks\":\"\"}}],\"scatter\":[{\"fillpattern\":{\"fillmode\":\"overlay\",\"size\":10,\"solidity\":0.2},\"type\":\"scatter\"}],\"parcoords\":[{\"type\":\"parcoords\",\"line\":{\"colorbar\":{\"outlinewidth\":0,\"ticks\":\"\"}}}],\"scatterpolargl\":[{\"type\":\"scatterpolargl\",\"marker\":{\"colorbar\":{\"outlinewidth\":0,\"ticks\":\"\"}}}],\"bar\":[{\"error_x\":{\"color\":\"#2a3f5f\"},\"error_y\":{\"color\":\"#2a3f5f\"},\"marker\":{\"line\":{\"color\":\"#E5ECF6\",\"width\":0.5},\"pattern\":{\"fillmode\":\"overlay\",\"size\":10,\"solidity\":0.2}},\"type\":\"bar\"}],\"scattergeo\":[{\"type\":\"scattergeo\",\"marker\":{\"colorbar\":{\"outlinewidth\":0,\"ticks\":\"\"}}}],\"scatterpolar\":[{\"type\":\"scatterpolar\",\"marker\":{\"colorbar\":{\"outlinewidth\":0,\"ticks\":\"\"}}}],\"histogram\":[{\"marker\":{\"pattern\":{\"fillmode\":\"overlay\",\"size\":10,\"solidity\":0.2}},\"type\":\"histogram\"}],\"scattergl\":[{\"type\":\"scattergl\",\"marker\":{\"colorbar\":{\"outlinewidth\":0,\"ticks\":\"\"}}}],\"scatter3d\":[{\"type\":\"scatter3d\",\"line\":{\"colorbar\":{\"outlinewidth\":0,\"ticks\":\"\"}},\"marker\":{\"colorbar\":{\"outlinewidth\":0,\"ticks\":\"\"}}}],\"scattermapbox\":[{\"type\":\"scattermapbox\",\"marker\":{\"colorbar\":{\"outlinewidth\":0,\"ticks\":\"\"}}}],\"scatterternary\":[{\"type\":\"scatterternary\",\"marker\":{\"colorbar\":{\"outlinewidth\":0,\"ticks\":\"\"}}}],\"scattercarpet\":[{\"type\":\"scattercarpet\",\"marker\":{\"colorbar\":{\"outlinewidth\":0,\"ticks\":\"\"}}}],\"carpet\":[{\"aaxis\":{\"endlinecolor\":\"#2a3f5f\",\"gridcolor\":\"white\",\"linecolor\":\"white\",\"minorgridcolor\":\"white\",\"startlinecolor\":\"#2a3f5f\"},\"baxis\":{\"endlinecolor\":\"#2a3f5f\",\"gridcolor\":\"white\",\"linecolor\":\"white\",\"minorgridcolor\":\"white\",\"startlinecolor\":\"#2a3f5f\"},\"type\":\"carpet\"}],\"table\":[{\"cells\":{\"fill\":{\"color\":\"#EBF0F8\"},\"line\":{\"color\":\"white\"}},\"header\":{\"fill\":{\"color\":\"#C8D4E3\"},\"line\":{\"color\":\"white\"}},\"type\":\"table\"}],\"barpolar\":[{\"marker\":{\"line\":{\"color\":\"#E5ECF6\",\"width\":0.5},\"pattern\":{\"fillmode\":\"overlay\",\"size\":10,\"solidity\":0.2}},\"type\":\"barpolar\"}],\"pie\":[{\"automargin\":true,\"type\":\"pie\"}]},\"layout\":{\"autotypenumbers\":\"strict\",\"colorway\":[\"#636efa\",\"#EF553B\",\"#00cc96\",\"#ab63fa\",\"#FFA15A\",\"#19d3f3\",\"#FF6692\",\"#B6E880\",\"#FF97FF\",\"#FECB52\"],\"font\":{\"color\":\"#2a3f5f\"},\"hovermode\":\"closest\",\"hoverlabel\":{\"align\":\"left\"},\"paper_bgcolor\":\"white\",\"plot_bgcolor\":\"#E5ECF6\",\"polar\":{\"bgcolor\":\"#E5ECF6\",\"angularaxis\":{\"gridcolor\":\"white\",\"linecolor\":\"white\",\"ticks\":\"\"},\"radialaxis\":{\"gridcolor\":\"white\",\"linecolor\":\"white\",\"ticks\":\"\"}},\"ternary\":{\"bgcolor\":\"#E5ECF6\",\"aaxis\":{\"gridcolor\":\"white\",\"linecolor\":\"white\",\"ticks\":\"\"},\"baxis\":{\"gridcolor\":\"white\",\"linecolor\":\"white\",\"ticks\":\"\"},\"caxis\":{\"gridcolor\":\"white\",\"linecolor\":\"white\",\"ticks\":\"\"}},\"coloraxis\":{\"colorbar\":{\"outlinewidth\":0,\"ticks\":\"\"}},\"colorscale\":{\"sequential\":[[0.0,\"#0d0887\"],[0.1111111111111111,\"#46039f\"],[0.2222222222222222,\"#7201a8\"],[0.3333333333333333,\"#9c179e\"],[0.4444444444444444,\"#bd3786\"],[0.5555555555555556,\"#d8576b\"],[0.6666666666666666,\"#ed7953\"],[0.7777777777777778,\"#fb9f3a\"],[0.8888888888888888,\"#fdca26\"],[1.0,\"#f0f921\"]],\"sequentialminus\":[[0.0,\"#0d0887\"],[0.1111111111111111,\"#46039f\"],[0.2222222222222222,\"#7201a8\"],[0.3333333333333333,\"#9c179e\"],[0.4444444444444444,\"#bd3786\"],[0.5555555555555556,\"#d8576b\"],[0.6666666666666666,\"#ed7953\"],[0.7777777777777778,\"#fb9f3a\"],[0.8888888888888888,\"#fdca26\"],[1.0,\"#f0f921\"]],\"diverging\":[[0,\"#8e0152\"],[0.1,\"#c51b7d\"],[0.2,\"#de77ae\"],[0.3,\"#f1b6da\"],[0.4,\"#fde0ef\"],[0.5,\"#f7f7f7\"],[0.6,\"#e6f5d0\"],[0.7,\"#b8e186\"],[0.8,\"#7fbc41\"],[0.9,\"#4d9221\"],[1,\"#276419\"]]},\"xaxis\":{\"gridcolor\":\"white\",\"linecolor\":\"white\",\"ticks\":\"\",\"title\":{\"standoff\":15},\"zerolinecolor\":\"white\",\"automargin\":true,\"zerolinewidth\":2},\"yaxis\":{\"gridcolor\":\"white\",\"linecolor\":\"white\",\"ticks\":\"\",\"title\":{\"standoff\":15},\"zerolinecolor\":\"white\",\"automargin\":true,\"zerolinewidth\":2},\"scene\":{\"xaxis\":{\"backgroundcolor\":\"#E5ECF6\",\"gridcolor\":\"white\",\"linecolor\":\"white\",\"showbackground\":true,\"ticks\":\"\",\"zerolinecolor\":\"white\",\"gridwidth\":2},\"yaxis\":{\"backgroundcolor\":\"#E5ECF6\",\"gridcolor\":\"white\",\"linecolor\":\"white\",\"showbackground\":true,\"ticks\":\"\",\"zerolinecolor\":\"white\",\"gridwidth\":2},\"zaxis\":{\"backgroundcolor\":\"#E5ECF6\",\"gridcolor\":\"white\",\"linecolor\":\"white\",\"showbackground\":true,\"ticks\":\"\",\"zerolinecolor\":\"white\",\"gridwidth\":2}},\"shapedefaults\":{\"line\":{\"color\":\"#2a3f5f\"}},\"annotationdefaults\":{\"arrowcolor\":\"#2a3f5f\",\"arrowhead\":0,\"arrowwidth\":1},\"geo\":{\"bgcolor\":\"white\",\"landcolor\":\"#E5ECF6\",\"subunitcolor\":\"white\",\"showland\":true,\"showlakes\":true,\"lakecolor\":\"white\"},\"title\":{\"x\":0.05},\"mapbox\":{\"style\":\"light\"}}},\"title\":{\"text\":\"Sentiment Analysis of NDR 2022\"},\"autosize\":false,\"width\":900,\"height\":600,\"yaxis\":{\"autorange\":\"reversed\"}},                        {\"responsive\": true}                    ).then(function(){\n",
       "                            \n",
       "var gd = document.getElementById('0844f501-541d-48de-a2d6-3d47bffefbab');\n",
       "var x = new MutationObserver(function (mutations, observer) {{\n",
       "        var display = window.getComputedStyle(gd).display;\n",
       "        if (!display || display === 'none') {{\n",
       "            console.log([gd, 'removed!']);\n",
       "            Plotly.purge(gd);\n",
       "            observer.disconnect();\n",
       "        }}\n",
       "}});\n",
       "\n",
       "// Listen for the removal of the full notebook cells\n",
       "var notebookContainer = gd.closest('#notebook-container');\n",
       "if (notebookContainer) {{\n",
       "    x.observe(notebookContainer, {childList: true});\n",
       "}}\n",
       "\n",
       "// Listen for the clearing of the current output cell\n",
       "var outputEl = gd.closest('.output');\n",
       "if (outputEl) {{\n",
       "    x.observe(outputEl, {childList: true});\n",
       "}}\n",
       "\n",
       "                        })                };                });            </script>        </div>"
      ]
     },
     "metadata": {},
     "output_type": "display_data"
    }
   ],
   "source": [
    "fig = go.Figure(\n",
    "    data=go.Heatmap(\n",
    "        z=df_hf[\"HF_Score\"],\n",
    "        x=df_hf.index,\n",
    "        y=df_hf[\"HF_Label\"],\n",
    "        colorscale=px.colors.sequential.RdBu,\n",
    "    )\n",
    ")\n",
    "\n",
    "fig.update_layout(\n",
    "    title=go.layout.Title(\n",
    "        text=\"Sentiment Analysis of NDR 2022\"\n",
    "    ),\n",
    "    autosize=False,\n",
    "    width=900,\n",
    "    height=600,\n",
    ")\n",
    "\n",
    "fig.update_layout(yaxis_autorange = \"reversed\")\n",
    "\n",
    "fig.show()"
   ]
  },
  {
   "cell_type": "markdown",
   "id": "dd7969d1",
   "metadata": {},
   "source": [
    "VADER\n",
    "Reference: https://towardsdatascience.com/sentimental-analysis-using-vader-a3415fef7664"
   ]
  },
  {
   "cell_type": "code",
   "execution_count": 358,
   "id": "141afa93",
   "metadata": {},
   "outputs": [],
   "source": [
    "import nltk\n",
    "#nltk.download('vader_lexicon')\n",
    "from nltk.sentiment.vader import SentimentIntensityAnalyzer\n",
    "sid = SentimentIntensityAnalyzer()"
   ]
  },
  {
   "cell_type": "code",
   "execution_count": 359,
   "id": "d0e41af2",
   "metadata": {},
   "outputs": [],
   "source": [
    "# Define the file directory\n",
    "file_directory = '..\\\\Dataset\\\\'\n",
    "\n",
    "# Read a single file \n",
    "with open(file_directory + '2022_eng.txt', 'r', encoding=\"utf8\") as file_to_read:\n",
    "    df_v = file_to_read.read()\n",
    "    \n",
    "# Convert into dataframes, split by paragraphs\n",
    "df_v = (pd.DataFrame(df_v.split(\"\\n\\n\"))).rename(columns={0: \"Paragraphs\"})\n",
    "\n",
    "#Create new column to store Paragraph Numbers \n",
    "df_v['ParasNo'] = df_v.index"
   ]
  },
  {
   "cell_type": "code",
   "execution_count": 360,
   "id": "f7afc0bf",
   "metadata": {},
   "outputs": [],
   "source": [
    "# Pre-processing\n",
    "#Drop rows with empty strings \n",
    "df_v.drop(index=df_v[df_v['Paragraphs'] == ''].index, inplace=True)\n",
    "df_v.reset_index(inplace=True, drop=True)\n",
    "\n",
    "def clean_text(text):\n",
    "    text = text.lower()\n",
    "    text = re.sub(r\"\\n\", \" \", text) #replace \"\\n\" with \" \"\n",
    "    text = re.sub(r\"\\W\", \" \", text) #replaces non-word characters like ',' with \" \"\n",
    "    text = re.sub(r\"^\\d+\\s|\\s\\d+\\s|\\s\\d+$\", \" \", text) #removes digits e.g. 16 years >> years\n",
    "    text = text.strip(\" \")\n",
    "    text = re.sub(r\"[^\\w\\s]\", \"\", text)\n",
    "    return text\n",
    "\n",
    "df_v[\"Clean_Text\"] = df_v['Paragraphs'].map(lambda text: clean_text(text))"
   ]
  },
  {
   "cell_type": "code",
   "execution_count": 361,
   "id": "7fa120b2",
   "metadata": {},
   "outputs": [
    {
     "data": {
      "text/html": [
       "<div>\n",
       "<style scoped>\n",
       "    .dataframe tbody tr th:only-of-type {\n",
       "        vertical-align: middle;\n",
       "    }\n",
       "\n",
       "    .dataframe tbody tr th {\n",
       "        vertical-align: top;\n",
       "    }\n",
       "\n",
       "    .dataframe thead th {\n",
       "        text-align: right;\n",
       "    }\n",
       "</style>\n",
       "<table border=\"1\" class=\"dataframe\">\n",
       "  <thead>\n",
       "    <tr style=\"text-align: right;\">\n",
       "      <th></th>\n",
       "      <th>Paragraphs</th>\n",
       "      <th>ParasNo</th>\n",
       "      <th>Clean_Text</th>\n",
       "    </tr>\n",
       "  </thead>\n",
       "  <tbody>\n",
       "    <tr>\n",
       "      <th>0</th>\n",
       "      <td>My fellow Singaporeans</td>\n",
       "      <td>0</td>\n",
       "      <td>my fellow singaporeans</td>\n",
       "    </tr>\n",
       "    <tr>\n",
       "      <th>1</th>\n",
       "      <td>Good evening.</td>\n",
       "      <td>1</td>\n",
       "      <td>good evening</td>\n",
       "    </tr>\n",
       "    <tr>\n",
       "      <th>2</th>\n",
       "      <td>COVID-19</td>\n",
       "      <td>2</td>\n",
       "      <td>covid</td>\n",
       "    </tr>\n",
       "    <tr>\n",
       "      <th>3</th>\n",
       "      <td>We have come a long way in our fight against C...</td>\n",
       "      <td>3</td>\n",
       "      <td>we have come a long way in our fight against c...</td>\n",
       "    </tr>\n",
       "    <tr>\n",
       "      <th>4</th>\n",
       "      <td>In many other countries, when a wave happens, ...</td>\n",
       "      <td>4</td>\n",
       "      <td>in many other countries  when a wave happens  ...</td>\n",
       "    </tr>\n",
       "  </tbody>\n",
       "</table>\n",
       "</div>"
      ],
      "text/plain": [
       "                                          Paragraphs  ParasNo  \\\n",
       "0                             My fellow Singaporeans        0   \n",
       "1                                      Good evening.        1   \n",
       "2                                           COVID-19        2   \n",
       "3  We have come a long way in our fight against C...        3   \n",
       "4  In many other countries, when a wave happens, ...        4   \n",
       "\n",
       "                                          Clean_Text  \n",
       "0                             my fellow singaporeans  \n",
       "1                                       good evening  \n",
       "2                                              covid  \n",
       "3  we have come a long way in our fight against c...  \n",
       "4  in many other countries  when a wave happens  ...  "
      ]
     },
     "execution_count": 361,
     "metadata": {},
     "output_type": "execute_result"
    }
   ],
   "source": [
    "df_v.head()"
   ]
  },
  {
   "cell_type": "code",
   "execution_count": 362,
   "id": "71bc7623",
   "metadata": {},
   "outputs": [
    {
     "data": {
      "text/html": [
       "<div>\n",
       "<style scoped>\n",
       "    .dataframe tbody tr th:only-of-type {\n",
       "        vertical-align: middle;\n",
       "    }\n",
       "\n",
       "    .dataframe tbody tr th {\n",
       "        vertical-align: top;\n",
       "    }\n",
       "\n",
       "    .dataframe thead th {\n",
       "        text-align: right;\n",
       "    }\n",
       "</style>\n",
       "<table border=\"1\" class=\"dataframe\">\n",
       "  <thead>\n",
       "    <tr style=\"text-align: right;\">\n",
       "      <th></th>\n",
       "      <th>Paragraphs</th>\n",
       "      <th>ParasNo</th>\n",
       "      <th>Clean_Text</th>\n",
       "      <th>scores</th>\n",
       "    </tr>\n",
       "  </thead>\n",
       "  <tbody>\n",
       "    <tr>\n",
       "      <th>0</th>\n",
       "      <td>My fellow Singaporeans</td>\n",
       "      <td>0</td>\n",
       "      <td>my fellow singaporeans</td>\n",
       "      <td>{'neg': 0.0, 'neu': 1.0, 'pos': 0.0, 'compound...</td>\n",
       "    </tr>\n",
       "    <tr>\n",
       "      <th>1</th>\n",
       "      <td>Good evening.</td>\n",
       "      <td>1</td>\n",
       "      <td>good evening</td>\n",
       "      <td>{'neg': 0.0, 'neu': 0.256, 'pos': 0.744, 'comp...</td>\n",
       "    </tr>\n",
       "    <tr>\n",
       "      <th>2</th>\n",
       "      <td>COVID-19</td>\n",
       "      <td>2</td>\n",
       "      <td>covid</td>\n",
       "      <td>{'neg': 0.0, 'neu': 1.0, 'pos': 0.0, 'compound...</td>\n",
       "    </tr>\n",
       "    <tr>\n",
       "      <th>3</th>\n",
       "      <td>We have come a long way in our fight against C...</td>\n",
       "      <td>3</td>\n",
       "      <td>we have come a long way in our fight against c...</td>\n",
       "      <td>{'neg': 0.063, 'neu': 0.867, 'pos': 0.07, 'com...</td>\n",
       "    </tr>\n",
       "    <tr>\n",
       "      <th>4</th>\n",
       "      <td>In many other countries, when a wave happens, ...</td>\n",
       "      <td>4</td>\n",
       "      <td>in many other countries  when a wave happens  ...</td>\n",
       "      <td>{'neg': 0.153, 'neu': 0.694, 'pos': 0.152, 'co...</td>\n",
       "    </tr>\n",
       "  </tbody>\n",
       "</table>\n",
       "</div>"
      ],
      "text/plain": [
       "                                          Paragraphs  ParasNo  \\\n",
       "0                             My fellow Singaporeans        0   \n",
       "1                                      Good evening.        1   \n",
       "2                                           COVID-19        2   \n",
       "3  We have come a long way in our fight against C...        3   \n",
       "4  In many other countries, when a wave happens, ...        4   \n",
       "\n",
       "                                          Clean_Text  \\\n",
       "0                             my fellow singaporeans   \n",
       "1                                       good evening   \n",
       "2                                              covid   \n",
       "3  we have come a long way in our fight against c...   \n",
       "4  in many other countries  when a wave happens  ...   \n",
       "\n",
       "                                              scores  \n",
       "0  {'neg': 0.0, 'neu': 1.0, 'pos': 0.0, 'compound...  \n",
       "1  {'neg': 0.0, 'neu': 0.256, 'pos': 0.744, 'comp...  \n",
       "2  {'neg': 0.0, 'neu': 1.0, 'pos': 0.0, 'compound...  \n",
       "3  {'neg': 0.063, 'neu': 0.867, 'pos': 0.07, 'com...  \n",
       "4  {'neg': 0.153, 'neu': 0.694, 'pos': 0.152, 'co...  "
      ]
     },
     "execution_count": 362,
     "metadata": {},
     "output_type": "execute_result"
    }
   ],
   "source": [
    "df_v['scores'] = df_v['Clean_Text'].apply(lambda x: sid.polarity_scores(x))\n",
    "df_v.head()"
   ]
  },
  {
   "cell_type": "code",
   "execution_count": 363,
   "id": "c8d4be5c",
   "metadata": {
    "scrolled": true
   },
   "outputs": [
    {
     "data": {
      "text/html": [
       "<div>\n",
       "<style scoped>\n",
       "    .dataframe tbody tr th:only-of-type {\n",
       "        vertical-align: middle;\n",
       "    }\n",
       "\n",
       "    .dataframe tbody tr th {\n",
       "        vertical-align: top;\n",
       "    }\n",
       "\n",
       "    .dataframe thead th {\n",
       "        text-align: right;\n",
       "    }\n",
       "</style>\n",
       "<table border=\"1\" class=\"dataframe\">\n",
       "  <thead>\n",
       "    <tr style=\"text-align: right;\">\n",
       "      <th></th>\n",
       "      <th>Paragraphs</th>\n",
       "      <th>ParasNo</th>\n",
       "      <th>Clean_Text</th>\n",
       "      <th>scores</th>\n",
       "      <th>VADER_Score</th>\n",
       "      <th>VADER_Label</th>\n",
       "    </tr>\n",
       "  </thead>\n",
       "  <tbody>\n",
       "    <tr>\n",
       "      <th>0</th>\n",
       "      <td>My fellow Singaporeans</td>\n",
       "      <td>0</td>\n",
       "      <td>my fellow singaporeans</td>\n",
       "      <td>{'neg': 0.0, 'neu': 1.0, 'pos': 0.0, 'compound...</td>\n",
       "      <td>0.0000</td>\n",
       "      <td>POSITIVE</td>\n",
       "    </tr>\n",
       "    <tr>\n",
       "      <th>1</th>\n",
       "      <td>Good evening.</td>\n",
       "      <td>1</td>\n",
       "      <td>good evening</td>\n",
       "      <td>{'neg': 0.0, 'neu': 0.256, 'pos': 0.744, 'comp...</td>\n",
       "      <td>0.4404</td>\n",
       "      <td>POSITIVE</td>\n",
       "    </tr>\n",
       "    <tr>\n",
       "      <th>2</th>\n",
       "      <td>COVID-19</td>\n",
       "      <td>2</td>\n",
       "      <td>covid</td>\n",
       "      <td>{'neg': 0.0, 'neu': 1.0, 'pos': 0.0, 'compound...</td>\n",
       "      <td>0.0000</td>\n",
       "      <td>POSITIVE</td>\n",
       "    </tr>\n",
       "    <tr>\n",
       "      <th>3</th>\n",
       "      <td>We have come a long way in our fight against C...</td>\n",
       "      <td>3</td>\n",
       "      <td>we have come a long way in our fight against c...</td>\n",
       "      <td>{'neg': 0.063, 'neu': 0.867, 'pos': 0.07, 'com...</td>\n",
       "      <td>0.0772</td>\n",
       "      <td>POSITIVE</td>\n",
       "    </tr>\n",
       "    <tr>\n",
       "      <th>4</th>\n",
       "      <td>In many other countries, when a wave happens, ...</td>\n",
       "      <td>4</td>\n",
       "      <td>in many other countries  when a wave happens  ...</td>\n",
       "      <td>{'neg': 0.153, 'neu': 0.694, 'pos': 0.152, 'co...</td>\n",
       "      <td>-0.2732</td>\n",
       "      <td>NEGATIVE</td>\n",
       "    </tr>\n",
       "  </tbody>\n",
       "</table>\n",
       "</div>"
      ],
      "text/plain": [
       "                                          Paragraphs  ParasNo  \\\n",
       "0                             My fellow Singaporeans        0   \n",
       "1                                      Good evening.        1   \n",
       "2                                           COVID-19        2   \n",
       "3  We have come a long way in our fight against C...        3   \n",
       "4  In many other countries, when a wave happens, ...        4   \n",
       "\n",
       "                                          Clean_Text  \\\n",
       "0                             my fellow singaporeans   \n",
       "1                                       good evening   \n",
       "2                                              covid   \n",
       "3  we have come a long way in our fight against c...   \n",
       "4  in many other countries  when a wave happens  ...   \n",
       "\n",
       "                                              scores  VADER_Score VADER_Label  \n",
       "0  {'neg': 0.0, 'neu': 1.0, 'pos': 0.0, 'compound...       0.0000    POSITIVE  \n",
       "1  {'neg': 0.0, 'neu': 0.256, 'pos': 0.744, 'comp...       0.4404    POSITIVE  \n",
       "2  {'neg': 0.0, 'neu': 1.0, 'pos': 0.0, 'compound...       0.0000    POSITIVE  \n",
       "3  {'neg': 0.063, 'neu': 0.867, 'pos': 0.07, 'com...       0.0772    POSITIVE  \n",
       "4  {'neg': 0.153, 'neu': 0.694, 'pos': 0.152, 'co...      -0.2732    NEGATIVE  "
      ]
     },
     "execution_count": 363,
     "metadata": {},
     "output_type": "execute_result"
    }
   ],
   "source": [
    "#Separate out the compound score\n",
    "df_v['VADER_Score']  = df_v['scores'].apply(lambda score_dict: score_dict['compound'])\n",
    "#Assign polarity (pos, neg based on compound score)\n",
    "df_v['VADER_Label'] = df_v['VADER_Score'].apply(lambda c: 'POSITIVE' if c >=0 else 'NEGATIVE') #(lambda c: 'pos' if c >0 else 'neg' if c<0 else 'neu')\n",
    "\n",
    "df_v.head() "
   ]
  },
  {
   "cell_type": "code",
   "execution_count": 364,
   "id": "b9256206",
   "metadata": {},
   "outputs": [],
   "source": [
    "from __future__ import print_function\n",
    "\n",
    "import ipywidgets as widgets\n",
    "import matplotlib as mpl\n",
    "import pandas as pd\n",
    "import plotly\n",
    "import plotly_express as px\n",
    "import plotly.graph_objects as go\n",
    "\n",
    "mpl.rcParams[\"figure.dpi\"] = 300\n",
    "%matplotlib inline\n",
    "%config InlineBackend.figure_format ='retina'"
   ]
  },
  {
   "cell_type": "code",
   "execution_count": 365,
   "id": "89cb0e34",
   "metadata": {},
   "outputs": [
    {
     "data": {
      "application/vnd.plotly.v1+json": {
       "config": {
        "plotlyServerURL": "https://plot.ly"
       },
       "data": [
        {
         "colorscale": [
          [
           0,
           "rgb(103,0,31)"
          ],
          [
           0.1,
           "rgb(178,24,43)"
          ],
          [
           0.2,
           "rgb(214,96,77)"
          ],
          [
           0.3,
           "rgb(244,165,130)"
          ],
          [
           0.4,
           "rgb(253,219,199)"
          ],
          [
           0.5,
           "rgb(247,247,247)"
          ],
          [
           0.6,
           "rgb(209,229,240)"
          ],
          [
           0.7,
           "rgb(146,197,222)"
          ],
          [
           0.8,
           "rgb(67,147,195)"
          ],
          [
           0.9,
           "rgb(33,102,172)"
          ],
          [
           1,
           "rgb(5,48,97)"
          ]
         ],
         "type": "heatmap",
         "x": [
          0,
          1,
          2,
          3,
          4,
          5,
          6,
          7,
          8,
          9,
          10,
          11,
          12,
          13,
          14,
          15,
          16,
          17,
          18,
          19,
          20,
          21,
          22,
          23,
          24,
          25,
          26,
          27,
          28,
          29,
          30,
          31,
          32,
          33,
          34,
          35,
          36,
          37,
          38,
          39,
          40,
          41,
          42,
          43,
          44,
          45,
          46,
          47,
          48,
          49,
          50,
          51,
          52,
          53,
          54,
          55,
          56,
          57,
          58,
          59,
          60,
          61,
          62,
          63,
          64,
          65,
          66,
          67,
          68,
          69,
          70,
          71,
          72,
          73,
          74,
          75,
          76,
          77,
          78,
          79,
          80,
          81,
          82,
          83,
          84,
          85,
          86,
          87,
          88,
          89,
          90,
          91,
          92,
          93,
          94,
          95,
          96,
          97,
          98,
          99,
          100,
          101,
          102,
          103,
          104
         ],
         "y": [
          "POSITIVE",
          "POSITIVE",
          "POSITIVE",
          "POSITIVE",
          "NEGATIVE",
          "POSITIVE",
          "POSITIVE",
          "POSITIVE",
          "POSITIVE",
          "POSITIVE",
          "POSITIVE",
          "POSITIVE",
          "POSITIVE",
          "NEGATIVE",
          "POSITIVE",
          "POSITIVE",
          "POSITIVE",
          "NEGATIVE",
          "NEGATIVE",
          "NEGATIVE",
          "POSITIVE",
          "POSITIVE",
          "POSITIVE",
          "NEGATIVE",
          "POSITIVE",
          "POSITIVE",
          "POSITIVE",
          "POSITIVE",
          "NEGATIVE",
          "POSITIVE",
          "POSITIVE",
          "POSITIVE",
          "NEGATIVE",
          "POSITIVE",
          "POSITIVE",
          "NEGATIVE",
          "POSITIVE",
          "NEGATIVE",
          "POSITIVE",
          "POSITIVE",
          "POSITIVE",
          "POSITIVE",
          "POSITIVE",
          "NEGATIVE",
          "POSITIVE",
          "NEGATIVE",
          "POSITIVE",
          "POSITIVE",
          "NEGATIVE",
          "POSITIVE",
          "POSITIVE",
          "POSITIVE",
          "POSITIVE",
          "NEGATIVE",
          "POSITIVE",
          "POSITIVE",
          "NEGATIVE",
          "NEGATIVE",
          "POSITIVE",
          "POSITIVE",
          "POSITIVE",
          "POSITIVE",
          "POSITIVE",
          "POSITIVE",
          "POSITIVE",
          "POSITIVE",
          "POSITIVE",
          "POSITIVE",
          "POSITIVE",
          "POSITIVE",
          "POSITIVE",
          "POSITIVE",
          "POSITIVE",
          "NEGATIVE",
          "POSITIVE",
          "NEGATIVE",
          "NEGATIVE",
          "POSITIVE",
          "POSITIVE",
          "POSITIVE",
          "POSITIVE",
          "POSITIVE",
          "POSITIVE",
          "POSITIVE",
          "POSITIVE",
          "POSITIVE",
          "POSITIVE",
          "POSITIVE",
          "POSITIVE",
          "POSITIVE",
          "POSITIVE",
          "POSITIVE",
          "NEGATIVE",
          "POSITIVE",
          "POSITIVE",
          "POSITIVE",
          "NEGATIVE",
          "POSITIVE",
          "NEGATIVE",
          "POSITIVE",
          "POSITIVE",
          "POSITIVE",
          "POSITIVE",
          "POSITIVE",
          "POSITIVE"
         ],
         "z": [
          0,
          0.4404,
          0,
          0.0772,
          -0.2732,
          0.5106,
          0.9714,
          0.9776,
          0.8834,
          0.9117,
          0.9892,
          0.9169,
          0.3898,
          -0.2247,
          0.8479,
          0,
          0.0772,
          -0.5095,
          -0.6757,
          -0.1901,
          0.7005,
          0.0772,
          0.3919,
          -0.9531,
          0.8522,
          0.669,
          0.5945,
          0.7269,
          -0.7472,
          0.9129,
          0,
          0.9383,
          -0.2263,
          0.3716,
          0,
          -0.6369,
          0.9709,
          -0.0516,
          0.7922,
          0.8779,
          0.6297,
          0,
          0.6315,
          -0.1531,
          0.6517,
          -0.8091,
          0.8225,
          0.7945,
          -0.1862,
          0.3565,
          0.1027,
          0.6597,
          0.7079,
          -0.7351,
          0.6486,
          0.5964,
          -0.9707,
          -0.1469,
          0.949,
          0.3182,
          0.6908,
          0.9136,
          0.8176,
          0.6101,
          0.7684,
          0.9858,
          0.9812,
          0.7982,
          0.9974,
          0.993,
          0.9953,
          0,
          0.4588,
          -0.0258,
          0.9274,
          -0.6605,
          -0.2023,
          0.6124,
          0,
          0.9966,
          0.8176,
          0,
          0,
          0.7579,
          0.5023,
          0.4404,
          0.6652,
          0.8793,
          0.7269,
          0.8402,
          0.4767,
          0.6486,
          -0.7351,
          0.8915,
          0,
          0.0772,
          -0.6808,
          0.9022,
          -0.9559,
          0.8537,
          0.91,
          0.9499,
          0.9509,
          0.9657,
          0.6597
         ]
        }
       ],
       "layout": {
        "autosize": false,
        "height": 600,
        "template": {
         "data": {
          "bar": [
           {
            "error_x": {
             "color": "#2a3f5f"
            },
            "error_y": {
             "color": "#2a3f5f"
            },
            "marker": {
             "line": {
              "color": "#E5ECF6",
              "width": 0.5
             },
             "pattern": {
              "fillmode": "overlay",
              "size": 10,
              "solidity": 0.2
             }
            },
            "type": "bar"
           }
          ],
          "barpolar": [
           {
            "marker": {
             "line": {
              "color": "#E5ECF6",
              "width": 0.5
             },
             "pattern": {
              "fillmode": "overlay",
              "size": 10,
              "solidity": 0.2
             }
            },
            "type": "barpolar"
           }
          ],
          "carpet": [
           {
            "aaxis": {
             "endlinecolor": "#2a3f5f",
             "gridcolor": "white",
             "linecolor": "white",
             "minorgridcolor": "white",
             "startlinecolor": "#2a3f5f"
            },
            "baxis": {
             "endlinecolor": "#2a3f5f",
             "gridcolor": "white",
             "linecolor": "white",
             "minorgridcolor": "white",
             "startlinecolor": "#2a3f5f"
            },
            "type": "carpet"
           }
          ],
          "choropleth": [
           {
            "colorbar": {
             "outlinewidth": 0,
             "ticks": ""
            },
            "type": "choropleth"
           }
          ],
          "contour": [
           {
            "colorbar": {
             "outlinewidth": 0,
             "ticks": ""
            },
            "colorscale": [
             [
              0,
              "#0d0887"
             ],
             [
              0.1111111111111111,
              "#46039f"
             ],
             [
              0.2222222222222222,
              "#7201a8"
             ],
             [
              0.3333333333333333,
              "#9c179e"
             ],
             [
              0.4444444444444444,
              "#bd3786"
             ],
             [
              0.5555555555555556,
              "#d8576b"
             ],
             [
              0.6666666666666666,
              "#ed7953"
             ],
             [
              0.7777777777777778,
              "#fb9f3a"
             ],
             [
              0.8888888888888888,
              "#fdca26"
             ],
             [
              1,
              "#f0f921"
             ]
            ],
            "type": "contour"
           }
          ],
          "contourcarpet": [
           {
            "colorbar": {
             "outlinewidth": 0,
             "ticks": ""
            },
            "type": "contourcarpet"
           }
          ],
          "heatmap": [
           {
            "colorbar": {
             "outlinewidth": 0,
             "ticks": ""
            },
            "colorscale": [
             [
              0,
              "#0d0887"
             ],
             [
              0.1111111111111111,
              "#46039f"
             ],
             [
              0.2222222222222222,
              "#7201a8"
             ],
             [
              0.3333333333333333,
              "#9c179e"
             ],
             [
              0.4444444444444444,
              "#bd3786"
             ],
             [
              0.5555555555555556,
              "#d8576b"
             ],
             [
              0.6666666666666666,
              "#ed7953"
             ],
             [
              0.7777777777777778,
              "#fb9f3a"
             ],
             [
              0.8888888888888888,
              "#fdca26"
             ],
             [
              1,
              "#f0f921"
             ]
            ],
            "type": "heatmap"
           }
          ],
          "heatmapgl": [
           {
            "colorbar": {
             "outlinewidth": 0,
             "ticks": ""
            },
            "colorscale": [
             [
              0,
              "#0d0887"
             ],
             [
              0.1111111111111111,
              "#46039f"
             ],
             [
              0.2222222222222222,
              "#7201a8"
             ],
             [
              0.3333333333333333,
              "#9c179e"
             ],
             [
              0.4444444444444444,
              "#bd3786"
             ],
             [
              0.5555555555555556,
              "#d8576b"
             ],
             [
              0.6666666666666666,
              "#ed7953"
             ],
             [
              0.7777777777777778,
              "#fb9f3a"
             ],
             [
              0.8888888888888888,
              "#fdca26"
             ],
             [
              1,
              "#f0f921"
             ]
            ],
            "type": "heatmapgl"
           }
          ],
          "histogram": [
           {
            "marker": {
             "pattern": {
              "fillmode": "overlay",
              "size": 10,
              "solidity": 0.2
             }
            },
            "type": "histogram"
           }
          ],
          "histogram2d": [
           {
            "colorbar": {
             "outlinewidth": 0,
             "ticks": ""
            },
            "colorscale": [
             [
              0,
              "#0d0887"
             ],
             [
              0.1111111111111111,
              "#46039f"
             ],
             [
              0.2222222222222222,
              "#7201a8"
             ],
             [
              0.3333333333333333,
              "#9c179e"
             ],
             [
              0.4444444444444444,
              "#bd3786"
             ],
             [
              0.5555555555555556,
              "#d8576b"
             ],
             [
              0.6666666666666666,
              "#ed7953"
             ],
             [
              0.7777777777777778,
              "#fb9f3a"
             ],
             [
              0.8888888888888888,
              "#fdca26"
             ],
             [
              1,
              "#f0f921"
             ]
            ],
            "type": "histogram2d"
           }
          ],
          "histogram2dcontour": [
           {
            "colorbar": {
             "outlinewidth": 0,
             "ticks": ""
            },
            "colorscale": [
             [
              0,
              "#0d0887"
             ],
             [
              0.1111111111111111,
              "#46039f"
             ],
             [
              0.2222222222222222,
              "#7201a8"
             ],
             [
              0.3333333333333333,
              "#9c179e"
             ],
             [
              0.4444444444444444,
              "#bd3786"
             ],
             [
              0.5555555555555556,
              "#d8576b"
             ],
             [
              0.6666666666666666,
              "#ed7953"
             ],
             [
              0.7777777777777778,
              "#fb9f3a"
             ],
             [
              0.8888888888888888,
              "#fdca26"
             ],
             [
              1,
              "#f0f921"
             ]
            ],
            "type": "histogram2dcontour"
           }
          ],
          "mesh3d": [
           {
            "colorbar": {
             "outlinewidth": 0,
             "ticks": ""
            },
            "type": "mesh3d"
           }
          ],
          "parcoords": [
           {
            "line": {
             "colorbar": {
              "outlinewidth": 0,
              "ticks": ""
             }
            },
            "type": "parcoords"
           }
          ],
          "pie": [
           {
            "automargin": true,
            "type": "pie"
           }
          ],
          "scatter": [
           {
            "fillpattern": {
             "fillmode": "overlay",
             "size": 10,
             "solidity": 0.2
            },
            "type": "scatter"
           }
          ],
          "scatter3d": [
           {
            "line": {
             "colorbar": {
              "outlinewidth": 0,
              "ticks": ""
             }
            },
            "marker": {
             "colorbar": {
              "outlinewidth": 0,
              "ticks": ""
             }
            },
            "type": "scatter3d"
           }
          ],
          "scattercarpet": [
           {
            "marker": {
             "colorbar": {
              "outlinewidth": 0,
              "ticks": ""
             }
            },
            "type": "scattercarpet"
           }
          ],
          "scattergeo": [
           {
            "marker": {
             "colorbar": {
              "outlinewidth": 0,
              "ticks": ""
             }
            },
            "type": "scattergeo"
           }
          ],
          "scattergl": [
           {
            "marker": {
             "colorbar": {
              "outlinewidth": 0,
              "ticks": ""
             }
            },
            "type": "scattergl"
           }
          ],
          "scattermapbox": [
           {
            "marker": {
             "colorbar": {
              "outlinewidth": 0,
              "ticks": ""
             }
            },
            "type": "scattermapbox"
           }
          ],
          "scatterpolar": [
           {
            "marker": {
             "colorbar": {
              "outlinewidth": 0,
              "ticks": ""
             }
            },
            "type": "scatterpolar"
           }
          ],
          "scatterpolargl": [
           {
            "marker": {
             "colorbar": {
              "outlinewidth": 0,
              "ticks": ""
             }
            },
            "type": "scatterpolargl"
           }
          ],
          "scatterternary": [
           {
            "marker": {
             "colorbar": {
              "outlinewidth": 0,
              "ticks": ""
             }
            },
            "type": "scatterternary"
           }
          ],
          "surface": [
           {
            "colorbar": {
             "outlinewidth": 0,
             "ticks": ""
            },
            "colorscale": [
             [
              0,
              "#0d0887"
             ],
             [
              0.1111111111111111,
              "#46039f"
             ],
             [
              0.2222222222222222,
              "#7201a8"
             ],
             [
              0.3333333333333333,
              "#9c179e"
             ],
             [
              0.4444444444444444,
              "#bd3786"
             ],
             [
              0.5555555555555556,
              "#d8576b"
             ],
             [
              0.6666666666666666,
              "#ed7953"
             ],
             [
              0.7777777777777778,
              "#fb9f3a"
             ],
             [
              0.8888888888888888,
              "#fdca26"
             ],
             [
              1,
              "#f0f921"
             ]
            ],
            "type": "surface"
           }
          ],
          "table": [
           {
            "cells": {
             "fill": {
              "color": "#EBF0F8"
             },
             "line": {
              "color": "white"
             }
            },
            "header": {
             "fill": {
              "color": "#C8D4E3"
             },
             "line": {
              "color": "white"
             }
            },
            "type": "table"
           }
          ]
         },
         "layout": {
          "annotationdefaults": {
           "arrowcolor": "#2a3f5f",
           "arrowhead": 0,
           "arrowwidth": 1
          },
          "autotypenumbers": "strict",
          "coloraxis": {
           "colorbar": {
            "outlinewidth": 0,
            "ticks": ""
           }
          },
          "colorscale": {
           "diverging": [
            [
             0,
             "#8e0152"
            ],
            [
             0.1,
             "#c51b7d"
            ],
            [
             0.2,
             "#de77ae"
            ],
            [
             0.3,
             "#f1b6da"
            ],
            [
             0.4,
             "#fde0ef"
            ],
            [
             0.5,
             "#f7f7f7"
            ],
            [
             0.6,
             "#e6f5d0"
            ],
            [
             0.7,
             "#b8e186"
            ],
            [
             0.8,
             "#7fbc41"
            ],
            [
             0.9,
             "#4d9221"
            ],
            [
             1,
             "#276419"
            ]
           ],
           "sequential": [
            [
             0,
             "#0d0887"
            ],
            [
             0.1111111111111111,
             "#46039f"
            ],
            [
             0.2222222222222222,
             "#7201a8"
            ],
            [
             0.3333333333333333,
             "#9c179e"
            ],
            [
             0.4444444444444444,
             "#bd3786"
            ],
            [
             0.5555555555555556,
             "#d8576b"
            ],
            [
             0.6666666666666666,
             "#ed7953"
            ],
            [
             0.7777777777777778,
             "#fb9f3a"
            ],
            [
             0.8888888888888888,
             "#fdca26"
            ],
            [
             1,
             "#f0f921"
            ]
           ],
           "sequentialminus": [
            [
             0,
             "#0d0887"
            ],
            [
             0.1111111111111111,
             "#46039f"
            ],
            [
             0.2222222222222222,
             "#7201a8"
            ],
            [
             0.3333333333333333,
             "#9c179e"
            ],
            [
             0.4444444444444444,
             "#bd3786"
            ],
            [
             0.5555555555555556,
             "#d8576b"
            ],
            [
             0.6666666666666666,
             "#ed7953"
            ],
            [
             0.7777777777777778,
             "#fb9f3a"
            ],
            [
             0.8888888888888888,
             "#fdca26"
            ],
            [
             1,
             "#f0f921"
            ]
           ]
          },
          "colorway": [
           "#636efa",
           "#EF553B",
           "#00cc96",
           "#ab63fa",
           "#FFA15A",
           "#19d3f3",
           "#FF6692",
           "#B6E880",
           "#FF97FF",
           "#FECB52"
          ],
          "font": {
           "color": "#2a3f5f"
          },
          "geo": {
           "bgcolor": "white",
           "lakecolor": "white",
           "landcolor": "#E5ECF6",
           "showlakes": true,
           "showland": true,
           "subunitcolor": "white"
          },
          "hoverlabel": {
           "align": "left"
          },
          "hovermode": "closest",
          "mapbox": {
           "style": "light"
          },
          "paper_bgcolor": "white",
          "plot_bgcolor": "#E5ECF6",
          "polar": {
           "angularaxis": {
            "gridcolor": "white",
            "linecolor": "white",
            "ticks": ""
           },
           "bgcolor": "#E5ECF6",
           "radialaxis": {
            "gridcolor": "white",
            "linecolor": "white",
            "ticks": ""
           }
          },
          "scene": {
           "xaxis": {
            "backgroundcolor": "#E5ECF6",
            "gridcolor": "white",
            "gridwidth": 2,
            "linecolor": "white",
            "showbackground": true,
            "ticks": "",
            "zerolinecolor": "white"
           },
           "yaxis": {
            "backgroundcolor": "#E5ECF6",
            "gridcolor": "white",
            "gridwidth": 2,
            "linecolor": "white",
            "showbackground": true,
            "ticks": "",
            "zerolinecolor": "white"
           },
           "zaxis": {
            "backgroundcolor": "#E5ECF6",
            "gridcolor": "white",
            "gridwidth": 2,
            "linecolor": "white",
            "showbackground": true,
            "ticks": "",
            "zerolinecolor": "white"
           }
          },
          "shapedefaults": {
           "line": {
            "color": "#2a3f5f"
           }
          },
          "ternary": {
           "aaxis": {
            "gridcolor": "white",
            "linecolor": "white",
            "ticks": ""
           },
           "baxis": {
            "gridcolor": "white",
            "linecolor": "white",
            "ticks": ""
           },
           "bgcolor": "#E5ECF6",
           "caxis": {
            "gridcolor": "white",
            "linecolor": "white",
            "ticks": ""
           }
          },
          "title": {
           "x": 0.05
          },
          "xaxis": {
           "automargin": true,
           "gridcolor": "white",
           "linecolor": "white",
           "ticks": "",
           "title": {
            "standoff": 15
           },
           "zerolinecolor": "white",
           "zerolinewidth": 2
          },
          "yaxis": {
           "automargin": true,
           "gridcolor": "white",
           "linecolor": "white",
           "ticks": "",
           "title": {
            "standoff": 15
           },
           "zerolinecolor": "white",
           "zerolinewidth": 2
          }
         }
        },
        "title": {
         "text": "Sentiment Analysis of NDR 2022"
        },
        "width": 900,
        "yaxis": {
         "autorange": "reversed"
        }
       }
      },
      "text/html": [
       "<div>                            <div id=\"01d2878d-79f5-4f74-985c-216a23fcd201\" class=\"plotly-graph-div\" style=\"height:600px; width:900px;\"></div>            <script type=\"text/javascript\">                require([\"plotly\"], function(Plotly) {                    window.PLOTLYENV=window.PLOTLYENV || {};                                    if (document.getElementById(\"01d2878d-79f5-4f74-985c-216a23fcd201\")) {                    Plotly.newPlot(                        \"01d2878d-79f5-4f74-985c-216a23fcd201\",                        [{\"colorscale\":[[0.0,\"rgb(103,0,31)\"],[0.1,\"rgb(178,24,43)\"],[0.2,\"rgb(214,96,77)\"],[0.3,\"rgb(244,165,130)\"],[0.4,\"rgb(253,219,199)\"],[0.5,\"rgb(247,247,247)\"],[0.6,\"rgb(209,229,240)\"],[0.7,\"rgb(146,197,222)\"],[0.8,\"rgb(67,147,195)\"],[0.9,\"rgb(33,102,172)\"],[1.0,\"rgb(5,48,97)\"]],\"x\":[0,1,2,3,4,5,6,7,8,9,10,11,12,13,14,15,16,17,18,19,20,21,22,23,24,25,26,27,28,29,30,31,32,33,34,35,36,37,38,39,40,41,42,43,44,45,46,47,48,49,50,51,52,53,54,55,56,57,58,59,60,61,62,63,64,65,66,67,68,69,70,71,72,73,74,75,76,77,78,79,80,81,82,83,84,85,86,87,88,89,90,91,92,93,94,95,96,97,98,99,100,101,102,103,104],\"y\":[\"POSITIVE\",\"POSITIVE\",\"POSITIVE\",\"POSITIVE\",\"NEGATIVE\",\"POSITIVE\",\"POSITIVE\",\"POSITIVE\",\"POSITIVE\",\"POSITIVE\",\"POSITIVE\",\"POSITIVE\",\"POSITIVE\",\"NEGATIVE\",\"POSITIVE\",\"POSITIVE\",\"POSITIVE\",\"NEGATIVE\",\"NEGATIVE\",\"NEGATIVE\",\"POSITIVE\",\"POSITIVE\",\"POSITIVE\",\"NEGATIVE\",\"POSITIVE\",\"POSITIVE\",\"POSITIVE\",\"POSITIVE\",\"NEGATIVE\",\"POSITIVE\",\"POSITIVE\",\"POSITIVE\",\"NEGATIVE\",\"POSITIVE\",\"POSITIVE\",\"NEGATIVE\",\"POSITIVE\",\"NEGATIVE\",\"POSITIVE\",\"POSITIVE\",\"POSITIVE\",\"POSITIVE\",\"POSITIVE\",\"NEGATIVE\",\"POSITIVE\",\"NEGATIVE\",\"POSITIVE\",\"POSITIVE\",\"NEGATIVE\",\"POSITIVE\",\"POSITIVE\",\"POSITIVE\",\"POSITIVE\",\"NEGATIVE\",\"POSITIVE\",\"POSITIVE\",\"NEGATIVE\",\"NEGATIVE\",\"POSITIVE\",\"POSITIVE\",\"POSITIVE\",\"POSITIVE\",\"POSITIVE\",\"POSITIVE\",\"POSITIVE\",\"POSITIVE\",\"POSITIVE\",\"POSITIVE\",\"POSITIVE\",\"POSITIVE\",\"POSITIVE\",\"POSITIVE\",\"POSITIVE\",\"NEGATIVE\",\"POSITIVE\",\"NEGATIVE\",\"NEGATIVE\",\"POSITIVE\",\"POSITIVE\",\"POSITIVE\",\"POSITIVE\",\"POSITIVE\",\"POSITIVE\",\"POSITIVE\",\"POSITIVE\",\"POSITIVE\",\"POSITIVE\",\"POSITIVE\",\"POSITIVE\",\"POSITIVE\",\"POSITIVE\",\"POSITIVE\",\"NEGATIVE\",\"POSITIVE\",\"POSITIVE\",\"POSITIVE\",\"NEGATIVE\",\"POSITIVE\",\"NEGATIVE\",\"POSITIVE\",\"POSITIVE\",\"POSITIVE\",\"POSITIVE\",\"POSITIVE\",\"POSITIVE\"],\"z\":[0.0,0.4404,0.0,0.0772,-0.2732,0.5106,0.9714,0.9776,0.8834,0.9117,0.9892,0.9169,0.3898,-0.2247,0.8479,0.0,0.0772,-0.5095,-0.6757,-0.1901,0.7005,0.0772,0.3919,-0.9531,0.8522,0.669,0.5945,0.7269,-0.7472,0.9129,0.0,0.9383,-0.2263,0.3716,0.0,-0.6369,0.9709,-0.0516,0.7922,0.8779,0.6297,0.0,0.6315,-0.1531,0.6517,-0.8091,0.8225,0.7945,-0.1862,0.3565,0.1027,0.6597,0.7079,-0.7351,0.6486,0.5964,-0.9707,-0.1469,0.949,0.3182,0.6908,0.9136,0.8176,0.6101,0.7684,0.9858,0.9812,0.7982,0.9974,0.993,0.9953,0.0,0.4588,-0.0258,0.9274,-0.6605,-0.2023,0.6124,0.0,0.9966,0.8176,0.0,0.0,0.7579,0.5023,0.4404,0.6652,0.8793,0.7269,0.8402,0.4767,0.6486,-0.7351,0.8915,0.0,0.0772,-0.6808,0.9022,-0.9559,0.8537,0.91,0.9499,0.9509,0.9657,0.6597],\"type\":\"heatmap\"}],                        {\"template\":{\"data\":{\"histogram2dcontour\":[{\"type\":\"histogram2dcontour\",\"colorbar\":{\"outlinewidth\":0,\"ticks\":\"\"},\"colorscale\":[[0.0,\"#0d0887\"],[0.1111111111111111,\"#46039f\"],[0.2222222222222222,\"#7201a8\"],[0.3333333333333333,\"#9c179e\"],[0.4444444444444444,\"#bd3786\"],[0.5555555555555556,\"#d8576b\"],[0.6666666666666666,\"#ed7953\"],[0.7777777777777778,\"#fb9f3a\"],[0.8888888888888888,\"#fdca26\"],[1.0,\"#f0f921\"]]}],\"choropleth\":[{\"type\":\"choropleth\",\"colorbar\":{\"outlinewidth\":0,\"ticks\":\"\"}}],\"histogram2d\":[{\"type\":\"histogram2d\",\"colorbar\":{\"outlinewidth\":0,\"ticks\":\"\"},\"colorscale\":[[0.0,\"#0d0887\"],[0.1111111111111111,\"#46039f\"],[0.2222222222222222,\"#7201a8\"],[0.3333333333333333,\"#9c179e\"],[0.4444444444444444,\"#bd3786\"],[0.5555555555555556,\"#d8576b\"],[0.6666666666666666,\"#ed7953\"],[0.7777777777777778,\"#fb9f3a\"],[0.8888888888888888,\"#fdca26\"],[1.0,\"#f0f921\"]]}],\"heatmap\":[{\"type\":\"heatmap\",\"colorbar\":{\"outlinewidth\":0,\"ticks\":\"\"},\"colorscale\":[[0.0,\"#0d0887\"],[0.1111111111111111,\"#46039f\"],[0.2222222222222222,\"#7201a8\"],[0.3333333333333333,\"#9c179e\"],[0.4444444444444444,\"#bd3786\"],[0.5555555555555556,\"#d8576b\"],[0.6666666666666666,\"#ed7953\"],[0.7777777777777778,\"#fb9f3a\"],[0.8888888888888888,\"#fdca26\"],[1.0,\"#f0f921\"]]}],\"heatmapgl\":[{\"type\":\"heatmapgl\",\"colorbar\":{\"outlinewidth\":0,\"ticks\":\"\"},\"colorscale\":[[0.0,\"#0d0887\"],[0.1111111111111111,\"#46039f\"],[0.2222222222222222,\"#7201a8\"],[0.3333333333333333,\"#9c179e\"],[0.4444444444444444,\"#bd3786\"],[0.5555555555555556,\"#d8576b\"],[0.6666666666666666,\"#ed7953\"],[0.7777777777777778,\"#fb9f3a\"],[0.8888888888888888,\"#fdca26\"],[1.0,\"#f0f921\"]]}],\"contourcarpet\":[{\"type\":\"contourcarpet\",\"colorbar\":{\"outlinewidth\":0,\"ticks\":\"\"}}],\"contour\":[{\"type\":\"contour\",\"colorbar\":{\"outlinewidth\":0,\"ticks\":\"\"},\"colorscale\":[[0.0,\"#0d0887\"],[0.1111111111111111,\"#46039f\"],[0.2222222222222222,\"#7201a8\"],[0.3333333333333333,\"#9c179e\"],[0.4444444444444444,\"#bd3786\"],[0.5555555555555556,\"#d8576b\"],[0.6666666666666666,\"#ed7953\"],[0.7777777777777778,\"#fb9f3a\"],[0.8888888888888888,\"#fdca26\"],[1.0,\"#f0f921\"]]}],\"surface\":[{\"type\":\"surface\",\"colorbar\":{\"outlinewidth\":0,\"ticks\":\"\"},\"colorscale\":[[0.0,\"#0d0887\"],[0.1111111111111111,\"#46039f\"],[0.2222222222222222,\"#7201a8\"],[0.3333333333333333,\"#9c179e\"],[0.4444444444444444,\"#bd3786\"],[0.5555555555555556,\"#d8576b\"],[0.6666666666666666,\"#ed7953\"],[0.7777777777777778,\"#fb9f3a\"],[0.8888888888888888,\"#fdca26\"],[1.0,\"#f0f921\"]]}],\"mesh3d\":[{\"type\":\"mesh3d\",\"colorbar\":{\"outlinewidth\":0,\"ticks\":\"\"}}],\"scatter\":[{\"fillpattern\":{\"fillmode\":\"overlay\",\"size\":10,\"solidity\":0.2},\"type\":\"scatter\"}],\"parcoords\":[{\"type\":\"parcoords\",\"line\":{\"colorbar\":{\"outlinewidth\":0,\"ticks\":\"\"}}}],\"scatterpolargl\":[{\"type\":\"scatterpolargl\",\"marker\":{\"colorbar\":{\"outlinewidth\":0,\"ticks\":\"\"}}}],\"bar\":[{\"error_x\":{\"color\":\"#2a3f5f\"},\"error_y\":{\"color\":\"#2a3f5f\"},\"marker\":{\"line\":{\"color\":\"#E5ECF6\",\"width\":0.5},\"pattern\":{\"fillmode\":\"overlay\",\"size\":10,\"solidity\":0.2}},\"type\":\"bar\"}],\"scattergeo\":[{\"type\":\"scattergeo\",\"marker\":{\"colorbar\":{\"outlinewidth\":0,\"ticks\":\"\"}}}],\"scatterpolar\":[{\"type\":\"scatterpolar\",\"marker\":{\"colorbar\":{\"outlinewidth\":0,\"ticks\":\"\"}}}],\"histogram\":[{\"marker\":{\"pattern\":{\"fillmode\":\"overlay\",\"size\":10,\"solidity\":0.2}},\"type\":\"histogram\"}],\"scattergl\":[{\"type\":\"scattergl\",\"marker\":{\"colorbar\":{\"outlinewidth\":0,\"ticks\":\"\"}}}],\"scatter3d\":[{\"type\":\"scatter3d\",\"line\":{\"colorbar\":{\"outlinewidth\":0,\"ticks\":\"\"}},\"marker\":{\"colorbar\":{\"outlinewidth\":0,\"ticks\":\"\"}}}],\"scattermapbox\":[{\"type\":\"scattermapbox\",\"marker\":{\"colorbar\":{\"outlinewidth\":0,\"ticks\":\"\"}}}],\"scatterternary\":[{\"type\":\"scatterternary\",\"marker\":{\"colorbar\":{\"outlinewidth\":0,\"ticks\":\"\"}}}],\"scattercarpet\":[{\"type\":\"scattercarpet\",\"marker\":{\"colorbar\":{\"outlinewidth\":0,\"ticks\":\"\"}}}],\"carpet\":[{\"aaxis\":{\"endlinecolor\":\"#2a3f5f\",\"gridcolor\":\"white\",\"linecolor\":\"white\",\"minorgridcolor\":\"white\",\"startlinecolor\":\"#2a3f5f\"},\"baxis\":{\"endlinecolor\":\"#2a3f5f\",\"gridcolor\":\"white\",\"linecolor\":\"white\",\"minorgridcolor\":\"white\",\"startlinecolor\":\"#2a3f5f\"},\"type\":\"carpet\"}],\"table\":[{\"cells\":{\"fill\":{\"color\":\"#EBF0F8\"},\"line\":{\"color\":\"white\"}},\"header\":{\"fill\":{\"color\":\"#C8D4E3\"},\"line\":{\"color\":\"white\"}},\"type\":\"table\"}],\"barpolar\":[{\"marker\":{\"line\":{\"color\":\"#E5ECF6\",\"width\":0.5},\"pattern\":{\"fillmode\":\"overlay\",\"size\":10,\"solidity\":0.2}},\"type\":\"barpolar\"}],\"pie\":[{\"automargin\":true,\"type\":\"pie\"}]},\"layout\":{\"autotypenumbers\":\"strict\",\"colorway\":[\"#636efa\",\"#EF553B\",\"#00cc96\",\"#ab63fa\",\"#FFA15A\",\"#19d3f3\",\"#FF6692\",\"#B6E880\",\"#FF97FF\",\"#FECB52\"],\"font\":{\"color\":\"#2a3f5f\"},\"hovermode\":\"closest\",\"hoverlabel\":{\"align\":\"left\"},\"paper_bgcolor\":\"white\",\"plot_bgcolor\":\"#E5ECF6\",\"polar\":{\"bgcolor\":\"#E5ECF6\",\"angularaxis\":{\"gridcolor\":\"white\",\"linecolor\":\"white\",\"ticks\":\"\"},\"radialaxis\":{\"gridcolor\":\"white\",\"linecolor\":\"white\",\"ticks\":\"\"}},\"ternary\":{\"bgcolor\":\"#E5ECF6\",\"aaxis\":{\"gridcolor\":\"white\",\"linecolor\":\"white\",\"ticks\":\"\"},\"baxis\":{\"gridcolor\":\"white\",\"linecolor\":\"white\",\"ticks\":\"\"},\"caxis\":{\"gridcolor\":\"white\",\"linecolor\":\"white\",\"ticks\":\"\"}},\"coloraxis\":{\"colorbar\":{\"outlinewidth\":0,\"ticks\":\"\"}},\"colorscale\":{\"sequential\":[[0.0,\"#0d0887\"],[0.1111111111111111,\"#46039f\"],[0.2222222222222222,\"#7201a8\"],[0.3333333333333333,\"#9c179e\"],[0.4444444444444444,\"#bd3786\"],[0.5555555555555556,\"#d8576b\"],[0.6666666666666666,\"#ed7953\"],[0.7777777777777778,\"#fb9f3a\"],[0.8888888888888888,\"#fdca26\"],[1.0,\"#f0f921\"]],\"sequentialminus\":[[0.0,\"#0d0887\"],[0.1111111111111111,\"#46039f\"],[0.2222222222222222,\"#7201a8\"],[0.3333333333333333,\"#9c179e\"],[0.4444444444444444,\"#bd3786\"],[0.5555555555555556,\"#d8576b\"],[0.6666666666666666,\"#ed7953\"],[0.7777777777777778,\"#fb9f3a\"],[0.8888888888888888,\"#fdca26\"],[1.0,\"#f0f921\"]],\"diverging\":[[0,\"#8e0152\"],[0.1,\"#c51b7d\"],[0.2,\"#de77ae\"],[0.3,\"#f1b6da\"],[0.4,\"#fde0ef\"],[0.5,\"#f7f7f7\"],[0.6,\"#e6f5d0\"],[0.7,\"#b8e186\"],[0.8,\"#7fbc41\"],[0.9,\"#4d9221\"],[1,\"#276419\"]]},\"xaxis\":{\"gridcolor\":\"white\",\"linecolor\":\"white\",\"ticks\":\"\",\"title\":{\"standoff\":15},\"zerolinecolor\":\"white\",\"automargin\":true,\"zerolinewidth\":2},\"yaxis\":{\"gridcolor\":\"white\",\"linecolor\":\"white\",\"ticks\":\"\",\"title\":{\"standoff\":15},\"zerolinecolor\":\"white\",\"automargin\":true,\"zerolinewidth\":2},\"scene\":{\"xaxis\":{\"backgroundcolor\":\"#E5ECF6\",\"gridcolor\":\"white\",\"linecolor\":\"white\",\"showbackground\":true,\"ticks\":\"\",\"zerolinecolor\":\"white\",\"gridwidth\":2},\"yaxis\":{\"backgroundcolor\":\"#E5ECF6\",\"gridcolor\":\"white\",\"linecolor\":\"white\",\"showbackground\":true,\"ticks\":\"\",\"zerolinecolor\":\"white\",\"gridwidth\":2},\"zaxis\":{\"backgroundcolor\":\"#E5ECF6\",\"gridcolor\":\"white\",\"linecolor\":\"white\",\"showbackground\":true,\"ticks\":\"\",\"zerolinecolor\":\"white\",\"gridwidth\":2}},\"shapedefaults\":{\"line\":{\"color\":\"#2a3f5f\"}},\"annotationdefaults\":{\"arrowcolor\":\"#2a3f5f\",\"arrowhead\":0,\"arrowwidth\":1},\"geo\":{\"bgcolor\":\"white\",\"landcolor\":\"#E5ECF6\",\"subunitcolor\":\"white\",\"showland\":true,\"showlakes\":true,\"lakecolor\":\"white\"},\"title\":{\"x\":0.05},\"mapbox\":{\"style\":\"light\"}}},\"title\":{\"text\":\"Sentiment Analysis of NDR 2022\"},\"autosize\":false,\"width\":900,\"height\":600,\"yaxis\":{\"autorange\":\"reversed\"}},                        {\"responsive\": true}                    ).then(function(){\n",
       "                            \n",
       "var gd = document.getElementById('01d2878d-79f5-4f74-985c-216a23fcd201');\n",
       "var x = new MutationObserver(function (mutations, observer) {{\n",
       "        var display = window.getComputedStyle(gd).display;\n",
       "        if (!display || display === 'none') {{\n",
       "            console.log([gd, 'removed!']);\n",
       "            Plotly.purge(gd);\n",
       "            observer.disconnect();\n",
       "        }}\n",
       "}});\n",
       "\n",
       "// Listen for the removal of the full notebook cells\n",
       "var notebookContainer = gd.closest('#notebook-container');\n",
       "if (notebookContainer) {{\n",
       "    x.observe(notebookContainer, {childList: true});\n",
       "}}\n",
       "\n",
       "// Listen for the clearing of the current output cell\n",
       "var outputEl = gd.closest('.output');\n",
       "if (outputEl) {{\n",
       "    x.observe(outputEl, {childList: true});\n",
       "}}\n",
       "\n",
       "                        })                };                });            </script>        </div>"
      ]
     },
     "metadata": {},
     "output_type": "display_data"
    }
   ],
   "source": [
    "fig = go.Figure(\n",
    "    data=go.Heatmap(\n",
    "        z=df_v['VADER_Score'],\n",
    "        x=df_v.index,\n",
    "        y=df_v[\"VADER_Label\"],\n",
    "        colorscale=px.colors.sequential.RdBu,\n",
    "    )\n",
    ")\n",
    "\n",
    "fig.update_layout(\n",
    "    title=go.layout.Title(\n",
    "        text=\"Sentiment Analysis of NDR 2022\"\n",
    "    ),\n",
    "    autosize=False,\n",
    "    width=900,\n",
    "    height=600,\n",
    ")\n",
    "\n",
    "fig.update_layout(yaxis_autorange = \"reversed\")\n",
    "\n",
    "fig.show()"
   ]
  },
  {
   "cell_type": "markdown",
   "id": "9c569cda",
   "metadata": {},
   "source": [
    "Comparison"
   ]
  },
  {
   "cell_type": "code",
   "execution_count": 366,
   "id": "ed6fe5ba",
   "metadata": {},
   "outputs": [],
   "source": [
    "df_compare_2022 = pd.merge(df_v[['ParasNo','Paragraphs', 'VADER_Score', 'VADER_Label']], df_hf, how='inner', on='ParasNo')"
   ]
  },
  {
   "cell_type": "code",
   "execution_count": 367,
   "id": "cbb9d1ee",
   "metadata": {},
   "outputs": [
    {
     "data": {
      "text/plain": [
       "Same        75\n",
       "Opposing    30\n",
       "Name: Difference, dtype: int64"
      ]
     },
     "execution_count": 367,
     "metadata": {},
     "output_type": "execute_result"
    }
   ],
   "source": [
    "df_compare_2022['Difference'] = np.where(df_compare_2022[\"HF_Label\"]!=df_compare_2022['VADER_Label'],'Opposing','Same')\n",
    "df_compare_2022['Difference'].value_counts()"
   ]
  },
  {
   "cell_type": "markdown",
   "id": "6322779a",
   "metadata": {},
   "source": [
    "There are 30 paragraphs with opposing labels. \n",
    "To select 5 for comparison, we selected out paragraphs where each algorithm gave a relatively higher score (>0.30) in the respective labelled polarity."
   ]
  },
  {
   "cell_type": "code",
   "execution_count": 368,
   "id": "d006272d",
   "metadata": {},
   "outputs": [
    {
     "data": {
      "text/html": [
       "<div>\n",
       "<style scoped>\n",
       "    .dataframe tbody tr th:only-of-type {\n",
       "        vertical-align: middle;\n",
       "    }\n",
       "\n",
       "    .dataframe tbody tr th {\n",
       "        vertical-align: top;\n",
       "    }\n",
       "\n",
       "    .dataframe thead th {\n",
       "        text-align: right;\n",
       "    }\n",
       "</style>\n",
       "<table border=\"1\" class=\"dataframe\">\n",
       "  <thead>\n",
       "    <tr style=\"text-align: right;\">\n",
       "      <th></th>\n",
       "      <th>ParasNo</th>\n",
       "      <th>Paragraphs</th>\n",
       "      <th>VADER_Score</th>\n",
       "      <th>VADER_Label</th>\n",
       "      <th>HF_Score</th>\n",
       "      <th>HF_Label</th>\n",
       "      <th>Difference</th>\n",
       "    </tr>\n",
       "  </thead>\n",
       "  <tbody>\n",
       "    <tr>\n",
       "      <th>5</th>\n",
       "      <td>5</td>\n",
       "      <td>Thus far, we have had fewer than 1,600 COVID-1...</td>\n",
       "      <td>0.5106</td>\n",
       "      <td>POSITIVE</td>\n",
       "      <td>-0.498362</td>\n",
       "      <td>NEGATIVE</td>\n",
       "      <td>Opposing</td>\n",
       "    </tr>\n",
       "    <tr>\n",
       "      <th>12</th>\n",
       "      <td>12</td>\n",
       "      <td>With our situation stabilising, we will reduce...</td>\n",
       "      <td>0.3898</td>\n",
       "      <td>POSITIVE</td>\n",
       "      <td>-0.410867</td>\n",
       "      <td>NEGATIVE</td>\n",
       "      <td>Opposing</td>\n",
       "    </tr>\n",
       "    <tr>\n",
       "      <th>25</th>\n",
       "      <td>25</td>\n",
       "      <td>The basic reality is that international econom...</td>\n",
       "      <td>0.6690</td>\n",
       "      <td>POSITIVE</td>\n",
       "      <td>-0.444158</td>\n",
       "      <td>NEGATIVE</td>\n",
       "      <td>Opposing</td>\n",
       "    </tr>\n",
       "    <tr>\n",
       "      <th>26</th>\n",
       "      <td>26</td>\n",
       "      <td>We do not have much influence over this global...</td>\n",
       "      <td>0.5945</td>\n",
       "      <td>POSITIVE</td>\n",
       "      <td>-0.337353</td>\n",
       "      <td>NEGATIVE</td>\n",
       "      <td>Opposing</td>\n",
       "    </tr>\n",
       "    <tr>\n",
       "      <th>35</th>\n",
       "      <td>35</td>\n",
       "      <td>Even as we navigate through an uncertain and t...</td>\n",
       "      <td>-0.6369</td>\n",
       "      <td>NEGATIVE</td>\n",
       "      <td>0.796876</td>\n",
       "      <td>POSITIVE</td>\n",
       "      <td>Opposing</td>\n",
       "    </tr>\n",
       "    <tr>\n",
       "      <th>44</th>\n",
       "      <td>44</td>\n",
       "      <td>Singaporeans still have differing views on whe...</td>\n",
       "      <td>0.6517</td>\n",
       "      <td>POSITIVE</td>\n",
       "      <td>-0.582289</td>\n",
       "      <td>NEGATIVE</td>\n",
       "      <td>Opposing</td>\n",
       "    </tr>\n",
       "    <tr>\n",
       "      <th>47</th>\n",
       "      <td>47</td>\n",
       "      <td>But at the same time, most Singaporeans do not...</td>\n",
       "      <td>0.7945</td>\n",
       "      <td>POSITIVE</td>\n",
       "      <td>-0.909494</td>\n",
       "      <td>NEGATIVE</td>\n",
       "      <td>Opposing</td>\n",
       "    </tr>\n",
       "    <tr>\n",
       "      <th>51</th>\n",
       "      <td>51</td>\n",
       "      <td>However, as the law stands, this definition of...</td>\n",
       "      <td>0.6597</td>\n",
       "      <td>POSITIVE</td>\n",
       "      <td>-0.625398</td>\n",
       "      <td>NEGATIVE</td>\n",
       "      <td>Opposing</td>\n",
       "    </tr>\n",
       "    <tr>\n",
       "      <th>60</th>\n",
       "      <td>60</td>\n",
       "      <td>While we deal with sensitive issues like s377A...</td>\n",
       "      <td>0.6908</td>\n",
       "      <td>POSITIVE</td>\n",
       "      <td>-0.525415</td>\n",
       "      <td>NEGATIVE</td>\n",
       "      <td>Opposing</td>\n",
       "    </tr>\n",
       "  </tbody>\n",
       "</table>\n",
       "</div>"
      ],
      "text/plain": [
       "    ParasNo                                         Paragraphs  VADER_Score  \\\n",
       "5         5  Thus far, we have had fewer than 1,600 COVID-1...       0.5106   \n",
       "12       12  With our situation stabilising, we will reduce...       0.3898   \n",
       "25       25  The basic reality is that international econom...       0.6690   \n",
       "26       26  We do not have much influence over this global...       0.5945   \n",
       "35       35  Even as we navigate through an uncertain and t...      -0.6369   \n",
       "44       44  Singaporeans still have differing views on whe...       0.6517   \n",
       "47       47  But at the same time, most Singaporeans do not...       0.7945   \n",
       "51       51  However, as the law stands, this definition of...       0.6597   \n",
       "60       60  While we deal with sensitive issues like s377A...       0.6908   \n",
       "\n",
       "   VADER_Label  HF_Score  HF_Label Difference  \n",
       "5     POSITIVE -0.498362  NEGATIVE   Opposing  \n",
       "12    POSITIVE -0.410867  NEGATIVE   Opposing  \n",
       "25    POSITIVE -0.444158  NEGATIVE   Opposing  \n",
       "26    POSITIVE -0.337353  NEGATIVE   Opposing  \n",
       "35    NEGATIVE  0.796876  POSITIVE   Opposing  \n",
       "44    POSITIVE -0.582289  NEGATIVE   Opposing  \n",
       "47    POSITIVE -0.909494  NEGATIVE   Opposing  \n",
       "51    POSITIVE -0.625398  NEGATIVE   Opposing  \n",
       "60    POSITIVE -0.525415  NEGATIVE   Opposing  "
      ]
     },
     "execution_count": 368,
     "metadata": {},
     "output_type": "execute_result"
    }
   ],
   "source": [
    "df_compare_2022[(df_compare_2022['Difference'] == 'Opposing') & (abs(df_compare_2022['HF_Score']) >0.30) & (abs(df_compare_2022['VADER_Score']) >0.30)]"
   ]
  },
  {
   "cell_type": "code",
   "execution_count": 369,
   "id": "4a4bc5b1",
   "metadata": {},
   "outputs": [
    {
     "data": {
      "text/plain": [
       "[51, 12, 35, 47, 60]"
      ]
     },
     "execution_count": 369,
     "metadata": {},
     "output_type": "execute_result"
    }
   ],
   "source": [
    "#Randomly selecting 5 paragraphs to review\n",
    "import random\n",
    "random.seed(68)\n",
    "random.sample(list(df_compare_2022[(df_compare_2022['Difference'] == 'Opposing') & (abs(df_compare_2022['HF_Score']) >0.30) & (abs(df_compare_2022['VADER_Score']) >0.30)].ParasNo),k=5)"
   ]
  },
  {
   "cell_type": "markdown",
   "id": "4eb78272",
   "metadata": {},
   "source": [
    "### Year 2012"
   ]
  },
  {
   "cell_type": "markdown",
   "id": "365b1a80",
   "metadata": {},
   "source": [
    "#### Hugging Face"
   ]
  },
  {
   "cell_type": "code",
   "execution_count": 303,
   "id": "b34aa8cf",
   "metadata": {},
   "outputs": [],
   "source": [
    "# Define the file directory\n",
    "file_directory = '..\\\\Dataset\\\\'\n",
    "\n",
    "# Read a single file \n",
    "with open(file_directory + '2012_eng.txt', 'r', encoding=\"utf8\") as file_to_read:\n",
    "    df = file_to_read.read()\n",
    "    \n",
    "# Convert into dataframes, split by paragraphs\n",
    "df = (pd.DataFrame(df.split(\"\\n\\n\"))).rename(columns={0: \"Paragraphs\"})\n",
    "\n",
    "#Create new column to store Paragraph Numbers \n",
    "df['ParasNo'] = df.index"
   ]
  },
  {
   "cell_type": "code",
   "execution_count": 304,
   "id": "74024e27",
   "metadata": {},
   "outputs": [],
   "source": [
    "import numpy as np\n",
    "from itertools import chain\n",
    "\n",
    "# return list from series of comma-separated strings\n",
    "def chainer(s):\n",
    "    return list(chain.from_iterable(s.str.split('.')))\n",
    "\n",
    "# calculate lengths of splits using full stops as we are looking for sentences\n",
    "lens = df['Paragraphs'].str.split('.').map(len)\n",
    "\n",
    "# create new dataframe, repeating or chaining as appropriate\n",
    "df = pd.DataFrame({'ParasNo': np.repeat(df['ParasNo'], lens),\n",
    "                    'Sentences': chainer(df['Paragraphs'])}) \n",
    "\n",
    "df.reset_index(inplace=True, drop=True)"
   ]
  },
  {
   "cell_type": "code",
   "execution_count": 305,
   "id": "043b1693",
   "metadata": {},
   "outputs": [],
   "source": [
    "# Pre-processing\n",
    "\n",
    "#Drop rows with empty strings \n",
    "df.drop(index=df[df['Sentences'] == ''].index, inplace=True)\n",
    "df.reset_index(inplace=True, drop=True)\n",
    "\n",
    "def clean_text(text):\n",
    "    text = text.lower()\n",
    "    text = re.sub(r\"\\n\", \" \", text) #replace \"\\n\" with \" \"\n",
    "    text = re.sub(r\"\\W\", \" \", text) #replaces non-word characters like ',' with \" \"\n",
    "    text = re.sub(r\"^\\d+\\s|\\s\\d+\\s|\\s\\d+$\", \" \", text) #removes digits e.g. 16 years >> years\n",
    "    text = text.strip(\" \")\n",
    "    text = re.sub(r\"[^\\w\\s]\", \"\", text)\n",
    "    return text\n",
    "\n",
    "df[\"Clean_Text\"] = df['Sentences'].map(lambda text: clean_text(text))"
   ]
  },
  {
   "cell_type": "code",
   "execution_count": 306,
   "id": "0d12741c",
   "metadata": {},
   "outputs": [],
   "source": [
    "corpus = list(df['Clean_Text'].values)"
   ]
  },
  {
   "cell_type": "code",
   "execution_count": 307,
   "id": "975ac7af",
   "metadata": {},
   "outputs": [],
   "source": [
    "nlp_sentiment = pipeline(\"sentiment-analysis\", model = \"distilbert-base-uncased-finetuned-sst-2-english\")"
   ]
  },
  {
   "cell_type": "code",
   "execution_count": 308,
   "id": "8410e78b",
   "metadata": {},
   "outputs": [
    {
     "name": "stdout",
     "output_type": "stream",
     "text": [
      "Wall time: 31.7 s\n"
     ]
    }
   ],
   "source": [
    "%%time\n",
    "df[\"Sentiment\"] = nlp_sentiment(corpus)"
   ]
  },
  {
   "cell_type": "code",
   "execution_count": 309,
   "id": "dcca26b1",
   "metadata": {},
   "outputs": [],
   "source": [
    "# Extract pipeline's sentiment analysis output that consists of a label and a score into separate columns\n",
    "\n",
    "df['Sentiment_Label'] = [x.get('label') for x in df['Sentiment']]\n",
    "df['Sentiment_Score'] = [x.get('score') for x in df['Sentiment']]"
   ]
  },
  {
   "cell_type": "code",
   "execution_count": 310,
   "id": "bae1c922",
   "metadata": {
    "scrolled": true
   },
   "outputs": [
    {
     "data": {
      "text/plain": [
       "POSITIVE    372\n",
       "NEGATIVE    233\n",
       "Name: Sentiment_Label, dtype: int64"
      ]
     },
     "execution_count": 310,
     "metadata": {},
     "output_type": "execute_result"
    }
   ],
   "source": [
    "df['Sentiment_Label'].value_counts()"
   ]
  },
  {
   "cell_type": "code",
   "execution_count": 311,
   "id": "3496f9d0",
   "metadata": {},
   "outputs": [
    {
     "data": {
      "text/plain": [
       "POSITIVE    38\n",
       "NEGATIVE    13\n",
       "Name: HF_Label, dtype: int64"
      ]
     },
     "execution_count": 311,
     "metadata": {},
     "output_type": "execute_result"
    }
   ],
   "source": [
    "#Create new column to store scores\n",
    "df['HF_Score'] = df['Sentiment_Score']\n",
    "\n",
    "#Update the scores' for rows of negative sentiment by converting it to the negative scale\n",
    "mask = (df['Sentiment_Label'] == 'NEGATIVE')\n",
    "df.loc[mask, 'HF_Score'] = - df['Sentiment_Score']\n",
    "\n",
    "#Take the average of the sentence scores and store in a new dataframe\n",
    "df_hf = df.groupby(['ParasNo']).mean('HF_Score')\n",
    "df_hf.drop(columns='Sentiment_Score',axis = 1, inplace=True)\n",
    "\n",
    "#Assign Sentiment Label for each paragraph where sentiment is positive if score >= 0.50, and negative otherwise. \n",
    "df_hf['HF_Label'] = np.where(df_hf['HF_Score']>=0, \"POSITIVE\",\"NEGATIVE\")\n",
    "df_hf['HF_Label'].value_counts()"
   ]
  },
  {
   "cell_type": "markdown",
   "id": "3545d38a",
   "metadata": {},
   "source": [
    "#### VADER"
   ]
  },
  {
   "cell_type": "code",
   "execution_count": 312,
   "id": "4de1c8af",
   "metadata": {},
   "outputs": [],
   "source": [
    "import nltk\n",
    "#nltk.download('vader_lexicon')\n",
    "from nltk.sentiment.vader import SentimentIntensityAnalyzer\n",
    "sid = SentimentIntensityAnalyzer()"
   ]
  },
  {
   "cell_type": "code",
   "execution_count": 313,
   "id": "5ccf7c8c",
   "metadata": {},
   "outputs": [],
   "source": [
    "# Define the file directory\n",
    "file_directory = '..\\\\Dataset\\\\'\n",
    "\n",
    "# Read a single file \n",
    "with open(file_directory + '2012_eng.txt', 'r', encoding=\"utf8\") as file_to_read:\n",
    "    df_v = file_to_read.read()\n",
    "    \n",
    "# Convert into dataframes, split by paragraphs\n",
    "df_v = (pd.DataFrame(df_v.split(\"\\n\\n\"))).rename(columns={0: \"Paragraphs\"})\n",
    "\n",
    "#Create new column to store Paragraph Numbers \n",
    "df_v['ParasNo'] = df_v.index"
   ]
  },
  {
   "cell_type": "code",
   "execution_count": 314,
   "id": "20bb2dbd",
   "metadata": {},
   "outputs": [],
   "source": [
    "# Pre-processing\n",
    "#Drop rows with empty strings \n",
    "df_v.drop(index=df_v[df_v['Paragraphs'] == ''].index, inplace=True)\n",
    "df_v.reset_index(inplace=True, drop=True)\n",
    "\n",
    "def clean_text(text):\n",
    "    text = text.lower()\n",
    "    text = re.sub(r\"\\n\", \" \", text) #replace \"\\n\" with \" \"\n",
    "    text = re.sub(r\"\\W\", \" \", text) #replaces non-word characters like ',' with \" \"\n",
    "    text = re.sub(r\"^\\d+\\s|\\s\\d+\\s|\\s\\d+$\", \" \", text) #removes digits e.g. 16 years >> years\n",
    "    text = text.strip(\" \")\n",
    "    text = re.sub(r\"[^\\w\\s]\", \"\", text)\n",
    "    return text\n",
    "\n",
    "df_v[\"Clean_Text\"] = df_v['Paragraphs'].map(lambda text: clean_text(text))"
   ]
  },
  {
   "cell_type": "code",
   "execution_count": 315,
   "id": "8a19e5e2",
   "metadata": {},
   "outputs": [
    {
     "data": {
      "text/html": [
       "<div>\n",
       "<style scoped>\n",
       "    .dataframe tbody tr th:only-of-type {\n",
       "        vertical-align: middle;\n",
       "    }\n",
       "\n",
       "    .dataframe tbody tr th {\n",
       "        vertical-align: top;\n",
       "    }\n",
       "\n",
       "    .dataframe thead th {\n",
       "        text-align: right;\n",
       "    }\n",
       "</style>\n",
       "<table border=\"1\" class=\"dataframe\">\n",
       "  <thead>\n",
       "    <tr style=\"text-align: right;\">\n",
       "      <th></th>\n",
       "      <th>Paragraphs</th>\n",
       "      <th>ParasNo</th>\n",
       "      <th>Clean_Text</th>\n",
       "      <th>scores</th>\n",
       "    </tr>\n",
       "  </thead>\n",
       "  <tbody>\n",
       "    <tr>\n",
       "      <th>0</th>\n",
       "      <td>Friends and fellow Singaporeans</td>\n",
       "      <td>0</td>\n",
       "      <td>friends and fellow singaporeans</td>\n",
       "      <td>{'neg': 0.0, 'neu': 0.492, 'pos': 0.508, 'comp...</td>\n",
       "    </tr>\n",
       "    <tr>\n",
       "      <th>1</th>\n",
       "      <td>We have travelled from Third World to First. Y...</td>\n",
       "      <td>1</td>\n",
       "      <td>we have travelled from third world to first  y...</td>\n",
       "      <td>{'neg': 0.0, 'neu': 0.911, 'pos': 0.089, 'comp...</td>\n",
       "    </tr>\n",
       "    <tr>\n",
       "      <th>2</th>\n",
       "      <td>The next 20 years will see many changes in the...</td>\n",
       "      <td>2</td>\n",
       "      <td>the next years will see many changes in the wo...</td>\n",
       "      <td>{'neg': 0.044, 'neu': 0.777, 'pos': 0.179, 'co...</td>\n",
       "    </tr>\n",
       "    <tr>\n",
       "      <th>3</th>\n",
       "      <td>We are both a country and a city. So when we l...</td>\n",
       "      <td>3</td>\n",
       "      <td>we are both a country and a city  so when we l...</td>\n",
       "      <td>{'neg': 0.034, 'neu': 0.777, 'pos': 0.189, 'co...</td>\n",
       "    </tr>\n",
       "    <tr>\n",
       "      <th>4</th>\n",
       "      <td>One of the big changes in the world which will...</td>\n",
       "      <td>4</td>\n",
       "      <td>one of the big changes in the world which will...</td>\n",
       "      <td>{'neg': 0.08, 'neu': 0.874, 'pos': 0.047, 'com...</td>\n",
       "    </tr>\n",
       "  </tbody>\n",
       "</table>\n",
       "</div>"
      ],
      "text/plain": [
       "                                          Paragraphs  ParasNo  \\\n",
       "0                    Friends and fellow Singaporeans        0   \n",
       "1  We have travelled from Third World to First. Y...        1   \n",
       "2  The next 20 years will see many changes in the...        2   \n",
       "3  We are both a country and a city. So when we l...        3   \n",
       "4  One of the big changes in the world which will...        4   \n",
       "\n",
       "                                          Clean_Text  \\\n",
       "0                    friends and fellow singaporeans   \n",
       "1  we have travelled from third world to first  y...   \n",
       "2  the next years will see many changes in the wo...   \n",
       "3  we are both a country and a city  so when we l...   \n",
       "4  one of the big changes in the world which will...   \n",
       "\n",
       "                                              scores  \n",
       "0  {'neg': 0.0, 'neu': 0.492, 'pos': 0.508, 'comp...  \n",
       "1  {'neg': 0.0, 'neu': 0.911, 'pos': 0.089, 'comp...  \n",
       "2  {'neg': 0.044, 'neu': 0.777, 'pos': 0.179, 'co...  \n",
       "3  {'neg': 0.034, 'neu': 0.777, 'pos': 0.189, 'co...  \n",
       "4  {'neg': 0.08, 'neu': 0.874, 'pos': 0.047, 'com...  "
      ]
     },
     "execution_count": 315,
     "metadata": {},
     "output_type": "execute_result"
    }
   ],
   "source": [
    "df_v['scores'] = df_v['Clean_Text'].apply(lambda x: sid.polarity_scores(x))\n",
    "df_v.head()"
   ]
  },
  {
   "cell_type": "code",
   "execution_count": 316,
   "id": "2ccc60f2",
   "metadata": {
    "scrolled": true
   },
   "outputs": [
    {
     "data": {
      "text/html": [
       "<div>\n",
       "<style scoped>\n",
       "    .dataframe tbody tr th:only-of-type {\n",
       "        vertical-align: middle;\n",
       "    }\n",
       "\n",
       "    .dataframe tbody tr th {\n",
       "        vertical-align: top;\n",
       "    }\n",
       "\n",
       "    .dataframe thead th {\n",
       "        text-align: right;\n",
       "    }\n",
       "</style>\n",
       "<table border=\"1\" class=\"dataframe\">\n",
       "  <thead>\n",
       "    <tr style=\"text-align: right;\">\n",
       "      <th></th>\n",
       "      <th>Paragraphs</th>\n",
       "      <th>ParasNo</th>\n",
       "      <th>Clean_Text</th>\n",
       "      <th>scores</th>\n",
       "      <th>VADER_Score</th>\n",
       "      <th>VADER_Label</th>\n",
       "    </tr>\n",
       "  </thead>\n",
       "  <tbody>\n",
       "    <tr>\n",
       "      <th>0</th>\n",
       "      <td>Friends and fellow Singaporeans</td>\n",
       "      <td>0</td>\n",
       "      <td>friends and fellow singaporeans</td>\n",
       "      <td>{'neg': 0.0, 'neu': 0.492, 'pos': 0.508, 'comp...</td>\n",
       "      <td>0.4767</td>\n",
       "      <td>POSITIVE</td>\n",
       "    </tr>\n",
       "    <tr>\n",
       "      <th>1</th>\n",
       "      <td>We have travelled from Third World to First. Y...</td>\n",
       "      <td>1</td>\n",
       "      <td>we have travelled from third world to first  y...</td>\n",
       "      <td>{'neg': 0.0, 'neu': 0.911, 'pos': 0.089, 'comp...</td>\n",
       "      <td>0.3400</td>\n",
       "      <td>POSITIVE</td>\n",
       "    </tr>\n",
       "    <tr>\n",
       "      <th>2</th>\n",
       "      <td>The next 20 years will see many changes in the...</td>\n",
       "      <td>2</td>\n",
       "      <td>the next years will see many changes in the wo...</td>\n",
       "      <td>{'neg': 0.044, 'neu': 0.777, 'pos': 0.179, 'co...</td>\n",
       "      <td>0.9237</td>\n",
       "      <td>POSITIVE</td>\n",
       "    </tr>\n",
       "    <tr>\n",
       "      <th>3</th>\n",
       "      <td>We are both a country and a city. So when we l...</td>\n",
       "      <td>3</td>\n",
       "      <td>we are both a country and a city  so when we l...</td>\n",
       "      <td>{'neg': 0.034, 'neu': 0.777, 'pos': 0.189, 'co...</td>\n",
       "      <td>0.9945</td>\n",
       "      <td>POSITIVE</td>\n",
       "    </tr>\n",
       "    <tr>\n",
       "      <th>4</th>\n",
       "      <td>One of the big changes in the world which will...</td>\n",
       "      <td>4</td>\n",
       "      <td>one of the big changes in the world which will...</td>\n",
       "      <td>{'neg': 0.08, 'neu': 0.874, 'pos': 0.047, 'com...</td>\n",
       "      <td>-0.6560</td>\n",
       "      <td>NEGATIVE</td>\n",
       "    </tr>\n",
       "  </tbody>\n",
       "</table>\n",
       "</div>"
      ],
      "text/plain": [
       "                                          Paragraphs  ParasNo  \\\n",
       "0                    Friends and fellow Singaporeans        0   \n",
       "1  We have travelled from Third World to First. Y...        1   \n",
       "2  The next 20 years will see many changes in the...        2   \n",
       "3  We are both a country and a city. So when we l...        3   \n",
       "4  One of the big changes in the world which will...        4   \n",
       "\n",
       "                                          Clean_Text  \\\n",
       "0                    friends and fellow singaporeans   \n",
       "1  we have travelled from third world to first  y...   \n",
       "2  the next years will see many changes in the wo...   \n",
       "3  we are both a country and a city  so when we l...   \n",
       "4  one of the big changes in the world which will...   \n",
       "\n",
       "                                              scores  VADER_Score VADER_Label  \n",
       "0  {'neg': 0.0, 'neu': 0.492, 'pos': 0.508, 'comp...       0.4767    POSITIVE  \n",
       "1  {'neg': 0.0, 'neu': 0.911, 'pos': 0.089, 'comp...       0.3400    POSITIVE  \n",
       "2  {'neg': 0.044, 'neu': 0.777, 'pos': 0.179, 'co...       0.9237    POSITIVE  \n",
       "3  {'neg': 0.034, 'neu': 0.777, 'pos': 0.189, 'co...       0.9945    POSITIVE  \n",
       "4  {'neg': 0.08, 'neu': 0.874, 'pos': 0.047, 'com...      -0.6560    NEGATIVE  "
      ]
     },
     "execution_count": 316,
     "metadata": {},
     "output_type": "execute_result"
    }
   ],
   "source": [
    "#Separate out the compound score\n",
    "df_v['VADER_Score']  = df_v['scores'].apply(lambda score_dict: score_dict['compound'])\n",
    "#Assign polarity (pos, neg based on compound score)\n",
    "df_v['VADER_Label'] = df_v['VADER_Score'].apply(lambda c: 'POSITIVE' if c >=0 else 'NEGATIVE') #(lambda c: 'pos' if c >0 else 'neg' if c<0 else 'neu')\n",
    "\n",
    "df_v.head() "
   ]
  },
  {
   "cell_type": "markdown",
   "id": "4783391a",
   "metadata": {},
   "source": [
    "#### 2012 Comparison"
   ]
  },
  {
   "cell_type": "code",
   "execution_count": 317,
   "id": "42799953",
   "metadata": {},
   "outputs": [],
   "source": [
    "df_compare_2012 = pd.merge(df_v[['ParasNo','Paragraphs', 'VADER_Score', 'VADER_Label']], df_hf, how='inner', on='ParasNo')"
   ]
  },
  {
   "cell_type": "code",
   "execution_count": 318,
   "id": "1276d17d",
   "metadata": {},
   "outputs": [
    {
     "data": {
      "text/plain": [
       "Same        41\n",
       "Opposing    10\n",
       "Name: Difference, dtype: int64"
      ]
     },
     "execution_count": 318,
     "metadata": {},
     "output_type": "execute_result"
    }
   ],
   "source": [
    "df_compare_2012['Difference'] = np.where(df_compare_2012[\"HF_Label\"]!=df_compare_2012['VADER_Label'],'Opposing','Same')\n",
    "df_compare_2012['Difference'].value_counts()"
   ]
  },
  {
   "cell_type": "code",
   "execution_count": 319,
   "id": "aad8c575",
   "metadata": {},
   "outputs": [
    {
     "data": {
      "text/html": [
       "<div>\n",
       "<style scoped>\n",
       "    .dataframe tbody tr th:only-of-type {\n",
       "        vertical-align: middle;\n",
       "    }\n",
       "\n",
       "    .dataframe tbody tr th {\n",
       "        vertical-align: top;\n",
       "    }\n",
       "\n",
       "    .dataframe thead th {\n",
       "        text-align: right;\n",
       "    }\n",
       "</style>\n",
       "<table border=\"1\" class=\"dataframe\">\n",
       "  <thead>\n",
       "    <tr style=\"text-align: right;\">\n",
       "      <th></th>\n",
       "      <th>ParasNo</th>\n",
       "      <th>Paragraphs</th>\n",
       "      <th>VADER_Score</th>\n",
       "      <th>VADER_Label</th>\n",
       "      <th>HF_Score</th>\n",
       "      <th>HF_Label</th>\n",
       "      <th>Difference</th>\n",
       "    </tr>\n",
       "  </thead>\n",
       "  <tbody>\n",
       "    <tr>\n",
       "      <th>5</th>\n",
       "      <td>5</td>\n",
       "      <td>In 1992, the Internet had not yet come to Sing...</td>\n",
       "      <td>0.8047</td>\n",
       "      <td>POSITIVE</td>\n",
       "      <td>-0.034608</td>\n",
       "      <td>NEGATIVE</td>\n",
       "      <td>Opposing</td>\n",
       "    </tr>\n",
       "    <tr>\n",
       "      <th>8</th>\n",
       "      <td>8</td>\n",
       "      <td>How will these technological advances affect u...</td>\n",
       "      <td>0.1779</td>\n",
       "      <td>POSITIVE</td>\n",
       "      <td>-0.284489</td>\n",
       "      <td>NEGATIVE</td>\n",
       "      <td>Opposing</td>\n",
       "    </tr>\n",
       "    <tr>\n",
       "      <th>11</th>\n",
       "      <td>11</td>\n",
       "      <td>So what should the next chapter of the Singapo...</td>\n",
       "      <td>0.4404</td>\n",
       "      <td>POSITIVE</td>\n",
       "      <td>-0.977439</td>\n",
       "      <td>NEGATIVE</td>\n",
       "      <td>Opposing</td>\n",
       "    </tr>\n",
       "    <tr>\n",
       "      <th>14</th>\n",
       "      <td>14</td>\n",
       "      <td>We have done it in this generation, for this g...</td>\n",
       "      <td>0.9918</td>\n",
       "      <td>POSITIVE</td>\n",
       "      <td>-0.115473</td>\n",
       "      <td>NEGATIVE</td>\n",
       "      <td>Opposing</td>\n",
       "    </tr>\n",
       "    <tr>\n",
       "      <th>27</th>\n",
       "      <td>27</td>\n",
       "      <td>The transformation will take some time but I a...</td>\n",
       "      <td>0.9838</td>\n",
       "      <td>POSITIVE</td>\n",
       "      <td>-0.108692</td>\n",
       "      <td>NEGATIVE</td>\n",
       "      <td>Opposing</td>\n",
       "    </tr>\n",
       "    <tr>\n",
       "      <th>30</th>\n",
       "      <td>30</td>\n",
       "      <td>If you look ahead, the state is bound to spend...</td>\n",
       "      <td>0.9445</td>\n",
       "      <td>POSITIVE</td>\n",
       "      <td>-0.123764</td>\n",
       "      <td>NEGATIVE</td>\n",
       "      <td>Opposing</td>\n",
       "    </tr>\n",
       "    <tr>\n",
       "      <th>31</th>\n",
       "      <td>31</td>\n",
       "      <td>The second message is that social safety nets ...</td>\n",
       "      <td>0.7578</td>\n",
       "      <td>POSITIVE</td>\n",
       "      <td>-0.435775</td>\n",
       "      <td>NEGATIVE</td>\n",
       "      <td>Opposing</td>\n",
       "    </tr>\n",
       "    <tr>\n",
       "      <th>35</th>\n",
       "      <td>35</td>\n",
       "      <td>But I would be less than honest if I did not t...</td>\n",
       "      <td>0.4273</td>\n",
       "      <td>POSITIVE</td>\n",
       "      <td>-0.198967</td>\n",
       "      <td>NEGATIVE</td>\n",
       "      <td>Opposing</td>\n",
       "    </tr>\n",
       "    <tr>\n",
       "      <th>40</th>\n",
       "      <td>40</td>\n",
       "      <td>Many Singaporeans have explained their conside...</td>\n",
       "      <td>0.9321</td>\n",
       "      <td>POSITIVE</td>\n",
       "      <td>-0.069751</td>\n",
       "      <td>NEGATIVE</td>\n",
       "      <td>Opposing</td>\n",
       "    </tr>\n",
       "    <tr>\n",
       "      <th>42</th>\n",
       "      <td>42</td>\n",
       "      <td>So first work-life balance, I think we need to...</td>\n",
       "      <td>0.9143</td>\n",
       "      <td>POSITIVE</td>\n",
       "      <td>-0.016124</td>\n",
       "      <td>NEGATIVE</td>\n",
       "      <td>Opposing</td>\n",
       "    </tr>\n",
       "  </tbody>\n",
       "</table>\n",
       "</div>"
      ],
      "text/plain": [
       "    ParasNo                                         Paragraphs  VADER_Score  \\\n",
       "5         5  In 1992, the Internet had not yet come to Sing...       0.8047   \n",
       "8         8  How will these technological advances affect u...       0.1779   \n",
       "11       11  So what should the next chapter of the Singapo...       0.4404   \n",
       "14       14  We have done it in this generation, for this g...       0.9918   \n",
       "27       27  The transformation will take some time but I a...       0.9838   \n",
       "30       30  If you look ahead, the state is bound to spend...       0.9445   \n",
       "31       31  The second message is that social safety nets ...       0.7578   \n",
       "35       35  But I would be less than honest if I did not t...       0.4273   \n",
       "40       40  Many Singaporeans have explained their conside...       0.9321   \n",
       "42       42  So first work-life balance, I think we need to...       0.9143   \n",
       "\n",
       "   VADER_Label  HF_Score  HF_Label Difference  \n",
       "5     POSITIVE -0.034608  NEGATIVE   Opposing  \n",
       "8     POSITIVE -0.284489  NEGATIVE   Opposing  \n",
       "11    POSITIVE -0.977439  NEGATIVE   Opposing  \n",
       "14    POSITIVE -0.115473  NEGATIVE   Opposing  \n",
       "27    POSITIVE -0.108692  NEGATIVE   Opposing  \n",
       "30    POSITIVE -0.123764  NEGATIVE   Opposing  \n",
       "31    POSITIVE -0.435775  NEGATIVE   Opposing  \n",
       "35    POSITIVE -0.198967  NEGATIVE   Opposing  \n",
       "40    POSITIVE -0.069751  NEGATIVE   Opposing  \n",
       "42    POSITIVE -0.016124  NEGATIVE   Opposing  "
      ]
     },
     "execution_count": 319,
     "metadata": {},
     "output_type": "execute_result"
    }
   ],
   "source": [
    "df_compare_2012[df_compare_2012['Difference'] == 'Opposing']"
   ]
  },
  {
   "cell_type": "markdown",
   "id": "344425c8",
   "metadata": {},
   "source": [
    "There are 10 paragraphs with opposing labels. We randomly selected 5 for comparison. \n",
    "Note: There are no paragraphs with each algo giving very different scores."
   ]
  },
  {
   "cell_type": "code",
   "execution_count": 321,
   "id": "3e996f34",
   "metadata": {},
   "outputs": [
    {
     "data": {
      "text/html": [
       "<div>\n",
       "<style scoped>\n",
       "    .dataframe tbody tr th:only-of-type {\n",
       "        vertical-align: middle;\n",
       "    }\n",
       "\n",
       "    .dataframe tbody tr th {\n",
       "        vertical-align: top;\n",
       "    }\n",
       "\n",
       "    .dataframe thead th {\n",
       "        text-align: right;\n",
       "    }\n",
       "</style>\n",
       "<table border=\"1\" class=\"dataframe\">\n",
       "  <thead>\n",
       "    <tr style=\"text-align: right;\">\n",
       "      <th></th>\n",
       "      <th>ParasNo</th>\n",
       "      <th>Paragraphs</th>\n",
       "      <th>VADER_Score</th>\n",
       "      <th>VADER_Label</th>\n",
       "      <th>HF_Score</th>\n",
       "      <th>HF_Label</th>\n",
       "      <th>Difference</th>\n",
       "    </tr>\n",
       "  </thead>\n",
       "  <tbody>\n",
       "    <tr>\n",
       "      <th>11</th>\n",
       "      <td>11</td>\n",
       "      <td>So what should the next chapter of the Singapo...</td>\n",
       "      <td>0.4404</td>\n",
       "      <td>POSITIVE</td>\n",
       "      <td>-0.977439</td>\n",
       "      <td>NEGATIVE</td>\n",
       "      <td>Opposing</td>\n",
       "    </tr>\n",
       "    <tr>\n",
       "      <th>31</th>\n",
       "      <td>31</td>\n",
       "      <td>The second message is that social safety nets ...</td>\n",
       "      <td>0.7578</td>\n",
       "      <td>POSITIVE</td>\n",
       "      <td>-0.435775</td>\n",
       "      <td>NEGATIVE</td>\n",
       "      <td>Opposing</td>\n",
       "    </tr>\n",
       "  </tbody>\n",
       "</table>\n",
       "</div>"
      ],
      "text/plain": [
       "    ParasNo                                         Paragraphs  VADER_Score  \\\n",
       "11       11  So what should the next chapter of the Singapo...       0.4404   \n",
       "31       31  The second message is that social safety nets ...       0.7578   \n",
       "\n",
       "   VADER_Label  HF_Score  HF_Label Difference  \n",
       "11    POSITIVE -0.977439  NEGATIVE   Opposing  \n",
       "31    POSITIVE -0.435775  NEGATIVE   Opposing  "
      ]
     },
     "execution_count": 321,
     "metadata": {},
     "output_type": "execute_result"
    }
   ],
   "source": [
    "df_compare_2012[(df_compare_2012['Difference'] == 'Opposing') & (abs(df_compare_2012['HF_Score']) >0.30) & (abs(df_compare_2012['VADER_Score']) >0.30)]"
   ]
  },
  {
   "cell_type": "code",
   "execution_count": 370,
   "id": "19e08144",
   "metadata": {},
   "outputs": [
    {
     "data": {
      "text/plain": [
       "[35, 40, 8, 27, 31]"
      ]
     },
     "execution_count": 370,
     "metadata": {},
     "output_type": "execute_result"
    }
   ],
   "source": [
    "#Randomly selecting 5 paragraphs to review\n",
    "import random\n",
    "random.seed(68)\n",
    "random.sample(list(df_compare_2012[df_compare_2012['Difference'] == 'Opposing'].ParasNo),k=5)"
   ]
  },
  {
   "cell_type": "code",
   "execution_count": null,
   "id": "78393093",
   "metadata": {},
   "outputs": [],
   "source": []
  },
  {
   "cell_type": "code",
   "execution_count": null,
   "id": "4b25cc61",
   "metadata": {},
   "outputs": [],
   "source": []
  },
  {
   "cell_type": "markdown",
   "id": "0e3a91c4",
   "metadata": {},
   "source": [
    "### Year 2002"
   ]
  },
  {
   "cell_type": "markdown",
   "id": "a7f22371",
   "metadata": {},
   "source": [
    "#### Hugging Face"
   ]
  },
  {
   "cell_type": "code",
   "execution_count": 325,
   "id": "009b5ed6",
   "metadata": {},
   "outputs": [],
   "source": [
    "# Define the file directory\n",
    "file_directory = '..\\\\Dataset\\\\'\n",
    "\n",
    "# Read a single file \n",
    "with open(file_directory + '2002_eng.txt', 'r', encoding=\"utf8\") as file_to_read:\n",
    "    df = file_to_read.read()\n",
    "    \n",
    "# Convert into dataframes, split by paragraphs\n",
    "df = (pd.DataFrame(df.split(\"\\n\\n\"))).rename(columns={0: \"Paragraphs\"})\n",
    "\n",
    "#Create new column to store Paragraph Numbers \n",
    "df['ParasNo'] = df.index"
   ]
  },
  {
   "cell_type": "code",
   "execution_count": 326,
   "id": "ee4fb866",
   "metadata": {},
   "outputs": [],
   "source": [
    "import numpy as np\n",
    "from itertools import chain\n",
    "\n",
    "# return list from series of comma-separated strings\n",
    "def chainer(s):\n",
    "    return list(chain.from_iterable(s.str.split('.')))\n",
    "\n",
    "# calculate lengths of splits using full stops as we are looking for sentences\n",
    "lens = df['Paragraphs'].str.split('.').map(len)\n",
    "\n",
    "# create new dataframe, repeating or chaining as appropriate\n",
    "df = pd.DataFrame({'ParasNo': np.repeat(df['ParasNo'], lens),\n",
    "                    'Sentences': chainer(df['Paragraphs'])}) \n",
    "\n",
    "df.reset_index(inplace=True, drop=True)"
   ]
  },
  {
   "cell_type": "code",
   "execution_count": 327,
   "id": "4f46ef90",
   "metadata": {},
   "outputs": [],
   "source": [
    "# Pre-processing\n",
    "\n",
    "#Drop rows with empty strings \n",
    "df.drop(index=df[df['Sentences'] == ''].index, inplace=True)\n",
    "df.reset_index(inplace=True, drop=True)\n",
    "\n",
    "def clean_text(text):\n",
    "    text = text.lower()\n",
    "    text = re.sub(r\"\\n\", \" \", text) #replace \"\\n\" with \" \"\n",
    "    text = re.sub(r\"\\W\", \" \", text) #replaces non-word characters like ',' with \" \"\n",
    "    text = re.sub(r\"^\\d+\\s|\\s\\d+\\s|\\s\\d+$\", \" \", text) #removes digits e.g. 16 years >> years\n",
    "    text = text.strip(\" \")\n",
    "    text = re.sub(r\"[^\\w\\s]\", \"\", text)\n",
    "    return text\n",
    "\n",
    "df[\"Clean_Text\"] = df['Sentences'].map(lambda text: clean_text(text))"
   ]
  },
  {
   "cell_type": "code",
   "execution_count": 328,
   "id": "84cd1a85",
   "metadata": {},
   "outputs": [],
   "source": [
    "corpus = list(df['Clean_Text'].values)"
   ]
  },
  {
   "cell_type": "code",
   "execution_count": 329,
   "id": "df5ad91a",
   "metadata": {},
   "outputs": [],
   "source": [
    "nlp_sentiment = pipeline(\"sentiment-analysis\", model = \"distilbert-base-uncased-finetuned-sst-2-english\")"
   ]
  },
  {
   "cell_type": "code",
   "execution_count": 330,
   "id": "7bb50422",
   "metadata": {},
   "outputs": [
    {
     "name": "stdout",
     "output_type": "stream",
     "text": [
      "Wall time: 30.8 s\n"
     ]
    }
   ],
   "source": [
    "%%time\n",
    "df[\"Sentiment\"] = nlp_sentiment(corpus)"
   ]
  },
  {
   "cell_type": "code",
   "execution_count": 331,
   "id": "975b20f9",
   "metadata": {},
   "outputs": [],
   "source": [
    "# Extract pipeline's sentiment analysis output that consists of a label and a score into separate columns\n",
    "\n",
    "df['Sentiment_Label'] = [x.get('label') for x in df['Sentiment']]\n",
    "df['Sentiment_Score'] = [x.get('score') for x in df['Sentiment']]"
   ]
  },
  {
   "cell_type": "code",
   "execution_count": 332,
   "id": "7aba49eb",
   "metadata": {
    "scrolled": true
   },
   "outputs": [
    {
     "data": {
      "text/plain": [
       "POSITIVE    403\n",
       "NEGATIVE    298\n",
       "Name: Sentiment_Label, dtype: int64"
      ]
     },
     "execution_count": 332,
     "metadata": {},
     "output_type": "execute_result"
    }
   ],
   "source": [
    "df['Sentiment_Label'].value_counts()"
   ]
  },
  {
   "cell_type": "code",
   "execution_count": 333,
   "id": "61f86cd4",
   "metadata": {},
   "outputs": [
    {
     "data": {
      "text/plain": [
       "POSITIVE    147\n",
       "NEGATIVE     83\n",
       "Name: HF_Label, dtype: int64"
      ]
     },
     "execution_count": 333,
     "metadata": {},
     "output_type": "execute_result"
    }
   ],
   "source": [
    "#Create new column to store scores\n",
    "df['HF_Score'] = df['Sentiment_Score']\n",
    "\n",
    "#Update the scores' for rows of negative sentiment by converting it to the negative scale\n",
    "mask = (df['Sentiment_Label'] == 'NEGATIVE')\n",
    "df.loc[mask, 'HF_Score'] = - df['Sentiment_Score']\n",
    "\n",
    "#Take the average of the sentence scores and store in a new dataframe\n",
    "df_hf = df.groupby(['ParasNo']).mean('HF_Score')\n",
    "df_hf.drop(columns='Sentiment_Score',axis = 1, inplace=True)\n",
    "\n",
    "#Assign Sentiment Label for each paragraph where sentiment is positive if score >= 0.50, and negative otherwise. \n",
    "df_hf['HF_Label'] = np.where(df_hf['HF_Score']>=0, \"POSITIVE\",\"NEGATIVE\")\n",
    "df_hf['HF_Label'].value_counts()"
   ]
  },
  {
   "cell_type": "markdown",
   "id": "f7eaa9aa",
   "metadata": {},
   "source": [
    "#### VADER"
   ]
  },
  {
   "cell_type": "code",
   "execution_count": 334,
   "id": "8c8d9c09",
   "metadata": {},
   "outputs": [],
   "source": [
    "import nltk\n",
    "#nltk.download('vader_lexicon')\n",
    "from nltk.sentiment.vader import SentimentIntensityAnalyzer\n",
    "sid = SentimentIntensityAnalyzer()"
   ]
  },
  {
   "cell_type": "code",
   "execution_count": 335,
   "id": "dbb9be7b",
   "metadata": {},
   "outputs": [],
   "source": [
    "# Define the file directory\n",
    "file_directory = '..\\\\Dataset\\\\'\n",
    "\n",
    "# Read a single file \n",
    "with open(file_directory + '2002_eng.txt', 'r', encoding=\"utf8\") as file_to_read:\n",
    "    df_v = file_to_read.read()\n",
    "    \n",
    "# Convert into dataframes, split by paragraphs\n",
    "df_v = (pd.DataFrame(df_v.split(\"\\n\\n\"))).rename(columns={0: \"Paragraphs\"})\n",
    "\n",
    "#Create new column to store Paragraph Numbers \n",
    "df_v['ParasNo'] = df_v.index"
   ]
  },
  {
   "cell_type": "code",
   "execution_count": 336,
   "id": "e6bf960c",
   "metadata": {},
   "outputs": [],
   "source": [
    "# Pre-processing\n",
    "#Drop rows with empty strings \n",
    "df_v.drop(index=df_v[df_v['Paragraphs'] == ''].index, inplace=True)\n",
    "df_v.reset_index(inplace=True, drop=True)\n",
    "\n",
    "def clean_text(text):\n",
    "    text = text.lower()\n",
    "    text = re.sub(r\"\\n\", \" \", text) #replace \"\\n\" with \" \"\n",
    "    text = re.sub(r\"\\W\", \" \", text) #replaces non-word characters like ',' with \" \"\n",
    "    text = re.sub(r\"^\\d+\\s|\\s\\d+\\s|\\s\\d+$\", \" \", text) #removes digits e.g. 16 years >> years\n",
    "    text = text.strip(\" \")\n",
    "    text = re.sub(r\"[^\\w\\s]\", \"\", text)\n",
    "    return text\n",
    "\n",
    "df_v[\"Clean_Text\"] = df_v['Paragraphs'].map(lambda text: clean_text(text))"
   ]
  },
  {
   "cell_type": "code",
   "execution_count": 337,
   "id": "4631e594",
   "metadata": {},
   "outputs": [
    {
     "data": {
      "text/html": [
       "<div>\n",
       "<style scoped>\n",
       "    .dataframe tbody tr th:only-of-type {\n",
       "        vertical-align: middle;\n",
       "    }\n",
       "\n",
       "    .dataframe tbody tr th {\n",
       "        vertical-align: top;\n",
       "    }\n",
       "\n",
       "    .dataframe thead th {\n",
       "        text-align: right;\n",
       "    }\n",
       "</style>\n",
       "<table border=\"1\" class=\"dataframe\">\n",
       "  <thead>\n",
       "    <tr style=\"text-align: right;\">\n",
       "      <th></th>\n",
       "      <th>Paragraphs</th>\n",
       "      <th>ParasNo</th>\n",
       "      <th>Clean_Text</th>\n",
       "      <th>scores</th>\n",
       "    </tr>\n",
       "  </thead>\n",
       "  <tbody>\n",
       "    <tr>\n",
       "      <th>0</th>\n",
       "      <td>REMAKING SINGAPORE - CHANGING MINDSETS</td>\n",
       "      <td>0</td>\n",
       "      <td>remaking singapore   changing mindsets</td>\n",
       "      <td>{'neg': 0.0, 'neu': 1.0, 'pos': 0.0, 'compound...</td>\n",
       "    </tr>\n",
       "    <tr>\n",
       "      <th>1</th>\n",
       "      <td>I know that many of you are anxious about our ...</td>\n",
       "      <td>1</td>\n",
       "      <td>i know that many of you are anxious about our ...</td>\n",
       "      <td>{'neg': 0.167, 'neu': 0.833, 'pos': 0.0, 'comp...</td>\n",
       "    </tr>\n",
       "    <tr>\n",
       "      <th>2</th>\n",
       "      <td>It is not just adult Singaporeans. Our young a...</td>\n",
       "      <td>2</td>\n",
       "      <td>it is not just adult singaporeans  our young a...</td>\n",
       "      <td>{'neg': 0.103, 'neu': 0.897, 'pos': 0.0, 'comp...</td>\n",
       "    </tr>\n",
       "    <tr>\n",
       "      <th>3</th>\n",
       "      <td>They were concerned how Singapore would fare a...</td>\n",
       "      <td>3</td>\n",
       "      <td>they were concerned how singapore would fare a...</td>\n",
       "      <td>{'neg': 0.0, 'neu': 0.875, 'pos': 0.125, 'comp...</td>\n",
       "    </tr>\n",
       "    <tr>\n",
       "      <th>4</th>\n",
       "      <td>I too, worry about these things.</td>\n",
       "      <td>4</td>\n",
       "      <td>i too  worry about these things</td>\n",
       "      <td>{'neg': 0.42, 'neu': 0.58, 'pos': 0.0, 'compou...</td>\n",
       "    </tr>\n",
       "  </tbody>\n",
       "</table>\n",
       "</div>"
      ],
      "text/plain": [
       "                                          Paragraphs  ParasNo  \\\n",
       "0             REMAKING SINGAPORE - CHANGING MINDSETS        0   \n",
       "1  I know that many of you are anxious about our ...        1   \n",
       "2  It is not just adult Singaporeans. Our young a...        2   \n",
       "3  They were concerned how Singapore would fare a...        3   \n",
       "4                   I too, worry about these things.        4   \n",
       "\n",
       "                                          Clean_Text  \\\n",
       "0             remaking singapore   changing mindsets   \n",
       "1  i know that many of you are anxious about our ...   \n",
       "2  it is not just adult singaporeans  our young a...   \n",
       "3  they were concerned how singapore would fare a...   \n",
       "4                    i too  worry about these things   \n",
       "\n",
       "                                              scores  \n",
       "0  {'neg': 0.0, 'neu': 1.0, 'pos': 0.0, 'compound...  \n",
       "1  {'neg': 0.167, 'neu': 0.833, 'pos': 0.0, 'comp...  \n",
       "2  {'neg': 0.103, 'neu': 0.897, 'pos': 0.0, 'comp...  \n",
       "3  {'neg': 0.0, 'neu': 0.875, 'pos': 0.125, 'comp...  \n",
       "4  {'neg': 0.42, 'neu': 0.58, 'pos': 0.0, 'compou...  "
      ]
     },
     "execution_count": 337,
     "metadata": {},
     "output_type": "execute_result"
    }
   ],
   "source": [
    "df_v['scores'] = df_v['Clean_Text'].apply(lambda x: sid.polarity_scores(x))\n",
    "df_v.head()"
   ]
  },
  {
   "cell_type": "code",
   "execution_count": 338,
   "id": "fa4be1e7",
   "metadata": {
    "scrolled": true
   },
   "outputs": [
    {
     "data": {
      "text/html": [
       "<div>\n",
       "<style scoped>\n",
       "    .dataframe tbody tr th:only-of-type {\n",
       "        vertical-align: middle;\n",
       "    }\n",
       "\n",
       "    .dataframe tbody tr th {\n",
       "        vertical-align: top;\n",
       "    }\n",
       "\n",
       "    .dataframe thead th {\n",
       "        text-align: right;\n",
       "    }\n",
       "</style>\n",
       "<table border=\"1\" class=\"dataframe\">\n",
       "  <thead>\n",
       "    <tr style=\"text-align: right;\">\n",
       "      <th></th>\n",
       "      <th>Paragraphs</th>\n",
       "      <th>ParasNo</th>\n",
       "      <th>Clean_Text</th>\n",
       "      <th>scores</th>\n",
       "      <th>VADER_Score</th>\n",
       "      <th>VADER_Label</th>\n",
       "    </tr>\n",
       "  </thead>\n",
       "  <tbody>\n",
       "    <tr>\n",
       "      <th>0</th>\n",
       "      <td>REMAKING SINGAPORE - CHANGING MINDSETS</td>\n",
       "      <td>0</td>\n",
       "      <td>remaking singapore   changing mindsets</td>\n",
       "      <td>{'neg': 0.0, 'neu': 1.0, 'pos': 0.0, 'compound...</td>\n",
       "      <td>0.0000</td>\n",
       "      <td>POSITIVE</td>\n",
       "    </tr>\n",
       "    <tr>\n",
       "      <th>1</th>\n",
       "      <td>I know that many of you are anxious about our ...</td>\n",
       "      <td>1</td>\n",
       "      <td>i know that many of you are anxious about our ...</td>\n",
       "      <td>{'neg': 0.167, 'neu': 0.833, 'pos': 0.0, 'comp...</td>\n",
       "      <td>-0.2500</td>\n",
       "      <td>NEGATIVE</td>\n",
       "    </tr>\n",
       "    <tr>\n",
       "      <th>2</th>\n",
       "      <td>It is not just adult Singaporeans. Our young a...</td>\n",
       "      <td>2</td>\n",
       "      <td>it is not just adult singaporeans  our young a...</td>\n",
       "      <td>{'neg': 0.103, 'neu': 0.897, 'pos': 0.0, 'comp...</td>\n",
       "      <td>-0.5719</td>\n",
       "      <td>NEGATIVE</td>\n",
       "    </tr>\n",
       "    <tr>\n",
       "      <th>3</th>\n",
       "      <td>They were concerned how Singapore would fare a...</td>\n",
       "      <td>3</td>\n",
       "      <td>they were concerned how singapore would fare a...</td>\n",
       "      <td>{'neg': 0.0, 'neu': 0.875, 'pos': 0.125, 'comp...</td>\n",
       "      <td>0.6908</td>\n",
       "      <td>POSITIVE</td>\n",
       "    </tr>\n",
       "    <tr>\n",
       "      <th>4</th>\n",
       "      <td>I too, worry about these things.</td>\n",
       "      <td>4</td>\n",
       "      <td>i too  worry about these things</td>\n",
       "      <td>{'neg': 0.42, 'neu': 0.58, 'pos': 0.0, 'compou...</td>\n",
       "      <td>-0.4404</td>\n",
       "      <td>NEGATIVE</td>\n",
       "    </tr>\n",
       "  </tbody>\n",
       "</table>\n",
       "</div>"
      ],
      "text/plain": [
       "                                          Paragraphs  ParasNo  \\\n",
       "0             REMAKING SINGAPORE - CHANGING MINDSETS        0   \n",
       "1  I know that many of you are anxious about our ...        1   \n",
       "2  It is not just adult Singaporeans. Our young a...        2   \n",
       "3  They were concerned how Singapore would fare a...        3   \n",
       "4                   I too, worry about these things.        4   \n",
       "\n",
       "                                          Clean_Text  \\\n",
       "0             remaking singapore   changing mindsets   \n",
       "1  i know that many of you are anxious about our ...   \n",
       "2  it is not just adult singaporeans  our young a...   \n",
       "3  they were concerned how singapore would fare a...   \n",
       "4                    i too  worry about these things   \n",
       "\n",
       "                                              scores  VADER_Score VADER_Label  \n",
       "0  {'neg': 0.0, 'neu': 1.0, 'pos': 0.0, 'compound...       0.0000    POSITIVE  \n",
       "1  {'neg': 0.167, 'neu': 0.833, 'pos': 0.0, 'comp...      -0.2500    NEGATIVE  \n",
       "2  {'neg': 0.103, 'neu': 0.897, 'pos': 0.0, 'comp...      -0.5719    NEGATIVE  \n",
       "3  {'neg': 0.0, 'neu': 0.875, 'pos': 0.125, 'comp...       0.6908    POSITIVE  \n",
       "4  {'neg': 0.42, 'neu': 0.58, 'pos': 0.0, 'compou...      -0.4404    NEGATIVE  "
      ]
     },
     "execution_count": 338,
     "metadata": {},
     "output_type": "execute_result"
    }
   ],
   "source": [
    "#Separate out the compound score\n",
    "df_v['VADER_Score']  = df_v['scores'].apply(lambda score_dict: score_dict['compound'])\n",
    "#Assign polarity (pos, neg based on compound score)\n",
    "df_v['VADER_Label'] = df_v['VADER_Score'].apply(lambda c: 'POSITIVE' if c >=0 else 'NEGATIVE') #(lambda c: 'pos' if c >0 else 'neg' if c<0 else 'neu')\n",
    "\n",
    "df_v.head() "
   ]
  },
  {
   "cell_type": "markdown",
   "id": "bee494e9",
   "metadata": {},
   "source": [
    "#### 2002 Comparison"
   ]
  },
  {
   "cell_type": "code",
   "execution_count": 339,
   "id": "d1a9a249",
   "metadata": {},
   "outputs": [],
   "source": [
    "df_compare_2002 = pd.merge(df_v[['ParasNo','Paragraphs', 'VADER_Score', 'VADER_Label']], df_hf, how='inner', on='ParasNo')"
   ]
  },
  {
   "cell_type": "code",
   "execution_count": 340,
   "id": "9274f915",
   "metadata": {},
   "outputs": [
    {
     "data": {
      "text/plain": [
       "Same        162\n",
       "Opposing     68\n",
       "Name: Difference, dtype: int64"
      ]
     },
     "execution_count": 340,
     "metadata": {},
     "output_type": "execute_result"
    }
   ],
   "source": [
    "df_compare_2002['Difference'] = np.where(df_compare_2002[\"HF_Label\"]!=df_compare_2002['VADER_Label'],'Opposing','Same')\n",
    "df_compare_2002['Difference'].value_counts()"
   ]
  },
  {
   "cell_type": "code",
   "execution_count": 341,
   "id": "12a46b6d",
   "metadata": {},
   "outputs": [
    {
     "data": {
      "text/html": [
       "<div>\n",
       "<style scoped>\n",
       "    .dataframe tbody tr th:only-of-type {\n",
       "        vertical-align: middle;\n",
       "    }\n",
       "\n",
       "    .dataframe tbody tr th {\n",
       "        vertical-align: top;\n",
       "    }\n",
       "\n",
       "    .dataframe thead th {\n",
       "        text-align: right;\n",
       "    }\n",
       "</style>\n",
       "<table border=\"1\" class=\"dataframe\">\n",
       "  <thead>\n",
       "    <tr style=\"text-align: right;\">\n",
       "      <th></th>\n",
       "      <th>ParasNo</th>\n",
       "      <th>Paragraphs</th>\n",
       "      <th>VADER_Score</th>\n",
       "      <th>VADER_Label</th>\n",
       "      <th>HF_Score</th>\n",
       "      <th>HF_Label</th>\n",
       "      <th>Difference</th>\n",
       "    </tr>\n",
       "  </thead>\n",
       "  <tbody>\n",
       "    <tr>\n",
       "      <th>2</th>\n",
       "      <td>2</td>\n",
       "      <td>It is not just adult Singaporeans. Our young a...</td>\n",
       "      <td>-0.5719</td>\n",
       "      <td>NEGATIVE</td>\n",
       "      <td>0.043645</td>\n",
       "      <td>POSITIVE</td>\n",
       "      <td>Opposing</td>\n",
       "    </tr>\n",
       "    <tr>\n",
       "      <th>3</th>\n",
       "      <td>3</td>\n",
       "      <td>They were concerned how Singapore would fare a...</td>\n",
       "      <td>0.6908</td>\n",
       "      <td>POSITIVE</td>\n",
       "      <td>-0.958792</td>\n",
       "      <td>NEGATIVE</td>\n",
       "      <td>Opposing</td>\n",
       "    </tr>\n",
       "    <tr>\n",
       "      <th>9</th>\n",
       "      <td>9</td>\n",
       "      <td>If you do not doubt yourselves, you will prove...</td>\n",
       "      <td>-0.4386</td>\n",
       "      <td>NEGATIVE</td>\n",
       "      <td>0.877446</td>\n",
       "      <td>POSITIVE</td>\n",
       "      <td>Opposing</td>\n",
       "    </tr>\n",
       "    <tr>\n",
       "      <th>13</th>\n",
       "      <td>13</td>\n",
       "      <td>Many former Soviet allies in Central and Easte...</td>\n",
       "      <td>-0.2732</td>\n",
       "      <td>NEGATIVE</td>\n",
       "      <td>0.597729</td>\n",
       "      <td>POSITIVE</td>\n",
       "      <td>Opposing</td>\n",
       "    </tr>\n",
       "    <tr>\n",
       "      <th>17</th>\n",
       "      <td>17</td>\n",
       "      <td>A foreign diplomat who knows the Malaysian lea...</td>\n",
       "      <td>-0.2960</td>\n",
       "      <td>NEGATIVE</td>\n",
       "      <td>0.258297</td>\n",
       "      <td>POSITIVE</td>\n",
       "      <td>Opposing</td>\n",
       "    </tr>\n",
       "    <tr>\n",
       "      <th>...</th>\n",
       "      <td>...</td>\n",
       "      <td>...</td>\n",
       "      <td>...</td>\n",
       "      <td>...</td>\n",
       "      <td>...</td>\n",
       "      <td>...</td>\n",
       "      <td>...</td>\n",
       "    </tr>\n",
       "    <tr>\n",
       "      <th>217</th>\n",
       "      <td>217</td>\n",
       "      <td>Our founding fathers did not give up when Sing...</td>\n",
       "      <td>-0.7314</td>\n",
       "      <td>NEGATIVE</td>\n",
       "      <td>0.327358</td>\n",
       "      <td>POSITIVE</td>\n",
       "      <td>Opposing</td>\n",
       "    </tr>\n",
       "    <tr>\n",
       "      <th>218</th>\n",
       "      <td>218</td>\n",
       "      <td>Has the younger generation of Singaporeans gon...</td>\n",
       "      <td>0.3182</td>\n",
       "      <td>POSITIVE</td>\n",
       "      <td>-0.922174</td>\n",
       "      <td>NEGATIVE</td>\n",
       "      <td>Opposing</td>\n",
       "    </tr>\n",
       "    <tr>\n",
       "      <th>220</th>\n",
       "      <td>220</td>\n",
       "      <td>One Singaporean posted on The Straits Times In...</td>\n",
       "      <td>0.0000</td>\n",
       "      <td>POSITIVE</td>\n",
       "      <td>-0.878538</td>\n",
       "      <td>NEGATIVE</td>\n",
       "      <td>Opposing</td>\n",
       "    </tr>\n",
       "    <tr>\n",
       "      <th>225</th>\n",
       "      <td>225</td>\n",
       "      <td>I am not asking anyone to die for Singapore. I...</td>\n",
       "      <td>-0.3612</td>\n",
       "      <td>NEGATIVE</td>\n",
       "      <td>0.991619</td>\n",
       "      <td>POSITIVE</td>\n",
       "      <td>Opposing</td>\n",
       "    </tr>\n",
       "    <tr>\n",
       "      <th>228</th>\n",
       "      <td>228</td>\n",
       "      <td>Yes, the future is uncertain. The journey will...</td>\n",
       "      <td>0.2617</td>\n",
       "      <td>POSITIVE</td>\n",
       "      <td>-0.423498</td>\n",
       "      <td>NEGATIVE</td>\n",
       "      <td>Opposing</td>\n",
       "    </tr>\n",
       "  </tbody>\n",
       "</table>\n",
       "<p>68 rows × 7 columns</p>\n",
       "</div>"
      ],
      "text/plain": [
       "     ParasNo                                         Paragraphs  VADER_Score  \\\n",
       "2          2  It is not just adult Singaporeans. Our young a...      -0.5719   \n",
       "3          3  They were concerned how Singapore would fare a...       0.6908   \n",
       "9          9  If you do not doubt yourselves, you will prove...      -0.4386   \n",
       "13        13  Many former Soviet allies in Central and Easte...      -0.2732   \n",
       "17        17  A foreign diplomat who knows the Malaysian lea...      -0.2960   \n",
       "..       ...                                                ...          ...   \n",
       "217      217  Our founding fathers did not give up when Sing...      -0.7314   \n",
       "218      218  Has the younger generation of Singaporeans gon...       0.3182   \n",
       "220      220  One Singaporean posted on The Straits Times In...       0.0000   \n",
       "225      225  I am not asking anyone to die for Singapore. I...      -0.3612   \n",
       "228      228  Yes, the future is uncertain. The journey will...       0.2617   \n",
       "\n",
       "    VADER_Label  HF_Score  HF_Label Difference  \n",
       "2      NEGATIVE  0.043645  POSITIVE   Opposing  \n",
       "3      POSITIVE -0.958792  NEGATIVE   Opposing  \n",
       "9      NEGATIVE  0.877446  POSITIVE   Opposing  \n",
       "13     NEGATIVE  0.597729  POSITIVE   Opposing  \n",
       "17     NEGATIVE  0.258297  POSITIVE   Opposing  \n",
       "..          ...       ...       ...        ...  \n",
       "217    NEGATIVE  0.327358  POSITIVE   Opposing  \n",
       "218    POSITIVE -0.922174  NEGATIVE   Opposing  \n",
       "220    POSITIVE -0.878538  NEGATIVE   Opposing  \n",
       "225    NEGATIVE  0.991619  POSITIVE   Opposing  \n",
       "228    POSITIVE -0.423498  NEGATIVE   Opposing  \n",
       "\n",
       "[68 rows x 7 columns]"
      ]
     },
     "execution_count": 341,
     "metadata": {},
     "output_type": "execute_result"
    }
   ],
   "source": [
    "df_compare_2002[df_compare_2002['Difference'] == 'Opposing']"
   ]
  },
  {
   "cell_type": "markdown",
   "id": "2a82d4f2",
   "metadata": {},
   "source": [
    "There are 68 paragraphs with opposing labels.\n",
    "To select 5 for comparison, we selected out paragraphs where each algorithm gave a relatively higher score (>0.30) in the respective labelled polarity."
   ]
  },
  {
   "cell_type": "code",
   "execution_count": 371,
   "id": "008e6876",
   "metadata": {},
   "outputs": [
    {
     "data": {
      "text/html": [
       "<div>\n",
       "<style scoped>\n",
       "    .dataframe tbody tr th:only-of-type {\n",
       "        vertical-align: middle;\n",
       "    }\n",
       "\n",
       "    .dataframe tbody tr th {\n",
       "        vertical-align: top;\n",
       "    }\n",
       "\n",
       "    .dataframe thead th {\n",
       "        text-align: right;\n",
       "    }\n",
       "</style>\n",
       "<table border=\"1\" class=\"dataframe\">\n",
       "  <thead>\n",
       "    <tr style=\"text-align: right;\">\n",
       "      <th></th>\n",
       "      <th>ParasNo</th>\n",
       "      <th>Paragraphs</th>\n",
       "      <th>VADER_Score</th>\n",
       "      <th>VADER_Label</th>\n",
       "      <th>HF_Score</th>\n",
       "      <th>HF_Label</th>\n",
       "      <th>Difference</th>\n",
       "    </tr>\n",
       "  </thead>\n",
       "  <tbody>\n",
       "    <tr>\n",
       "      <th>3</th>\n",
       "      <td>3</td>\n",
       "      <td>They were concerned how Singapore would fare a...</td>\n",
       "      <td>0.6908</td>\n",
       "      <td>POSITIVE</td>\n",
       "      <td>-0.958792</td>\n",
       "      <td>NEGATIVE</td>\n",
       "      <td>Opposing</td>\n",
       "    </tr>\n",
       "    <tr>\n",
       "      <th>9</th>\n",
       "      <td>9</td>\n",
       "      <td>If you do not doubt yourselves, you will prove...</td>\n",
       "      <td>-0.4386</td>\n",
       "      <td>NEGATIVE</td>\n",
       "      <td>0.877446</td>\n",
       "      <td>POSITIVE</td>\n",
       "      <td>Opposing</td>\n",
       "    </tr>\n",
       "    <tr>\n",
       "      <th>24</th>\n",
       "      <td>24</td>\n",
       "      <td>Moreover, PSA's investments in the existing 37...</td>\n",
       "      <td>0.6369</td>\n",
       "      <td>POSITIVE</td>\n",
       "      <td>-0.331920</td>\n",
       "      <td>NEGATIVE</td>\n",
       "      <td>Opposing</td>\n",
       "    </tr>\n",
       "    <tr>\n",
       "      <th>25</th>\n",
       "      <td>25</td>\n",
       "      <td>There is further good news: PSA is among sever...</td>\n",
       "      <td>-0.6369</td>\n",
       "      <td>NEGATIVE</td>\n",
       "      <td>0.987192</td>\n",
       "      <td>POSITIVE</td>\n",
       "      <td>Opposing</td>\n",
       "    </tr>\n",
       "    <tr>\n",
       "      <th>30</th>\n",
       "      <td>30</td>\n",
       "      <td>In the 60s and 70s, thousands of Chinese cross...</td>\n",
       "      <td>0.8934</td>\n",
       "      <td>POSITIVE</td>\n",
       "      <td>-0.962961</td>\n",
       "      <td>NEGATIVE</td>\n",
       "      <td>Opposing</td>\n",
       "    </tr>\n",
       "    <tr>\n",
       "      <th>49</th>\n",
       "      <td>49</td>\n",
       "      <td>Furthermore, no matter how attractive China is...</td>\n",
       "      <td>0.4939</td>\n",
       "      <td>POSITIVE</td>\n",
       "      <td>-0.496341</td>\n",
       "      <td>NEGATIVE</td>\n",
       "      <td>Opposing</td>\n",
       "    </tr>\n",
       "    <tr>\n",
       "      <th>55</th>\n",
       "      <td>55</td>\n",
       "      <td>Several MNCs, including American firms like IB...</td>\n",
       "      <td>-0.3818</td>\n",
       "      <td>NEGATIVE</td>\n",
       "      <td>0.519426</td>\n",
       "      <td>POSITIVE</td>\n",
       "      <td>Opposing</td>\n",
       "    </tr>\n",
       "    <tr>\n",
       "      <th>81</th>\n",
       "      <td>81</td>\n",
       "      <td>Singaporeans must also understand how feedback...</td>\n",
       "      <td>-0.3818</td>\n",
       "      <td>NEGATIVE</td>\n",
       "      <td>0.930819</td>\n",
       "      <td>POSITIVE</td>\n",
       "      <td>Opposing</td>\n",
       "    </tr>\n",
       "    <tr>\n",
       "      <th>92</th>\n",
       "      <td>92</td>\n",
       "      <td>For the remaking of Singapore to succeed, we h...</td>\n",
       "      <td>0.7184</td>\n",
       "      <td>POSITIVE</td>\n",
       "      <td>-0.757496</td>\n",
       "      <td>NEGATIVE</td>\n",
       "      <td>Opposing</td>\n",
       "    </tr>\n",
       "    <tr>\n",
       "      <th>96</th>\n",
       "      <td>96</td>\n",
       "      <td>These Singaporeans need to change their negati...</td>\n",
       "      <td>0.6705</td>\n",
       "      <td>POSITIVE</td>\n",
       "      <td>-0.993359</td>\n",
       "      <td>NEGATIVE</td>\n",
       "      <td>Opposing</td>\n",
       "    </tr>\n",
       "    <tr>\n",
       "      <th>110</th>\n",
       "      <td>110</td>\n",
       "      <td>In June, our media reported the results of a s...</td>\n",
       "      <td>0.7003</td>\n",
       "      <td>POSITIVE</td>\n",
       "      <td>-0.603886</td>\n",
       "      <td>NEGATIVE</td>\n",
       "      <td>Opposing</td>\n",
       "    </tr>\n",
       "    <tr>\n",
       "      <th>119</th>\n",
       "      <td>119</td>\n",
       "      <td>Others have dainty reasons to turn down jobs. ...</td>\n",
       "      <td>0.3387</td>\n",
       "      <td>POSITIVE</td>\n",
       "      <td>-0.976273</td>\n",
       "      <td>NEGATIVE</td>\n",
       "      <td>Opposing</td>\n",
       "    </tr>\n",
       "    <tr>\n",
       "      <th>124</th>\n",
       "      <td>124</td>\n",
       "      <td>Meanwhile, he survived on a $240 handout from ...</td>\n",
       "      <td>0.6808</td>\n",
       "      <td>POSITIVE</td>\n",
       "      <td>-0.938784</td>\n",
       "      <td>NEGATIVE</td>\n",
       "      <td>Opposing</td>\n",
       "    </tr>\n",
       "    <tr>\n",
       "      <th>128</th>\n",
       "      <td>128</td>\n",
       "      <td>Last year, we set up the Economic Downturn Rel...</td>\n",
       "      <td>0.8176</td>\n",
       "      <td>POSITIVE</td>\n",
       "      <td>-0.315746</td>\n",
       "      <td>NEGATIVE</td>\n",
       "      <td>Opposing</td>\n",
       "    </tr>\n",
       "    <tr>\n",
       "      <th>129</th>\n",
       "      <td>129</td>\n",
       "      <td>Some Singaporeans see the EDRS as a source of ...</td>\n",
       "      <td>0.7964</td>\n",
       "      <td>POSITIVE</td>\n",
       "      <td>-0.971073</td>\n",
       "      <td>NEGATIVE</td>\n",
       "      <td>Opposing</td>\n",
       "    </tr>\n",
       "    <tr>\n",
       "      <th>130</th>\n",
       "      <td>130</td>\n",
       "      <td>Our people�s attitude towards public assistanc...</td>\n",
       "      <td>0.5005</td>\n",
       "      <td>POSITIVE</td>\n",
       "      <td>-0.457504</td>\n",
       "      <td>NEGATIVE</td>\n",
       "      <td>Opposing</td>\n",
       "    </tr>\n",
       "    <tr>\n",
       "      <th>134</th>\n",
       "      <td>134</td>\n",
       "      <td>Making Singaporeans more self-reliant is also ...</td>\n",
       "      <td>0.8880</td>\n",
       "      <td>POSITIVE</td>\n",
       "      <td>-0.493932</td>\n",
       "      <td>NEGATIVE</td>\n",
       "      <td>Opposing</td>\n",
       "    </tr>\n",
       "    <tr>\n",
       "      <th>161</th>\n",
       "      <td>161</td>\n",
       "      <td>Unfortunately, this desire to pursue knowledge...</td>\n",
       "      <td>0.4291</td>\n",
       "      <td>POSITIVE</td>\n",
       "      <td>-0.350512</td>\n",
       "      <td>NEGATIVE</td>\n",
       "      <td>Opposing</td>\n",
       "    </tr>\n",
       "    <tr>\n",
       "      <th>165</th>\n",
       "      <td>165</td>\n",
       "      <td>Muslim thinkers are divided on the way forward...</td>\n",
       "      <td>-0.8354</td>\n",
       "      <td>NEGATIVE</td>\n",
       "      <td>0.322078</td>\n",
       "      <td>POSITIVE</td>\n",
       "      <td>Opposing</td>\n",
       "    </tr>\n",
       "    <tr>\n",
       "      <th>167</th>\n",
       "      <td>167</td>\n",
       "      <td>This struggle between moderate and extremist M...</td>\n",
       "      <td>0.4939</td>\n",
       "      <td>POSITIVE</td>\n",
       "      <td>-0.887874</td>\n",
       "      <td>NEGATIVE</td>\n",
       "      <td>Opposing</td>\n",
       "    </tr>\n",
       "    <tr>\n",
       "      <th>172</th>\n",
       "      <td>172</td>\n",
       "      <td>For example, in Malaysia, the opposition Islam...</td>\n",
       "      <td>0.3687</td>\n",
       "      <td>POSITIVE</td>\n",
       "      <td>-0.484272</td>\n",
       "      <td>NEGATIVE</td>\n",
       "      <td>Opposing</td>\n",
       "    </tr>\n",
       "    <tr>\n",
       "      <th>180</th>\n",
       "      <td>180</td>\n",
       "      <td>\"Most secularists believe that the pervasive I...</td>\n",
       "      <td>0.5719</td>\n",
       "      <td>POSITIVE</td>\n",
       "      <td>-0.867207</td>\n",
       "      <td>NEGATIVE</td>\n",
       "      <td>Opposing</td>\n",
       "    </tr>\n",
       "    <tr>\n",
       "      <th>194</th>\n",
       "      <td>194</td>\n",
       "      <td>While working on this issue, Vivian told Parli...</td>\n",
       "      <td>-0.7579</td>\n",
       "      <td>NEGATIVE</td>\n",
       "      <td>0.334245</td>\n",
       "      <td>POSITIVE</td>\n",
       "      <td>Opposing</td>\n",
       "    </tr>\n",
       "    <tr>\n",
       "      <th>196</th>\n",
       "      <td>196</td>\n",
       "      <td>\"If we expect the citizens to die for their co...</td>\n",
       "      <td>-0.4588</td>\n",
       "      <td>NEGATIVE</td>\n",
       "      <td>0.895408</td>\n",
       "      <td>POSITIVE</td>\n",
       "      <td>Opposing</td>\n",
       "    </tr>\n",
       "    <tr>\n",
       "      <th>200</th>\n",
       "      <td>200</td>\n",
       "      <td>The answer depends on whether they feel deeply...</td>\n",
       "      <td>0.7003</td>\n",
       "      <td>POSITIVE</td>\n",
       "      <td>-0.930594</td>\n",
       "      <td>NEGATIVE</td>\n",
       "      <td>Opposing</td>\n",
       "    </tr>\n",
       "    <tr>\n",
       "      <th>210</th>\n",
       "      <td>210</td>\n",
       "      <td>I hope they will have a change of heart when t...</td>\n",
       "      <td>-0.5932</td>\n",
       "      <td>NEGATIVE</td>\n",
       "      <td>0.897281</td>\n",
       "      <td>POSITIVE</td>\n",
       "      <td>Opposing</td>\n",
       "    </tr>\n",
       "    <tr>\n",
       "      <th>211</th>\n",
       "      <td>211</td>\n",
       "      <td>I was disturbed too, by two letters published ...</td>\n",
       "      <td>0.6068</td>\n",
       "      <td>POSITIVE</td>\n",
       "      <td>-0.493591</td>\n",
       "      <td>NEGATIVE</td>\n",
       "      <td>Opposing</td>\n",
       "    </tr>\n",
       "    <tr>\n",
       "      <th>213</th>\n",
       "      <td>213</td>\n",
       "      <td>Fair-weather Singaporeans will run away whenev...</td>\n",
       "      <td>0.3182</td>\n",
       "      <td>POSITIVE</td>\n",
       "      <td>-0.851418</td>\n",
       "      <td>NEGATIVE</td>\n",
       "      <td>Opposing</td>\n",
       "    </tr>\n",
       "    <tr>\n",
       "      <th>217</th>\n",
       "      <td>217</td>\n",
       "      <td>Our founding fathers did not give up when Sing...</td>\n",
       "      <td>-0.7314</td>\n",
       "      <td>NEGATIVE</td>\n",
       "      <td>0.327358</td>\n",
       "      <td>POSITIVE</td>\n",
       "      <td>Opposing</td>\n",
       "    </tr>\n",
       "    <tr>\n",
       "      <th>218</th>\n",
       "      <td>218</td>\n",
       "      <td>Has the younger generation of Singaporeans gon...</td>\n",
       "      <td>0.3182</td>\n",
       "      <td>POSITIVE</td>\n",
       "      <td>-0.922174</td>\n",
       "      <td>NEGATIVE</td>\n",
       "      <td>Opposing</td>\n",
       "    </tr>\n",
       "    <tr>\n",
       "      <th>225</th>\n",
       "      <td>225</td>\n",
       "      <td>I am not asking anyone to die for Singapore. I...</td>\n",
       "      <td>-0.3612</td>\n",
       "      <td>NEGATIVE</td>\n",
       "      <td>0.991619</td>\n",
       "      <td>POSITIVE</td>\n",
       "      <td>Opposing</td>\n",
       "    </tr>\n",
       "  </tbody>\n",
       "</table>\n",
       "</div>"
      ],
      "text/plain": [
       "     ParasNo                                         Paragraphs  VADER_Score  \\\n",
       "3          3  They were concerned how Singapore would fare a...       0.6908   \n",
       "9          9  If you do not doubt yourselves, you will prove...      -0.4386   \n",
       "24        24  Moreover, PSA's investments in the existing 37...       0.6369   \n",
       "25        25  There is further good news: PSA is among sever...      -0.6369   \n",
       "30        30  In the 60s and 70s, thousands of Chinese cross...       0.8934   \n",
       "49        49  Furthermore, no matter how attractive China is...       0.4939   \n",
       "55        55  Several MNCs, including American firms like IB...      -0.3818   \n",
       "81        81  Singaporeans must also understand how feedback...      -0.3818   \n",
       "92        92  For the remaking of Singapore to succeed, we h...       0.7184   \n",
       "96        96  These Singaporeans need to change their negati...       0.6705   \n",
       "110      110  In June, our media reported the results of a s...       0.7003   \n",
       "119      119  Others have dainty reasons to turn down jobs. ...       0.3387   \n",
       "124      124  Meanwhile, he survived on a $240 handout from ...       0.6808   \n",
       "128      128  Last year, we set up the Economic Downturn Rel...       0.8176   \n",
       "129      129  Some Singaporeans see the EDRS as a source of ...       0.7964   \n",
       "130      130  Our people�s attitude towards public assistanc...       0.5005   \n",
       "134      134  Making Singaporeans more self-reliant is also ...       0.8880   \n",
       "161      161  Unfortunately, this desire to pursue knowledge...       0.4291   \n",
       "165      165  Muslim thinkers are divided on the way forward...      -0.8354   \n",
       "167      167  This struggle between moderate and extremist M...       0.4939   \n",
       "172      172  For example, in Malaysia, the opposition Islam...       0.3687   \n",
       "180      180  \"Most secularists believe that the pervasive I...       0.5719   \n",
       "194      194  While working on this issue, Vivian told Parli...      -0.7579   \n",
       "196      196  \"If we expect the citizens to die for their co...      -0.4588   \n",
       "200      200  The answer depends on whether they feel deeply...       0.7003   \n",
       "210      210  I hope they will have a change of heart when t...      -0.5932   \n",
       "211      211  I was disturbed too, by two letters published ...       0.6068   \n",
       "213      213  Fair-weather Singaporeans will run away whenev...       0.3182   \n",
       "217      217  Our founding fathers did not give up when Sing...      -0.7314   \n",
       "218      218  Has the younger generation of Singaporeans gon...       0.3182   \n",
       "225      225  I am not asking anyone to die for Singapore. I...      -0.3612   \n",
       "\n",
       "    VADER_Label  HF_Score  HF_Label Difference  \n",
       "3      POSITIVE -0.958792  NEGATIVE   Opposing  \n",
       "9      NEGATIVE  0.877446  POSITIVE   Opposing  \n",
       "24     POSITIVE -0.331920  NEGATIVE   Opposing  \n",
       "25     NEGATIVE  0.987192  POSITIVE   Opposing  \n",
       "30     POSITIVE -0.962961  NEGATIVE   Opposing  \n",
       "49     POSITIVE -0.496341  NEGATIVE   Opposing  \n",
       "55     NEGATIVE  0.519426  POSITIVE   Opposing  \n",
       "81     NEGATIVE  0.930819  POSITIVE   Opposing  \n",
       "92     POSITIVE -0.757496  NEGATIVE   Opposing  \n",
       "96     POSITIVE -0.993359  NEGATIVE   Opposing  \n",
       "110    POSITIVE -0.603886  NEGATIVE   Opposing  \n",
       "119    POSITIVE -0.976273  NEGATIVE   Opposing  \n",
       "124    POSITIVE -0.938784  NEGATIVE   Opposing  \n",
       "128    POSITIVE -0.315746  NEGATIVE   Opposing  \n",
       "129    POSITIVE -0.971073  NEGATIVE   Opposing  \n",
       "130    POSITIVE -0.457504  NEGATIVE   Opposing  \n",
       "134    POSITIVE -0.493932  NEGATIVE   Opposing  \n",
       "161    POSITIVE -0.350512  NEGATIVE   Opposing  \n",
       "165    NEGATIVE  0.322078  POSITIVE   Opposing  \n",
       "167    POSITIVE -0.887874  NEGATIVE   Opposing  \n",
       "172    POSITIVE -0.484272  NEGATIVE   Opposing  \n",
       "180    POSITIVE -0.867207  NEGATIVE   Opposing  \n",
       "194    NEGATIVE  0.334245  POSITIVE   Opposing  \n",
       "196    NEGATIVE  0.895408  POSITIVE   Opposing  \n",
       "200    POSITIVE -0.930594  NEGATIVE   Opposing  \n",
       "210    NEGATIVE  0.897281  POSITIVE   Opposing  \n",
       "211    POSITIVE -0.493591  NEGATIVE   Opposing  \n",
       "213    POSITIVE -0.851418  NEGATIVE   Opposing  \n",
       "217    NEGATIVE  0.327358  POSITIVE   Opposing  \n",
       "218    POSITIVE -0.922174  NEGATIVE   Opposing  \n",
       "225    NEGATIVE  0.991619  POSITIVE   Opposing  "
      ]
     },
     "execution_count": 371,
     "metadata": {},
     "output_type": "execute_result"
    }
   ],
   "source": [
    "df_compare_2002[(df_compare_2002['Difference'] == 'Opposing') & (abs(df_compare_2002['HF_Score']) >0.30) & (abs(df_compare_2002['VADER_Score']) >0.30)]"
   ]
  },
  {
   "cell_type": "code",
   "execution_count": 373,
   "id": "6cb454b0",
   "metadata": {},
   "outputs": [
    {
     "data": {
      "text/plain": [
       "[196, 129, 225, 194, 211]"
      ]
     },
     "execution_count": 373,
     "metadata": {},
     "output_type": "execute_result"
    }
   ],
   "source": [
    "#Randomly selecting 3 paragraphs to review\n",
    "import random\n",
    "random.seed(68)\n",
    "random.sample(list(df_compare_2002[(df_compare_2002['Difference'] == 'Opposing') & (abs(df_compare_2002['HF_Score']) >0.30) & (abs(df_compare_2002['VADER_Score']) >0.30)].ParasNo),k=5)"
   ]
  },
  {
   "cell_type": "code",
   "execution_count": null,
   "id": "5ffefee6",
   "metadata": {},
   "outputs": [],
   "source": []
  },
  {
   "cell_type": "code",
   "execution_count": null,
   "id": "be6598a1",
   "metadata": {},
   "outputs": [],
   "source": [
    "#Do this for a 3 years, 3 paras each - random sample \n",
    "\n",
    "#Then see which one is better\n",
    "#Then probably do across the years and then can do some comparisons --> like the comedian one "
   ]
  }
 ],
 "metadata": {
  "kernelspec": {
   "display_name": "Python 3 (ipykernel)",
   "language": "python",
   "name": "python3"
  },
  "language_info": {
   "codemirror_mode": {
    "name": "ipython",
    "version": 3
   },
   "file_extension": ".py",
   "mimetype": "text/x-python",
   "name": "python",
   "nbconvert_exporter": "python",
   "pygments_lexer": "ipython3",
   "version": "3.9.7"
  }
 },
 "nbformat": 4,
 "nbformat_minor": 5
}
